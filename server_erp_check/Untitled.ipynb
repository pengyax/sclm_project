{
 "cells": [
  {
   "cell_type": "code",
   "execution_count": 1,
   "metadata": {},
   "outputs": [],
   "source": [
    "from sql_engine import connect\n",
    "import pandas as pd"
   ]
  },
  {
   "cell_type": "code",
   "execution_count": 2,
   "metadata": {},
   "outputs": [],
   "source": [
    "def generate_SQL(diff_day_start, diff_day_end=0):\n",
    "    WMS_SQL = f\"\"\"SELECT\n",
    "                                t1.SOREFERENCE1,\n",
    "                                t1.SOREFERENCE2,\n",
    "                                t2.SKU,\n",
    "                                t2.QTYSHIPPED,\n",
    "                                t2.QTYSHIPPED_EACH,\n",
    "                                t2.LINESTATUS,\n",
    "                                t1.ORDERTIME\n",
    "                            \t-- t3.CHANGETIME\n",
    "                            FROM\n",
    "                                WMS_USER.DOC_ORDER_HEADER t1\n",
    "                                LEFT JOIN WMS_USER.DOC_ORDER_DETAILS t2 ON t1.ORDERNO = t2.ORDERNO\n",
    "                            \t-- LEFT JOIN WMS_USER.IDX_ORDERSTATUS_LOG t3 ON t1.ORDERNO=t2.ORDERNO AND t3.STATUS IN (70, 80)\n",
    "                            WHERE\n",
    "                                t1.CUSTOMERID = '100001' \n",
    "                                AND t1.SOREFERENCE1 NOT LIKE 'SCWSA%'\n",
    "                                AND t1.SOREFERENCE1 NOT LIKE 'SCCGT%'\n",
    "                                AND TO_DATE(TO_CHAR(SYSDATE, 'yyyy-mm-dd'), 'yyyy-mm-dd')-ORDERTIME BETWEEN {diff_day_end} AND {diff_day_start}\n",
    "                                AND t2.LINESTATUS IN (70, 80, 98, 99)\n",
    "                                AND t1.CONSIGNEEID NOT IN ('谢喜艳', '郑国贤')\n",
    "                                \"\"\"\n",
    "\n",
    "    ERP_SQL = f\"\"\"\n",
    "                        SELECT\n",
    "                            a.ShipNo,\n",
    "                            a.OrderNo,\n",
    "                            d.goodsNo,\n",
    "                            e.zc_id,\n",
    "                            e.zctype,\n",
    "                            b.sendCount,\n",
    "                            b.count count,\n",
    "                            d.totalCount,\n",
    "                            a.sendtime AS sendtime,\n",
    "                            c.createShipTime,\n",
    "                            CONVERT(VARCHAR(5), a.status) status\n",
    "                        FROM\n",
    "                            SCLMERPDB_UE.dbo.DH_Order_Shipment a\n",
    "                            LEFT JOIN SCLMERPDB_UE.dbo.DH_Order_Shipments_Relation b ON a.shipNo= b.shipNo\n",
    "                            LEFT JOIN SCLMERPDB_UE.dbo.DH_Order c ON a.orderNo= c.orderNo \n",
    "                            AND b.orderNo= c.orderNo\n",
    "                            LEFT JOIN SCLMERPDB_UE.dbo.DH_Order_Detail d ON c.orderNo= d.orderNo \n",
    "                            AND b.orderDetailNo= d.orderDetailNo\n",
    "                            LEFT JOIN bidata.bidata.dbo.ZCLX e ON c.activityid = e.zc_id\n",
    "                        WHERE\n",
    "                            len( a.agentid ) > 0 \n",
    "                            AND a.isDeleted= 0 \n",
    "                            AND b.isDeleted= 0 \n",
    "                            AND c.orderstatus > 200 \n",
    "                            AND len( c.orderNo ) > 0 \n",
    "                            AND datediff( dd, ISNULL(c.firstPayTime, a.SyncScanTime), getdate( ) ) <= {diff_day_start} AND datediff( dd, ISNULL(c.firstPayTime, a.SyncScanTime), getdate( ) ) > {diff_day_end}\n",
    "                            AND a.warehouseNo IN ('SH01', 'WH01')\n",
    "                            AND a.agentName NOT IN ('谢喜艳', '郑国贤')\n",
    "                            \"\"\"\n",
    "    return WMS_SQL, ERP_SQL"
   ]
  },
  {
   "cell_type": "code",
   "execution_count": 3,
   "metadata": {},
   "outputs": [],
   "source": [
    "WMS_SQL, ERP_SQL = generate_SQL(3, 2)\n",
    "d_WMS = pd.read_sql(WMS_SQL, connect('wms'))\n",
    "d_WMS['key'] = d_WMS['SOREFERENCE1']+d_WMS['SOREFERENCE2']+d_WMS['SKU']\n",
    "d_ERP = pd.read_sql(ERP_SQL, connect())\n",
    "d_ERP['key'] = d_ERP['ShipNo']+d_ERP['OrderNo']+d_ERP['goodsNo']\n",
    "d = pd.merge(d_WMS, d_ERP, how='left', on='key')\n"
   ]
  },
  {
   "cell_type": "code",
   "execution_count": 4,
   "metadata": {},
   "outputs": [
    {
     "ename": "SyntaxError",
     "evalue": "invalid syntax (<ipython-input-4-151143313e69>, line 1)",
     "output_type": "error",
     "traceback": [
      "\u001b[1;36m  File \u001b[1;32m\"<ipython-input-4-151143313e69>\"\u001b[1;36m, line \u001b[1;32m1\u001b[0m\n\u001b[1;33m    d|\u001b[0m\n\u001b[1;37m      ^\u001b[0m\n\u001b[1;31mSyntaxError\u001b[0m\u001b[1;31m:\u001b[0m invalid syntax\n"
     ]
    }
   ],
   "source": [
    "d|"
   ]
  },
  {
   "cell_type": "code",
   "execution_count": null,
   "metadata": {},
   "outputs": [],
   "source": []
  },
  {
   "cell_type": "code",
   "execution_count": null,
   "metadata": {},
   "outputs": [],
   "source": []
  },
  {
   "cell_type": "code",
   "execution_count": null,
   "metadata": {},
   "outputs": [],
   "source": [
    "d['LINESTATUS'][d['LINESTATUS'].astype('int')>80] = '80'\n",
    "d['status'][d['status'].fillna('0').astype('int')>80] = '80'\n",
    "d['err_type'] = None\n",
    "d['temp1'] = None\n",
    "d['temp2'] = None\n",
    "d['temp3'] = None\n",
    "d['temp4'] = None\n",
    "d['temp1'][d['SOREFERENCE1'].isnull()] = 'ERP发货WMS未发货'\n",
    "d['temp2'][d['ShipNo'].isnull()] = 'WMS发货ERP未发货'\n",
    "d['diff_num'] = (d['QTYSHIPPED']-d['sendCount']).abs()\n",
    "d['temp3'][d['diff_num']>0] = '发货数量不一致'\n",
    "d['temp4'][d['LINESTATUS']!=d['status']] = '发货状态不一致'\n",
    "d = d[(d.temp1.notnull())|(d.temp2.notnull())|(d.temp3.notnull())|(d.temp4.notnull())]\n",
    "d['err_type'] = d.apply(lambda x:','.join([i for i in x[['temp1', 'temp2', 'temp3', 'temp4']] if i]), axis=1)\n",
    "d = d[[i for i in d.columns if 'temp' not in i]]\n",
    "d = d[d['err_type'].notnull()]"
   ]
  },
  {
   "cell_type": "code",
   "execution_count": null,
   "metadata": {},
   "outputs": [],
   "source": []
  },
  {
   "cell_type": "code",
   "execution_count": null,
   "metadata": {},
   "outputs": [],
   "source": []
  }
 ],
 "metadata": {
  "kernelspec": {
   "display_name": "Python 3",
   "language": "python",
   "name": "python3"
  },
  "language_info": {
   "codemirror_mode": {
    "name": "ipython",
    "version": 3
   },
   "file_extension": ".py",
   "mimetype": "text/x-python",
   "name": "python",
   "nbconvert_exporter": "python",
   "pygments_lexer": "ipython3",
   "version": "3.7.6"
  }
 },
 "nbformat": 4,
 "nbformat_minor": 4
}
