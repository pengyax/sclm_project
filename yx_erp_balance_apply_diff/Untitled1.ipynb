{
 "cells": [
  {
   "cell_type": "code",
   "execution_count": 1,
   "metadata": {},
   "outputs": [],
   "source": [
    "from sql_engine import connect\n",
    "import datetime\n",
    "import pandas as pd"
   ]
  },
  {
   "cell_type": "code",
   "execution_count": 2,
   "metadata": {},
   "outputs": [],
   "source": []
  },
  {
   "cell_type": "code",
   "execution_count": 11,
   "metadata": {},
   "outputs": [],
   "source": [
    "diff_days_start = 2\n",
    "diff_days_end = 2\n",
    "balance_apply_SQL = f'''\n",
    "\t\n",
    "SELECT\n",
    "\t\tCAST(\n",
    "\t\tt1.id AS CHAR ( 30 )) id,\n",
    "\t\tt1.trans_time,\n",
    "\t\tLEFT ( t1.trans_time, 10 ) trans_date,\n",
    "\t\tt1.trans_no SourceNo,\n",
    "\t\tCAST(\n",
    "\t\tt3.user_id AS CHAR ( 30 )) user_id,\n",
    "\t\tt3.union_id UnionNumber,\n",
    "\t\tt3.name name,\n",
    "\t\tt2.out_id activityId,\n",
    "        t2.policy_name,\n",
    "\t\tt1.title,\n",
    "\t\tt1.body,\n",
    "\tIF\n",
    "\t\t( t1.amt_trans > 0, t1.amt_trans / 100, 0 ) amt_in,\n",
    "\tIF\n",
    "\t\t( t1.amt_trans < 0, t1.amt_trans / 100, 0 ) amt_out,\n",
    "\tIF\n",
    "\t\t( t1.amt_trans > 0, t1.amt_trans / 100, 0 ) +\n",
    "\tIF\n",
    "\t\t( t1.amt_trans < 0, t1.amt_trans / 100, 0 ) money\n",
    "\tFROM\n",
    "\t\toryx_account.account_trans_record t1\n",
    "\t\tINNER JOIN oryx_policy.policy t2 ON t1.policy_id = t2.policy_id\n",
    "\t\tINNER JOIN oryx_agent.agent_info t3 ON t1.customer_id = t3.user_id\n",
    "\t\tleft join oryx_bi.zclx t6 on t2.out_id = t6.zc_id\n",
    "\t\t\n",
    "\tWHERE\n",
    "\t\tt1.company_id IN ( 12, 979 ) \n",
    "\t\tAND t6.ActivityCWTypeNo in (1,2)\n",
    "\t\tand t2.state = 1\n",
    "\t\tAND t1.customer_type = 0 \n",
    "\t\tAND t1.account_type = 0 \n",
    "\t\tAND ( t1.type NOT IN ( 'pay', 'refund' ) OR t1.title = '余额申请单' ) \n",
    "\t\tAND t1.title NOT IN ( '历史订单取消发货单余额退款', '车票审核补报上账', '历史订单余额退款', '车票审核报销上账' ) \n",
    "\t\tAND DATEDIFF( NOW(), t1.trans_time )<={diff_days_start} AND DATEDIFF(NOW(), t1.trans_time)>={diff_days_end}\n",
    "\t\tAND t1.policy_id IS NOT NULL \n",
    "\t\tAND ( t1.remark NOT LIKE '%%测试%%' OR t1.remark IS NULL ) \n",
    "\t\tand title = '余额申请单'\n",
    "\t\tAND t3.union_id not in ('CM66381516','CM00006317','CM00007650')\n",
    "        '''"
   ]
  },
  {
   "cell_type": "code",
   "execution_count": 12,
   "metadata": {},
   "outputs": [],
   "source": [
    "yx_con, server = connect('yx')"
   ]
  },
  {
   "cell_type": "code",
   "execution_count": 13,
   "metadata": {},
   "outputs": [
    {
     "name": "stderr",
     "output_type": "stream",
     "text": [
      "2021-04-24 03:00:39,968| ERROR   | Socket exception: 远程主机强迫关闭了一个现有的连接。 (10054)\n",
      "2021-04-24 03:00:40,958| ERROR   | Socket exception: 远程主机强迫关闭了一个现有的连接。 (10054)\n",
      "2021-04-24 03:00:40,959| ERROR   | Socket exception: 远程主机强迫关闭了一个现有的连接。 (10054)\n"
     ]
    }
   ],
   "source": [
    "balance_apply_data = pd.read_sql(balance_apply_SQL, yx_con)"
   ]
  },
  {
   "cell_type": "code",
   "execution_count": null,
   "metadata": {},
   "outputs": [],
   "source": []
  }
 ],
 "metadata": {
  "kernelspec": {
   "display_name": "Python 3",
   "language": "python",
   "name": "python3"
  },
  "language_info": {
   "codemirror_mode": {
    "name": "ipython",
    "version": 3
   },
   "file_extension": ".py",
   "mimetype": "text/x-python",
   "name": "python",
   "nbconvert_exporter": "python",
   "pygments_lexer": "ipython3",
   "version": "3.7.6"
  }
 },
 "nbformat": 4,
 "nbformat_minor": 4
}
