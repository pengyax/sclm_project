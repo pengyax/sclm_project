{
 "cells": [
  {
   "cell_type": "code",
   "execution_count": 2,
   "metadata": {},
   "outputs": [],
   "source": [
    "import pandas as pd\n",
    "import numpy as np\n",
    "from sql_engine import connect"
   ]
  },
  {
   "cell_type": "code",
   "execution_count": 3,
   "metadata": {},
   "outputs": [],
   "source": [
    "conn_scerp = connect(\"new_ERP\")\n",
    "conn_scdrp = connect(\"drp\")\n",
    "conn_bi = connect(\"bidata\")"
   ]
  },
  {
   "cell_type": "code",
   "execution_count": 4,
   "metadata": {},
   "outputs": [],
   "source": [
    "from pyecharts import options as opts\n",
    "from pyecharts.charts import Bar,Line,Grid,Pie,Funnel\n",
    "from pyecharts.faker import Faker\n",
    "from pyecharts.globals import ThemeType\n",
    "from pyecharts.commons.utils import JsCode"
   ]
  },
  {
   "cell_type": "code",
   "execution_count": 5,
   "metadata": {},
   "outputs": [],
   "source": [
    "sql_customer = \"\"\"\n",
    "SELECT\n",
    "\ta.UnionNumber,\n",
    "\ta.RealName,\n",
    "\ta.AgentLevelName,\n",
    "\tCONVERT ( VARCHAR ( 10 ),a.UpTime, 23 ) AS UpTime,\n",
    "CASE\n",
    "\t\ta.LowerStatus \n",
    "\t\tWHEN 1 THEN\n",
    "\t\t'正常' \n",
    "\t\tWHEN 2 THEN\n",
    "\t\t'降级' \n",
    "\t\tWHEN 3 THEN\n",
    "\t\t'清退' \n",
    "\t\tWHEN 4 THEN\n",
    "\t\t'冻结' ELSE '待补充' \n",
    "\tEND AS LowerStatus,\n",
    "\td.official_name as TopUserName,\n",
    "\tc.AllianceName,\n",
    "\tb.Level,\n",
    "\ta.RegionalDirectorName,\n",
    "\ta.RegionManagerName,\n",
    "\ta.CustomerServiceName,\n",
    "\ta.CustomerServiceAreaName,\n",
    "\ta.CustomerServiceManagerName \n",
    "FROM\n",
    "\tb_UnionUserInfo_FromDRP a\n",
    "\tLEFT JOIN bidata.bidata.dbo.Active_Official_Relation d ON a.TopUserID = d.official_UN\n",
    "LEFT JOIN ( SELECT\n",
    "\ta.unionno,\n",
    "\ta.level \n",
    "FROM\n",
    "\tbidata.bidata.dbo.WS_Customer_Level a,\n",
    "\t( SELECT unionno, MAX ( Version ) as version FROM bidata.bidata.dbo.WS_Customer_Level GROUP BY unionno ) b\t\n",
    "WHERE\n",
    "\ta.unionno = b.unionno \n",
    "\tAND a.Version = b.version ) b on a.UnionNumber = b.unionno\n",
    "LEFT JOIN\n",
    "\tbidata.bidata.dbo.IMP_Alter_Alliancename c ON a.AllianceName = c.AllianceName_full\n",
    "WHERE\n",
    "\t( LowerStatus < 5 OR LowerStatus IS NULL ) \n",
    "\t\n",
    "\"\"\""
   ]
  },
  {
   "cell_type": "code",
   "execution_count": 6,
   "metadata": {},
   "outputs": [],
   "source": [
    "sql_customer_balance = \"\"\"SELECT\n",
    "\tc.unionnumber,\n",
    "\tSUM ( CAST ( amt_total AS DECIMAL ( 18, 2 ) ) ) / 1000000 as balance \n",
    "FROM\n",
    "\tSCLM_DRPDB.dbo.[A_SybBalanceStock] a\n",
    "\tLEFT JOIN bidata.bidata.dbo.ZCLX b ON a.activityid = b.zc_id\n",
    "\tLEFT JOIN SCLM_DRPDB.[dbo].b_UserInfo c ON a.userid = c.f_id \n",
    "WHERE\n",
    "\tCreateTime = ( SELECT MAX ( CreateTime ) FROM SCLM_DRPDB.[dbo].[A_SybBalanceStock] ) \n",
    "\tAND b.zctype = '混拿回款' \n",
    "\tAND amt_total != 0 \n",
    "GROUP BY\n",
    "\tc.unionnumber\"\"\""
   ]
  },
  {
   "cell_type": "code",
   "execution_count": 7,
   "metadata": {},
   "outputs": [],
   "source": [
    "year1=\"2019\"\n",
    "year2=\"2021\"\n",
    "month1,month2 = \"03\",\"03\"\n",
    "var = \"7\"\n",
    "sql_returned_ship_year = f\"\"\"SELECT \n",
    "\tUnionNumber,\n",
    "\tsellername,\n",
    "\tmonth,\n",
    "\tsum(returned_money) as returned_money,\n",
    "\tsum(ship_money) as ship_money\n",
    "FROM\n",
    "(\n",
    "SELECT\n",
    "\tUnionNumber,\n",
    "\tsellername,\n",
    "\tCONVERT ( VARCHAR ( {var} ), DateNum, 23 ) AS MONTH,\n",
    "\tSUM ( returned_money + JK_returned_money ) AS returned_money,\n",
    "\tSUM ( money + JK_money ) AS ship_money \n",
    "FROM\n",
    "\tbidata.bidata.dbo.InterMediate_WS_agent_zc_daily a\n",
    "\tLEFT JOIN bidata.bidata.dbo.ZCLX b ON a.zc_id = b.zc_id \n",
    "WHERE\n",
    "\tDateNum BETWEEN '{year1}-{month1}-01' AND '{year2}-{month2}-31' \n",
    "\n",
    "\tAND b.zctype = '混拿回款' \n",
    "GROUP BY\n",
    "\tUnionNumber,sellername,\n",
    "\tCONVERT ( VARCHAR ( {var} ), DateNum, 23 )\n",
    "\t-- bi每天备份的回款数据，备份的是前一天\n",
    "UNION ALL\n",
    "\n",
    "SELECT\n",
    "\tb.UnionNumber,\n",
    "\ta.sellername,\n",
    "\tCONVERT ( VARCHAR ( {var} ), GETDATE(), 23 ) AS MONTH,\n",
    "\tSUM ( flowprice ) AS money,\n",
    "\t0 AS ship_money\n",
    "FROM\n",
    "\t(\n",
    "\tSELECT\n",
    "\t\tagentID,\n",
    "\t\tsellername,\n",
    "\t\tSUM ( ( InValue - OutValue ) / 10000 ) AS flowprice \n",
    "\tFROM\n",
    "\t\tdbo.DH_BalanceApply a\n",
    "\t\t-- 三草ERP回款\n",
    "\t\tLEFT JOIN [bidata].[bidata].dbo.ZCLX b \tON a.ActivityID = b.zc_id\n",
    "\tWHERE\n",
    "\t\tzctype = '混拿回款'\n",
    "\t\tAND status = 1 \n",
    "\t\tAND Deleted = 0 \n",
    "\t\tAND (\n",
    "\t\t\tItem IN ( '货物预存款', '客户余额互转', '余额清理', '政策余额充值', '政策余额转款', '三合一转款', '全品牌转出','全品牌A转B', '代理清算', '卡位收支', '全品牌转入', '全品牌转款' ) \n",
    "\t\t\tOR ( Item IN ( '政策赠送', '退赠送金额' ) AND ActivityName LIKE '%意向金%' ) \n",
    "\t\t) \n",
    "\t\tAND CONVERT(varchar(10),auditime, 120 ) between '{year1}-{month1}-01' AND '{year2}-{month2}-31'\n",
    "\t\tAND DATEDIFF(dd, auditime, getdate()) = 0\n",
    "\n",
    "\tGROUP BY\n",
    "\t\tagentID,sellername\n",
    "\tUNION ALL\n",
    "\tSELECT\n",
    "\t\tagentID,\n",
    "\t\tsellername,\n",
    "\t\tSUM ( ( InValue - OutValue ) / 10000 ) AS flowprice \n",
    "\tFROM\n",
    "\t\tJKERPDB_UE.dbo.DH_BalanceApply a \n",
    "\t\t-- 健康ERP回款\n",
    "\t\tLEFT JOIN [bidata].[bidata].dbo.ZCLX b ON a.ActivityID = b.zc_id \n",
    "\tWHERE\n",
    "\t\tzctype = '混拿回款'\n",
    "\t\tAND status = 1 \n",
    "\t\tAND Deleted = 0 \n",
    "\t\tAND (\n",
    "\t\t\tItem IN ( '货物预存款', '客户余额互转', '余额清理', '政策余额充值', '政策余额转款', '三合一转款', '全品牌转出','全品牌A转B', '代理清算', '卡位收支', '全品牌转入', '全品牌转款' ) \n",
    "\t\t\tOR ( Item IN ( '政策赠送', '退赠送金额' ) AND ActivityName LIKE '%意向金%' ) \n",
    "\t\t) \n",
    "\t\tAND CONVERT(varchar(10),auditime, 120 ) between '{year1}-{month1}-01' AND '{year2}-{month2}-31'\n",
    "\t\tAND DATEDIFF(dd, auditime, getdate()) = 0\n",
    "\n",
    "\tGROUP BY\n",
    "\t\tagentID,sellername\n",
    "\t) a\n",
    "\tLEFT JOIN dbo.DH_UserInfo b ON a.agentid = b.id\n",
    "GROUP BY\n",
    "\tb.UnionNumber,a.sellername\n",
    "UNION ALL\n",
    "\n",
    "-- =====================发货款\n",
    "SELECT\n",
    "\tb.UnionNumber,\n",
    "\ta.sellername,\n",
    "\tCONVERT ( VARCHAR ( {var} ), GETDATE(), 23 ) AS MONTH,\n",
    "\t0 as money,\n",
    "\tSUM ( money ) AS ship_money \n",
    "FROM\n",
    "\t(\n",
    "\tSELECT\n",
    "\t\ta.agentid,\n",
    "\t\te.sellername,\n",
    "\t\tSUM ( ( d.totalAmount- isnull( d.apportionAmount, 0 ) ) / totalCount * b.count ) / 10000 AS money \n",
    "\tFROM\n",
    "\t\tdbo.DH_Order_Shipment a\n",
    "\t\tLEFT JOIN dbo.DH_Order_Shipments_Relation b ON a.shipNo= b.shipNo\n",
    "\t\tLEFT JOIN dbo.DH_Order c ON a.orderNo= c.orderNo AND b.orderNo= c.orderNo\n",
    "\t\tLEFT JOIN dbo.DH_Order_Detail d ON c.orderNo= d.orderNo AND b.orderDetailNo= d.orderDetailNo\n",
    "\t\tLEFT JOIN bidata.bidata.dbo.ZCLX e ON c.activityid = e.zc_id \n",
    "\tWHERE\n",
    "\t\ta.status= 80 \n",
    "\t\tAND len( a.agentid ) > 0 \n",
    "\t\tAND a.isDeleted= 0 \n",
    "\t\tAND b.isDeleted= 0 \n",
    "\t\tAND c.orderstatus > 200 \n",
    "\t\tAND len( c.orderNo ) > 0 \n",
    "\t\tAND e.zctype = '混拿回款' \n",
    "\t\tAND CONVERT ( VARCHAR ( 10 ), a.sendtime, 23 ) BETWEEN '{year1}-{month1}-01' AND '{year2}-{month2}-31'\n",
    "\t\tAND DATEDIFF(dd, a.sendtime, getdate()) = 0\n",
    "\tGROUP BY\n",
    "\t\ta.agentid,e.sellername\n",
    "\t\t\n",
    "-- ==========================ERP发货款\n",
    "\tUNION ALL\n",
    "\t\n",
    "\t--==================减去退货款\n",
    "\tSELECT\n",
    "\t\tb.AgentId,\n",
    "\t\tc.sellername,\n",
    "\t\tSUM ( drawbackvalue ) /- 10000 AS money \n",
    "\tFROM\n",
    "\t\t(\n",
    "\t\tSELECT\n",
    "\t\t\tAfterNo,\n",
    "\t\t\tdrawbackvalue \n",
    "\t\tFROM\n",
    "\t\t\tdbo.DH_AfterSale_Details \n",
    "\t\tWHERE\n",
    "\t\t\trefuntype = '退货' \n",
    "\t\t\tAND CONVERT ( VARCHAR ( 10 ), auditeTimeStorage, 120 ) BETWEEN '{year1}-{month1}-01' AND '{year2}-{month2}-31'  \n",
    "\t\t\tAND DATEDIFF(dd, auditeTimeStorage, getdate()) = 0\n",
    "\t\t) a\n",
    "\t\tLEFT JOIN ( SELECT agentId, AfterNo, activityid FROM dbo.DH_AfterSale WHERE refundFlag = 88 ) b ON a.AfterNo = b.AfterNo\n",
    "\t\tLEFT JOIN bidata.bidata.dbo.ZCLX c ON b.activityid = c.zc_id \n",
    "\tWHERE\n",
    "\t\tzctype = '混拿回款' \n",
    "\n",
    "\tGROUP BY\n",
    "\t\tb.AgentId,c.sellername\n",
    "\t) a\n",
    "\tLEFT JOIN dbo.DH_UserInfo b ON a.agentid = b.id \n",
    "GROUP BY\n",
    "\tb.UnionNumber,a.sellername\n",
    "\t) a\n",
    "\tGROUP BY\n",
    "\t\tUnionNumber,sellername,\n",
    "\t\tmonth\n",
    "ORDER BY\n",
    "\tmonth,\n",
    "\tUnionNumber\"\"\""
   ]
  },
  {
   "cell_type": "markdown",
   "metadata": {},
   "source": [
    "# 1. 回款分析\n"
   ]
  },
  {
   "cell_type": "markdown",
   "metadata": {},
   "source": [
    "## 1.1 年周期回款分析"
   ]
  },
  {
   "cell_type": "markdown",
   "metadata": {},
   "source": [
    "#### 1.1.1 数据准备"
   ]
  },
  {
   "source": [
    "**1) 基础表提取**\n",
    "- 提取代理信息数据\n",
    "- 提取余额数据\n",
    "- 提取年周期回款发货金额数据\n"
   ],
   "cell_type": "markdown",
   "metadata": {}
  },
  {
   "cell_type": "code",
   "execution_count": 8,
   "metadata": {},
   "outputs": [],
   "source": [
    "df_customer_info = pd.read_sql(sql_customer,conn_scerp)\n",
    "df_customer_balance = pd.read_sql(sql_customer_balance,conn_scdrp)\n",
    "df_returned_ship_year = pd.read_sql(sql_returned_ship_year,conn_scerp)"
   ]
  },
  {
   "cell_type": "code",
   "execution_count": 9,
   "metadata": {},
   "outputs": [
    {
     "output_type": "execute_result",
     "data": {
      "text/plain": [
       "  UnionNumber RealName AgentLevelName      UpTime LowerStatus TopUserName  \\\n",
       "0  CM00001068      冯桥娥          全品牌总代  2018-02-25          正常         郑会连   \n",
       "1  CM00001252      胡红梅          全品牌总代  2018-02-26          正常         孙兴宏   \n",
       "2  CM00003028       蒋娜          全品牌总代  2019-02-14          正常         禹明鑫   \n",
       "3  CM00002402       但佳           护肤总代  2016-05-03          清退          袁芬   \n",
       "4  CM00005035      王聪颖          养面膜总代  2019-06-29          正常          王超   \n",
       "\n",
       "  AllianceName Level RegionalDirectorName RegionManagerName  \\\n",
       "0           黑马    B类                  李海艳                官露   \n",
       "1           女王    C类                   官瑞               徐元江   \n",
       "2           明星    C类                   官瑞               徐元江   \n",
       "3           卓彩  None                  李海艳                陈思   \n",
       "4           卓彩  None                  李海艳                陈思   \n",
       "\n",
       "  CustomerServiceName CustomerServiceAreaName CustomerServiceManagerName  \n",
       "0                 郭思梦                      崔颖                         张妍  \n",
       "1                  陈琼                     郑雄文                        余芬芬  \n",
       "2                  胡冰                    鲜于开迪                        余芬芬  \n",
       "3                  王弯                      肖建                         徐莉  \n",
       "4                 胡慧敏                      焦慧                         徐莉  "
      ],
      "text/html": "<div>\n<style scoped>\n    .dataframe tbody tr th:only-of-type {\n        vertical-align: middle;\n    }\n\n    .dataframe tbody tr th {\n        vertical-align: top;\n    }\n\n    .dataframe thead th {\n        text-align: right;\n    }\n</style>\n<table border=\"1\" class=\"dataframe\">\n  <thead>\n    <tr style=\"text-align: right;\">\n      <th></th>\n      <th>UnionNumber</th>\n      <th>RealName</th>\n      <th>AgentLevelName</th>\n      <th>UpTime</th>\n      <th>LowerStatus</th>\n      <th>TopUserName</th>\n      <th>AllianceName</th>\n      <th>Level</th>\n      <th>RegionalDirectorName</th>\n      <th>RegionManagerName</th>\n      <th>CustomerServiceName</th>\n      <th>CustomerServiceAreaName</th>\n      <th>CustomerServiceManagerName</th>\n    </tr>\n  </thead>\n  <tbody>\n    <tr>\n      <th>0</th>\n      <td>CM00001068</td>\n      <td>冯桥娥</td>\n      <td>全品牌总代</td>\n      <td>2018-02-25</td>\n      <td>正常</td>\n      <td>郑会连</td>\n      <td>黑马</td>\n      <td>B类</td>\n      <td>李海艳</td>\n      <td>官露</td>\n      <td>郭思梦</td>\n      <td>崔颖</td>\n      <td>张妍</td>\n    </tr>\n    <tr>\n      <th>1</th>\n      <td>CM00001252</td>\n      <td>胡红梅</td>\n      <td>全品牌总代</td>\n      <td>2018-02-26</td>\n      <td>正常</td>\n      <td>孙兴宏</td>\n      <td>女王</td>\n      <td>C类</td>\n      <td>官瑞</td>\n      <td>徐元江</td>\n      <td>陈琼</td>\n      <td>郑雄文</td>\n      <td>余芬芬</td>\n    </tr>\n    <tr>\n      <th>2</th>\n      <td>CM00003028</td>\n      <td>蒋娜</td>\n      <td>全品牌总代</td>\n      <td>2019-02-14</td>\n      <td>正常</td>\n      <td>禹明鑫</td>\n      <td>明星</td>\n      <td>C类</td>\n      <td>官瑞</td>\n      <td>徐元江</td>\n      <td>胡冰</td>\n      <td>鲜于开迪</td>\n      <td>余芬芬</td>\n    </tr>\n    <tr>\n      <th>3</th>\n      <td>CM00002402</td>\n      <td>但佳</td>\n      <td>护肤总代</td>\n      <td>2016-05-03</td>\n      <td>清退</td>\n      <td>袁芬</td>\n      <td>卓彩</td>\n      <td>None</td>\n      <td>李海艳</td>\n      <td>陈思</td>\n      <td>王弯</td>\n      <td>肖建</td>\n      <td>徐莉</td>\n    </tr>\n    <tr>\n      <th>4</th>\n      <td>CM00005035</td>\n      <td>王聪颖</td>\n      <td>养面膜总代</td>\n      <td>2019-06-29</td>\n      <td>正常</td>\n      <td>王超</td>\n      <td>卓彩</td>\n      <td>None</td>\n      <td>李海艳</td>\n      <td>陈思</td>\n      <td>胡慧敏</td>\n      <td>焦慧</td>\n      <td>徐莉</td>\n    </tr>\n  </tbody>\n</table>\n</div>"
     },
     "metadata": {},
     "execution_count": 9
    }
   ],
   "source": [
    "df_customer_info.head()"
   ]
  },
  {
   "cell_type": "code",
   "execution_count": 10,
   "metadata": {},
   "outputs": [
    {
     "output_type": "execute_result",
     "data": {
      "text/plain": [
       "  unionnumber    balance\n",
       "0  CM00006198   2.285200\n",
       "1  CM00003105   6.076860\n",
       "2  CM00001235  12.906200\n",
       "3  CM00004969   0.049400\n",
       "4  CM00002122   0.464022"
      ],
      "text/html": "<div>\n<style scoped>\n    .dataframe tbody tr th:only-of-type {\n        vertical-align: middle;\n    }\n\n    .dataframe tbody tr th {\n        vertical-align: top;\n    }\n\n    .dataframe thead th {\n        text-align: right;\n    }\n</style>\n<table border=\"1\" class=\"dataframe\">\n  <thead>\n    <tr style=\"text-align: right;\">\n      <th></th>\n      <th>unionnumber</th>\n      <th>balance</th>\n    </tr>\n  </thead>\n  <tbody>\n    <tr>\n      <th>0</th>\n      <td>CM00006198</td>\n      <td>2.285200</td>\n    </tr>\n    <tr>\n      <th>1</th>\n      <td>CM00003105</td>\n      <td>6.076860</td>\n    </tr>\n    <tr>\n      <th>2</th>\n      <td>CM00001235</td>\n      <td>12.906200</td>\n    </tr>\n    <tr>\n      <th>3</th>\n      <td>CM00004969</td>\n      <td>0.049400</td>\n    </tr>\n    <tr>\n      <th>4</th>\n      <td>CM00002122</td>\n      <td>0.464022</td>\n    </tr>\n  </tbody>\n</table>\n</div>"
     },
     "metadata": {},
     "execution_count": 10
    }
   ],
   "source": [
    "df_customer_balance.head()"
   ]
  },
  {
   "cell_type": "code",
   "execution_count": 11,
   "metadata": {},
   "outputs": [
    {
     "output_type": "execute_result",
     "data": {
      "text/plain": [
       "UnionNumber               object\n",
       "sellername                object\n",
       "month             datetime64[ns]\n",
       "returned_money           float64\n",
       "ship_money               float64\n",
       "dtype: object"
      ]
     },
     "metadata": {},
     "execution_count": 11
    }
   ],
   "source": [
    "df_returned_ship_year['month'] = pd.to_datetime(df_returned_ship_year.month,format='%Y-%m')\n",
    "df_returned_ship_year.dtypes"
   ]
  },
  {
   "cell_type": "markdown",
   "metadata": {},
   "source": [
    "- 调整回款数据时间序列"
   ]
  },
  {
   "cell_type": "code",
   "execution_count": 12,
   "metadata": {},
   "outputs": [
    {
     "output_type": "execute_result",
     "data": {
      "text/plain": [
       "       returned_money    ship_money\n",
       "count    81029.000000  81029.000000\n",
       "mean         1.873276      1.872689\n",
       "std          5.004243      3.338462\n",
       "min        -58.243600    -11.704400\n",
       "25%          0.000000      0.237100\n",
       "50%          0.000000      0.872300\n",
       "75%          2.000000      2.250000\n",
       "max        180.000000    180.360000"
      ],
      "text/html": "<div>\n<style scoped>\n    .dataframe tbody tr th:only-of-type {\n        vertical-align: middle;\n    }\n\n    .dataframe tbody tr th {\n        vertical-align: top;\n    }\n\n    .dataframe thead th {\n        text-align: right;\n    }\n</style>\n<table border=\"1\" class=\"dataframe\">\n  <thead>\n    <tr style=\"text-align: right;\">\n      <th></th>\n      <th>returned_money</th>\n      <th>ship_money</th>\n    </tr>\n  </thead>\n  <tbody>\n    <tr>\n      <th>count</th>\n      <td>81029.000000</td>\n      <td>81029.000000</td>\n    </tr>\n    <tr>\n      <th>mean</th>\n      <td>1.873276</td>\n      <td>1.872689</td>\n    </tr>\n    <tr>\n      <th>std</th>\n      <td>5.004243</td>\n      <td>3.338462</td>\n    </tr>\n    <tr>\n      <th>min</th>\n      <td>-58.243600</td>\n      <td>-11.704400</td>\n    </tr>\n    <tr>\n      <th>25%</th>\n      <td>0.000000</td>\n      <td>0.237100</td>\n    </tr>\n    <tr>\n      <th>50%</th>\n      <td>0.000000</td>\n      <td>0.872300</td>\n    </tr>\n    <tr>\n      <th>75%</th>\n      <td>2.000000</td>\n      <td>2.250000</td>\n    </tr>\n    <tr>\n      <th>max</th>\n      <td>180.000000</td>\n      <td>180.360000</td>\n    </tr>\n  </tbody>\n</table>\n</div>"
     },
     "metadata": {},
     "execution_count": 12
    }
   ],
   "source": [
    "df_returned_ship_year.describe()"
   ]
  },
  {
   "cell_type": "markdown",
   "metadata": {},
   "source": [
    "**2) 合并代理信息表和年周期余额发货数据表**"
   ]
  },
  {
   "cell_type": "code",
   "execution_count": 13,
   "metadata": {},
   "outputs": [
    {
     "output_type": "execute_result",
     "data": {
      "text/plain": [
       "  UnionNumber RealName AgentLevelName      UpTime LowerStatus TopUserName  \\\n",
       "0  CM00001068      冯桥娥          全品牌总代  2018-02-25          正常         郑会连   \n",
       "1  CM00001068      冯桥娥          全品牌总代  2018-02-25          正常         郑会连   \n",
       "2  CM00001068      冯桥娥          全品牌总代  2018-02-25          正常         郑会连   \n",
       "3  CM00001068      冯桥娥          全品牌总代  2018-02-25          正常         郑会连   \n",
       "4  CM00001068      冯桥娥          全品牌总代  2018-02-25          正常         郑会连   \n",
       "\n",
       "  AllianceName Level RegionalDirectorName RegionManagerName  \\\n",
       "0           黑马    B类                  李海艳                官露   \n",
       "1           黑马    B类                  李海艳                官露   \n",
       "2           黑马    B类                  李海艳                官露   \n",
       "3           黑马    B类                  李海艳                官露   \n",
       "4           黑马    B类                  李海艳                官露   \n",
       "\n",
       "  CustomerServiceName CustomerServiceAreaName CustomerServiceManagerName  \\\n",
       "0                 郭思梦                      崔颖                         张妍   \n",
       "1                 郭思梦                      崔颖                         张妍   \n",
       "2                 郭思梦                      崔颖                         张妍   \n",
       "3                 郭思梦                      崔颖                         张妍   \n",
       "4                 郭思梦                      崔颖                         张妍   \n",
       "\n",
       "  sellername      month  returned_money  ship_money  \n",
       "0       三草两木 2019-03-01          2.0000      1.6216  \n",
       "1       三草两木 2019-04-01         -0.9388      3.9472  \n",
       "2    三草两木全品牌 2019-04-01          9.7867      3.7888  \n",
       "3       三草两木 2019-05-01          0.0000      0.1800  \n",
       "4    三草两木全品牌 2019-05-01          0.0753      0.9948  "
      ],
      "text/html": "<div>\n<style scoped>\n    .dataframe tbody tr th:only-of-type {\n        vertical-align: middle;\n    }\n\n    .dataframe tbody tr th {\n        vertical-align: top;\n    }\n\n    .dataframe thead th {\n        text-align: right;\n    }\n</style>\n<table border=\"1\" class=\"dataframe\">\n  <thead>\n    <tr style=\"text-align: right;\">\n      <th></th>\n      <th>UnionNumber</th>\n      <th>RealName</th>\n      <th>AgentLevelName</th>\n      <th>UpTime</th>\n      <th>LowerStatus</th>\n      <th>TopUserName</th>\n      <th>AllianceName</th>\n      <th>Level</th>\n      <th>RegionalDirectorName</th>\n      <th>RegionManagerName</th>\n      <th>CustomerServiceName</th>\n      <th>CustomerServiceAreaName</th>\n      <th>CustomerServiceManagerName</th>\n      <th>sellername</th>\n      <th>month</th>\n      <th>returned_money</th>\n      <th>ship_money</th>\n    </tr>\n  </thead>\n  <tbody>\n    <tr>\n      <th>0</th>\n      <td>CM00001068</td>\n      <td>冯桥娥</td>\n      <td>全品牌总代</td>\n      <td>2018-02-25</td>\n      <td>正常</td>\n      <td>郑会连</td>\n      <td>黑马</td>\n      <td>B类</td>\n      <td>李海艳</td>\n      <td>官露</td>\n      <td>郭思梦</td>\n      <td>崔颖</td>\n      <td>张妍</td>\n      <td>三草两木</td>\n      <td>2019-03-01</td>\n      <td>2.0000</td>\n      <td>1.6216</td>\n    </tr>\n    <tr>\n      <th>1</th>\n      <td>CM00001068</td>\n      <td>冯桥娥</td>\n      <td>全品牌总代</td>\n      <td>2018-02-25</td>\n      <td>正常</td>\n      <td>郑会连</td>\n      <td>黑马</td>\n      <td>B类</td>\n      <td>李海艳</td>\n      <td>官露</td>\n      <td>郭思梦</td>\n      <td>崔颖</td>\n      <td>张妍</td>\n      <td>三草两木</td>\n      <td>2019-04-01</td>\n      <td>-0.9388</td>\n      <td>3.9472</td>\n    </tr>\n    <tr>\n      <th>2</th>\n      <td>CM00001068</td>\n      <td>冯桥娥</td>\n      <td>全品牌总代</td>\n      <td>2018-02-25</td>\n      <td>正常</td>\n      <td>郑会连</td>\n      <td>黑马</td>\n      <td>B类</td>\n      <td>李海艳</td>\n      <td>官露</td>\n      <td>郭思梦</td>\n      <td>崔颖</td>\n      <td>张妍</td>\n      <td>三草两木全品牌</td>\n      <td>2019-04-01</td>\n      <td>9.7867</td>\n      <td>3.7888</td>\n    </tr>\n    <tr>\n      <th>3</th>\n      <td>CM00001068</td>\n      <td>冯桥娥</td>\n      <td>全品牌总代</td>\n      <td>2018-02-25</td>\n      <td>正常</td>\n      <td>郑会连</td>\n      <td>黑马</td>\n      <td>B类</td>\n      <td>李海艳</td>\n      <td>官露</td>\n      <td>郭思梦</td>\n      <td>崔颖</td>\n      <td>张妍</td>\n      <td>三草两木</td>\n      <td>2019-05-01</td>\n      <td>0.0000</td>\n      <td>0.1800</td>\n    </tr>\n    <tr>\n      <th>4</th>\n      <td>CM00001068</td>\n      <td>冯桥娥</td>\n      <td>全品牌总代</td>\n      <td>2018-02-25</td>\n      <td>正常</td>\n      <td>郑会连</td>\n      <td>黑马</td>\n      <td>B类</td>\n      <td>李海艳</td>\n      <td>官露</td>\n      <td>郭思梦</td>\n      <td>崔颖</td>\n      <td>张妍</td>\n      <td>三草两木全品牌</td>\n      <td>2019-05-01</td>\n      <td>0.0753</td>\n      <td>0.9948</td>\n    </tr>\n  </tbody>\n</table>\n</div>"
     },
     "metadata": {},
     "execution_count": 13
    }
   ],
   "source": [
    "df_customer_returned_ship_year = pd.merge(df_customer_info,df_returned_ship_year,'left',on = 'UnionNumber')\n",
    "df_customer_returned_ship_year.head()"
   ]
  },
  {
   "cell_type": "code",
   "execution_count": 14,
   "metadata": {},
   "outputs": [
    {
     "output_type": "execute_result",
     "data": {
      "text/plain": [
       "       returned_money    ship_money\n",
       "count    80670.000000  80670.000000\n",
       "mean         1.880729      1.877698\n",
       "std          5.009138      3.309794\n",
       "min        -58.243600    -11.704400\n",
       "25%          0.000000      0.240050\n",
       "50%          0.000000      0.878400\n",
       "75%          2.000000      2.250000\n",
       "max        180.000000    180.360000"
      ],
      "text/html": "<div>\n<style scoped>\n    .dataframe tbody tr th:only-of-type {\n        vertical-align: middle;\n    }\n\n    .dataframe tbody tr th {\n        vertical-align: top;\n    }\n\n    .dataframe thead th {\n        text-align: right;\n    }\n</style>\n<table border=\"1\" class=\"dataframe\">\n  <thead>\n    <tr style=\"text-align: right;\">\n      <th></th>\n      <th>returned_money</th>\n      <th>ship_money</th>\n    </tr>\n  </thead>\n  <tbody>\n    <tr>\n      <th>count</th>\n      <td>80670.000000</td>\n      <td>80670.000000</td>\n    </tr>\n    <tr>\n      <th>mean</th>\n      <td>1.880729</td>\n      <td>1.877698</td>\n    </tr>\n    <tr>\n      <th>std</th>\n      <td>5.009138</td>\n      <td>3.309794</td>\n    </tr>\n    <tr>\n      <th>min</th>\n      <td>-58.243600</td>\n      <td>-11.704400</td>\n    </tr>\n    <tr>\n      <th>25%</th>\n      <td>0.000000</td>\n      <td>0.240050</td>\n    </tr>\n    <tr>\n      <th>50%</th>\n      <td>0.000000</td>\n      <td>0.878400</td>\n    </tr>\n    <tr>\n      <th>75%</th>\n      <td>2.000000</td>\n      <td>2.250000</td>\n    </tr>\n    <tr>\n      <th>max</th>\n      <td>180.000000</td>\n      <td>180.360000</td>\n    </tr>\n  </tbody>\n</table>\n</div>"
     },
     "metadata": {},
     "execution_count": 14
    }
   ],
   "source": [
    "df_customer_returned_ship_year.describe()"
   ]
  },
  {
   "cell_type": "code",
   "execution_count": 15,
   "metadata": {},
   "outputs": [
    {
     "output_type": "execute_result",
     "data": {
      "text/plain": [
       "UnionNumber                           object\n",
       "RealName                              object\n",
       "AgentLevelName                        object\n",
       "UpTime                                object\n",
       "LowerStatus                           object\n",
       "TopUserName                           object\n",
       "AllianceName                          object\n",
       "Level                                 object\n",
       "RegionalDirectorName                  object\n",
       "RegionManagerName                     object\n",
       "CustomerServiceName                   object\n",
       "CustomerServiceAreaName               object\n",
       "CustomerServiceManagerName            object\n",
       "sellername                            object\n",
       "month                         datetime64[ns]\n",
       "returned_money                       float64\n",
       "ship_money                           float64\n",
       "dtype: object"
      ]
     },
     "metadata": {},
     "execution_count": 15
    }
   ],
   "source": [
    "df_customer_returned_ship_year.dtypes"
   ]
  },
  {
   "cell_type": "code",
   "execution_count": 16,
   "metadata": {},
   "outputs": [
    {
     "output_type": "stream",
     "name": "stdout",
     "text": [
      "<class 'pandas.core.frame.DataFrame'>\nInt64Index: 81543 entries, 0 to 81542\nData columns (total 17 columns):\n #   Column                      Non-Null Count  Dtype         \n---  ------                      --------------  -----         \n 0   UnionNumber                 81543 non-null  object        \n 1   RealName                    81543 non-null  object        \n 2   AgentLevelName              81279 non-null  object        \n 3   UpTime                      80502 non-null  object        \n 4   LowerStatus                 81543 non-null  object        \n 5   TopUserName                 80941 non-null  object        \n 6   AllianceName                81084 non-null  object        \n 7   Level                       67089 non-null  object        \n 8   RegionalDirectorName        80989 non-null  object        \n 9   RegionManagerName           80989 non-null  object        \n 10  CustomerServiceName         81541 non-null  object        \n 11  CustomerServiceAreaName     81542 non-null  object        \n 12  CustomerServiceManagerName  81542 non-null  object        \n 13  sellername                  80670 non-null  object        \n 14  month                       80670 non-null  datetime64[ns]\n 15  returned_money              80670 non-null  float64       \n 16  ship_money                  80670 non-null  float64       \ndtypes: datetime64[ns](1), float64(2), object(14)\nmemory usage: 11.2+ MB\n"
     ]
    }
   ],
   "source": [
    "df_customer_returned_ship_year.info()"
   ]
  },
  {
   "cell_type": "code",
   "execution_count": 17,
   "metadata": {},
   "outputs": [
    {
     "output_type": "execute_result",
     "data": {
      "text/plain": [
       "UnionNumber                       0\n",
       "RealName                          0\n",
       "AgentLevelName                  264\n",
       "UpTime                         1041\n",
       "LowerStatus                       0\n",
       "TopUserName                     602\n",
       "AllianceName                    459\n",
       "Level                         14454\n",
       "RegionalDirectorName            554\n",
       "RegionManagerName               554\n",
       "CustomerServiceName               2\n",
       "CustomerServiceAreaName           1\n",
       "CustomerServiceManagerName        1\n",
       "sellername                      873\n",
       "month                           873\n",
       "returned_money                  873\n",
       "ship_money                      873\n",
       "dtype: int64"
      ]
     },
     "metadata": {},
     "execution_count": 17
    }
   ],
   "source": [
    "df_customer_returned_ship_year.isnull().sum()"
   ]
  },
  {
   "cell_type": "code",
   "execution_count": 18,
   "metadata": {},
   "outputs": [
    {
     "output_type": "execute_result",
     "data": {
      "text/plain": [
       "UnionNumber                   False\n",
       "RealName                      False\n",
       "AgentLevelName                 True\n",
       "UpTime                         True\n",
       "LowerStatus                   False\n",
       "TopUserName                    True\n",
       "AllianceName                   True\n",
       "Level                          True\n",
       "RegionalDirectorName           True\n",
       "RegionManagerName              True\n",
       "CustomerServiceName            True\n",
       "CustomerServiceAreaName        True\n",
       "CustomerServiceManagerName     True\n",
       "sellername                     True\n",
       "month                          True\n",
       "returned_money                 True\n",
       "ship_money                     True\n",
       "dtype: bool"
      ]
     },
     "metadata": {},
     "execution_count": 18
    }
   ],
   "source": [
    "df_customer_returned_ship_year.isnull().any()"
   ]
  },
  {
   "cell_type": "markdown",
   "metadata": {},
   "source": [
    "#### 1.1.2 年周期回款发货数据"
   ]
  },
  {
   "cell_type": "markdown",
   "metadata": {},
   "source": [
    "1) 按月聚合"
   ]
  },
  {
   "cell_type": "code",
   "execution_count": 19,
   "metadata": {},
   "outputs": [
    {
     "output_type": "execute_result",
     "data": {
      "text/plain": [
       "            returned_money  ship_money\n",
       "month                                 \n",
       "2019-03-01       5998.9628   7466.1105\n",
       "2019-04-01      14544.0383  10395.5248\n",
       "2019-05-01       1611.6110   5976.9112\n",
       "2019-06-01       9871.4899  10651.6393\n",
       "2019-07-01        476.7838   4324.1858\n",
       "2019-08-01        156.6492   2771.0794\n",
       "2019-09-01      23150.3702  13327.2100\n",
       "2019-10-01       8886.6700   9210.5764\n",
       "2019-11-01       6424.6829   5833.2421\n",
       "2019-12-01        245.4127   3910.5792\n",
       "2020-01-01       3524.2193   2665.9579\n",
       "2020-02-01         51.5151      0.0000\n",
       "2020-03-01      17877.8875   4118.6279\n",
       "2020-04-01      10992.0695  23654.6372\n",
       "2020-05-01       7125.1951   4585.9066\n",
       "2020-06-01         21.9286   3340.0414\n",
       "2020-07-01       1245.3771   2747.2665\n",
       "2020-08-01       1405.1547   2835.9645\n",
       "2020-09-01       1130.4859   1980.8331\n",
       "2020-10-01      11942.8450   8744.1362\n",
       "2020-11-01       8377.8352   3808.5087\n",
       "2020-12-01        113.1413   3555.0215\n",
       "2021-01-01       4024.9594   4022.5696\n",
       "2021-02-01        288.5413   1296.2061\n",
       "2021-03-01      12230.6082  10251.1390"
      ],
      "text/html": "<div>\n<style scoped>\n    .dataframe tbody tr th:only-of-type {\n        vertical-align: middle;\n    }\n\n    .dataframe tbody tr th {\n        vertical-align: top;\n    }\n\n    .dataframe thead th {\n        text-align: right;\n    }\n</style>\n<table border=\"1\" class=\"dataframe\">\n  <thead>\n    <tr style=\"text-align: right;\">\n      <th></th>\n      <th>returned_money</th>\n      <th>ship_money</th>\n    </tr>\n    <tr>\n      <th>month</th>\n      <th></th>\n      <th></th>\n    </tr>\n  </thead>\n  <tbody>\n    <tr>\n      <th>2019-03-01</th>\n      <td>5998.9628</td>\n      <td>7466.1105</td>\n    </tr>\n    <tr>\n      <th>2019-04-01</th>\n      <td>14544.0383</td>\n      <td>10395.5248</td>\n    </tr>\n    <tr>\n      <th>2019-05-01</th>\n      <td>1611.6110</td>\n      <td>5976.9112</td>\n    </tr>\n    <tr>\n      <th>2019-06-01</th>\n      <td>9871.4899</td>\n      <td>10651.6393</td>\n    </tr>\n    <tr>\n      <th>2019-07-01</th>\n      <td>476.7838</td>\n      <td>4324.1858</td>\n    </tr>\n    <tr>\n      <th>2019-08-01</th>\n      <td>156.6492</td>\n      <td>2771.0794</td>\n    </tr>\n    <tr>\n      <th>2019-09-01</th>\n      <td>23150.3702</td>\n      <td>13327.2100</td>\n    </tr>\n    <tr>\n      <th>2019-10-01</th>\n      <td>8886.6700</td>\n      <td>9210.5764</td>\n    </tr>\n    <tr>\n      <th>2019-11-01</th>\n      <td>6424.6829</td>\n      <td>5833.2421</td>\n    </tr>\n    <tr>\n      <th>2019-12-01</th>\n      <td>245.4127</td>\n      <td>3910.5792</td>\n    </tr>\n    <tr>\n      <th>2020-01-01</th>\n      <td>3524.2193</td>\n      <td>2665.9579</td>\n    </tr>\n    <tr>\n      <th>2020-02-01</th>\n      <td>51.5151</td>\n      <td>0.0000</td>\n    </tr>\n    <tr>\n      <th>2020-03-01</th>\n      <td>17877.8875</td>\n      <td>4118.6279</td>\n    </tr>\n    <tr>\n      <th>2020-04-01</th>\n      <td>10992.0695</td>\n      <td>23654.6372</td>\n    </tr>\n    <tr>\n      <th>2020-05-01</th>\n      <td>7125.1951</td>\n      <td>4585.9066</td>\n    </tr>\n    <tr>\n      <th>2020-06-01</th>\n      <td>21.9286</td>\n      <td>3340.0414</td>\n    </tr>\n    <tr>\n      <th>2020-07-01</th>\n      <td>1245.3771</td>\n      <td>2747.2665</td>\n    </tr>\n    <tr>\n      <th>2020-08-01</th>\n      <td>1405.1547</td>\n      <td>2835.9645</td>\n    </tr>\n    <tr>\n      <th>2020-09-01</th>\n      <td>1130.4859</td>\n      <td>1980.8331</td>\n    </tr>\n    <tr>\n      <th>2020-10-01</th>\n      <td>11942.8450</td>\n      <td>8744.1362</td>\n    </tr>\n    <tr>\n      <th>2020-11-01</th>\n      <td>8377.8352</td>\n      <td>3808.5087</td>\n    </tr>\n    <tr>\n      <th>2020-12-01</th>\n      <td>113.1413</td>\n      <td>3555.0215</td>\n    </tr>\n    <tr>\n      <th>2021-01-01</th>\n      <td>4024.9594</td>\n      <td>4022.5696</td>\n    </tr>\n    <tr>\n      <th>2021-02-01</th>\n      <td>288.5413</td>\n      <td>1296.2061</td>\n    </tr>\n    <tr>\n      <th>2021-03-01</th>\n      <td>12230.6082</td>\n      <td>10251.1390</td>\n    </tr>\n  </tbody>\n</table>\n</div>"
     },
     "metadata": {},
     "execution_count": 19
    }
   ],
   "source": [
    "df_returned_ship_year_gy = df_customer_returned_ship_year.groupby('month')[['returned_money','ship_money']].sum()\n",
    "df_returned_ship_year_gy"
   ]
  },
  {
   "cell_type": "code",
   "execution_count": 20,
   "metadata": {},
   "outputs": [
    {
     "output_type": "execute_result",
     "data": {
      "text/plain": [
       "        month  returned_money_x yoy_return  ship_money_x yoy_ship\n",
       "0  2020-03-01        17877.8875    198.02%     4118.6279  -44.84%\n",
       "1  2020-04-01        10992.0695    -24.42%    23654.6372  127.55%\n",
       "2  2020-05-01         7125.1951    342.12%     4585.9066  -23.27%\n",
       "3  2020-06-01           21.9286    -99.78%     3340.0414  -68.64%\n",
       "4  2020-07-01         1245.3771    161.20%     2747.2665  -36.47%\n",
       "5  2020-08-01         1405.1547    797.01%     2835.9645    2.34%\n",
       "6  2020-09-01         1130.4859    -95.12%     1980.8331  -85.14%\n",
       "7  2020-10-01        11942.8450     34.39%     8744.1362   -5.06%\n",
       "8  2020-11-01         8377.8352     30.40%     3808.5087  -34.71%\n",
       "9  2020-12-01          113.1413    -53.90%     3555.0215   -9.09%\n",
       "10 2021-01-01         4024.9594     14.21%     4022.5696   50.89%\n",
       "11 2021-02-01          288.5413    460.11%     1296.2061     inf%\n",
       "12 2021-03-01        12230.6082    -31.59%    10251.1390  148.90%"
      ],
      "text/html": "<div>\n<style scoped>\n    .dataframe tbody tr th:only-of-type {\n        vertical-align: middle;\n    }\n\n    .dataframe tbody tr th {\n        vertical-align: top;\n    }\n\n    .dataframe thead th {\n        text-align: right;\n    }\n</style>\n<table border=\"1\" class=\"dataframe\">\n  <thead>\n    <tr style=\"text-align: right;\">\n      <th></th>\n      <th>month</th>\n      <th>returned_money_x</th>\n      <th>yoy_return</th>\n      <th>ship_money_x</th>\n      <th>yoy_ship</th>\n    </tr>\n  </thead>\n  <tbody>\n    <tr>\n      <th>0</th>\n      <td>2020-03-01</td>\n      <td>17877.8875</td>\n      <td>198.02%</td>\n      <td>4118.6279</td>\n      <td>-44.84%</td>\n    </tr>\n    <tr>\n      <th>1</th>\n      <td>2020-04-01</td>\n      <td>10992.0695</td>\n      <td>-24.42%</td>\n      <td>23654.6372</td>\n      <td>127.55%</td>\n    </tr>\n    <tr>\n      <th>2</th>\n      <td>2020-05-01</td>\n      <td>7125.1951</td>\n      <td>342.12%</td>\n      <td>4585.9066</td>\n      <td>-23.27%</td>\n    </tr>\n    <tr>\n      <th>3</th>\n      <td>2020-06-01</td>\n      <td>21.9286</td>\n      <td>-99.78%</td>\n      <td>3340.0414</td>\n      <td>-68.64%</td>\n    </tr>\n    <tr>\n      <th>4</th>\n      <td>2020-07-01</td>\n      <td>1245.3771</td>\n      <td>161.20%</td>\n      <td>2747.2665</td>\n      <td>-36.47%</td>\n    </tr>\n    <tr>\n      <th>5</th>\n      <td>2020-08-01</td>\n      <td>1405.1547</td>\n      <td>797.01%</td>\n      <td>2835.9645</td>\n      <td>2.34%</td>\n    </tr>\n    <tr>\n      <th>6</th>\n      <td>2020-09-01</td>\n      <td>1130.4859</td>\n      <td>-95.12%</td>\n      <td>1980.8331</td>\n      <td>-85.14%</td>\n    </tr>\n    <tr>\n      <th>7</th>\n      <td>2020-10-01</td>\n      <td>11942.8450</td>\n      <td>34.39%</td>\n      <td>8744.1362</td>\n      <td>-5.06%</td>\n    </tr>\n    <tr>\n      <th>8</th>\n      <td>2020-11-01</td>\n      <td>8377.8352</td>\n      <td>30.40%</td>\n      <td>3808.5087</td>\n      <td>-34.71%</td>\n    </tr>\n    <tr>\n      <th>9</th>\n      <td>2020-12-01</td>\n      <td>113.1413</td>\n      <td>-53.90%</td>\n      <td>3555.0215</td>\n      <td>-9.09%</td>\n    </tr>\n    <tr>\n      <th>10</th>\n      <td>2021-01-01</td>\n      <td>4024.9594</td>\n      <td>14.21%</td>\n      <td>4022.5696</td>\n      <td>50.89%</td>\n    </tr>\n    <tr>\n      <th>11</th>\n      <td>2021-02-01</td>\n      <td>288.5413</td>\n      <td>460.11%</td>\n      <td>1296.2061</td>\n      <td>inf%</td>\n    </tr>\n    <tr>\n      <th>12</th>\n      <td>2021-03-01</td>\n      <td>12230.6082</td>\n      <td>-31.59%</td>\n      <td>10251.1390</td>\n      <td>148.90%</td>\n    </tr>\n  </tbody>\n</table>\n</div>"
     },
     "metadata": {},
     "execution_count": 20
    }
   ],
   "source": [
    "s1 = df_returned_ship_year_gy.copy().reset_index()\n",
    "s2 = df_returned_ship_year_gy.diff(12).reset_index()\n",
    "s = s1.merge(s2, on='month', how='inner')\n",
    "s['yoy_return'] = s['returned_money_y'] /(s['returned_money_x'] -s['returned_money_y'])\n",
    "s['yoy_ship'] = s['ship_money_y'] /(s['ship_money_x'] -s['ship_money_y'])\n",
    "s.yoy_return = s.yoy_return.apply(lambda x: format(x, '.2%'))\n",
    "s.yoy_ship = s.yoy_ship.apply(lambda x: format(x, '.2%'))\n",
    "s = s[s.returned_money_y.notnull()][['month','returned_money_x','yoy_return','ship_money_x','yoy_ship']]\n",
    "s.reset_index(drop = True)"
   ]
  },
  {
   "cell_type": "code",
   "execution_count": 21,
   "metadata": {},
   "outputs": [
    {
     "output_type": "execute_result",
     "data": {
      "text/plain": [
       "        month  returned_money_x yoy_return  ship_money_x yoy_ship\n",
       "12 2020-03-01        17877.8875    198.02%     4118.6279  -44.84%\n",
       "13 2020-04-01        10992.0695    -24.42%    23654.6372  127.55%\n",
       "14 2020-05-01         7125.1951    342.12%     4585.9066  -23.27%\n",
       "15 2020-06-01           21.9286    -99.78%     3340.0414  -68.64%\n",
       "16 2020-07-01         1245.3771    161.20%     2747.2665  -36.47%\n",
       "17 2020-08-01         1405.1547    797.01%     2835.9645    2.34%\n",
       "18 2020-09-01         1130.4859    -95.12%     1980.8331  -85.14%\n",
       "19 2020-10-01        11942.8450     34.39%     8744.1362   -5.06%\n",
       "20 2020-11-01         8377.8352     30.40%     3808.5087  -34.71%\n",
       "21 2020-12-01          113.1413    -53.90%     3555.0215   -9.09%\n",
       "22 2021-01-01         4024.9594     14.21%     4022.5696   50.89%\n",
       "23 2021-02-01          288.5413    460.11%     1296.2061     100%\n",
       "24 2021-03-01        12230.6082    -31.59%    10251.1390  148.90%"
      ],
      "text/html": "<div>\n<style scoped>\n    .dataframe tbody tr th:only-of-type {\n        vertical-align: middle;\n    }\n\n    .dataframe tbody tr th {\n        vertical-align: top;\n    }\n\n    .dataframe thead th {\n        text-align: right;\n    }\n</style>\n<table border=\"1\" class=\"dataframe\">\n  <thead>\n    <tr style=\"text-align: right;\">\n      <th></th>\n      <th>month</th>\n      <th>returned_money_x</th>\n      <th>yoy_return</th>\n      <th>ship_money_x</th>\n      <th>yoy_ship</th>\n    </tr>\n  </thead>\n  <tbody>\n    <tr>\n      <th>12</th>\n      <td>2020-03-01</td>\n      <td>17877.8875</td>\n      <td>198.02%</td>\n      <td>4118.6279</td>\n      <td>-44.84%</td>\n    </tr>\n    <tr>\n      <th>13</th>\n      <td>2020-04-01</td>\n      <td>10992.0695</td>\n      <td>-24.42%</td>\n      <td>23654.6372</td>\n      <td>127.55%</td>\n    </tr>\n    <tr>\n      <th>14</th>\n      <td>2020-05-01</td>\n      <td>7125.1951</td>\n      <td>342.12%</td>\n      <td>4585.9066</td>\n      <td>-23.27%</td>\n    </tr>\n    <tr>\n      <th>15</th>\n      <td>2020-06-01</td>\n      <td>21.9286</td>\n      <td>-99.78%</td>\n      <td>3340.0414</td>\n      <td>-68.64%</td>\n    </tr>\n    <tr>\n      <th>16</th>\n      <td>2020-07-01</td>\n      <td>1245.3771</td>\n      <td>161.20%</td>\n      <td>2747.2665</td>\n      <td>-36.47%</td>\n    </tr>\n    <tr>\n      <th>17</th>\n      <td>2020-08-01</td>\n      <td>1405.1547</td>\n      <td>797.01%</td>\n      <td>2835.9645</td>\n      <td>2.34%</td>\n    </tr>\n    <tr>\n      <th>18</th>\n      <td>2020-09-01</td>\n      <td>1130.4859</td>\n      <td>-95.12%</td>\n      <td>1980.8331</td>\n      <td>-85.14%</td>\n    </tr>\n    <tr>\n      <th>19</th>\n      <td>2020-10-01</td>\n      <td>11942.8450</td>\n      <td>34.39%</td>\n      <td>8744.1362</td>\n      <td>-5.06%</td>\n    </tr>\n    <tr>\n      <th>20</th>\n      <td>2020-11-01</td>\n      <td>8377.8352</td>\n      <td>30.40%</td>\n      <td>3808.5087</td>\n      <td>-34.71%</td>\n    </tr>\n    <tr>\n      <th>21</th>\n      <td>2020-12-01</td>\n      <td>113.1413</td>\n      <td>-53.90%</td>\n      <td>3555.0215</td>\n      <td>-9.09%</td>\n    </tr>\n    <tr>\n      <th>22</th>\n      <td>2021-01-01</td>\n      <td>4024.9594</td>\n      <td>14.21%</td>\n      <td>4022.5696</td>\n      <td>50.89%</td>\n    </tr>\n    <tr>\n      <th>23</th>\n      <td>2021-02-01</td>\n      <td>288.5413</td>\n      <td>460.11%</td>\n      <td>1296.2061</td>\n      <td>100%</td>\n    </tr>\n    <tr>\n      <th>24</th>\n      <td>2021-03-01</td>\n      <td>12230.6082</td>\n      <td>-31.59%</td>\n      <td>10251.1390</td>\n      <td>148.90%</td>\n    </tr>\n  </tbody>\n</table>\n</div>"
     },
     "metadata": {},
     "execution_count": 21
    }
   ],
   "source": [
    "s['yoy_ship'] =  s['yoy_ship'].apply(lambda x : '100%' if x =='inf%' else x )\n",
    "s"
   ]
  },
  {
   "cell_type": "markdown",
   "metadata": {},
   "source": [
    "- 月度维度下总回款和回款同比"
   ]
  },
  {
   "cell_type": "code",
   "execution_count": 22,
   "metadata": {},
   "outputs": [],
   "source": [
    "# df_returned_ship_year_gy.resample('Q').mean()"
   ]
  },
  {
   "cell_type": "markdown",
   "metadata": {},
   "source": [
    "### 1.1.3 联盟维度年周期回款发货数据"
   ]
  },
  {
   "cell_type": "code",
   "execution_count": 23,
   "metadata": {},
   "outputs": [
    {
     "output_type": "execute_result",
     "data": {
      "text/plain": [
       "                         returned_money  ship_money\n",
       "month      AllianceName                            \n",
       "2019-03-01 BOSS                523.2735    721.0313\n",
       "           其他                    0.0000      1.0078\n",
       "           北极星                 103.7992    121.1095\n",
       "           卓彩                  387.6876    601.7040\n",
       "           太阳                  184.8731    320.9992\n",
       "...                                 ...         ...\n",
       "2021-03-01 满天星                 260.5293    281.2099\n",
       "           王者                  327.1722    328.0480\n",
       "           聚微                 1376.5605   1014.5611\n",
       "           风之彩                 710.6245    550.2470\n",
       "           黑马                 1621.7766   1326.3719\n",
       "\n",
       "[316 rows x 2 columns]"
      ],
      "text/html": "<div>\n<style scoped>\n    .dataframe tbody tr th:only-of-type {\n        vertical-align: middle;\n    }\n\n    .dataframe tbody tr th {\n        vertical-align: top;\n    }\n\n    .dataframe thead th {\n        text-align: right;\n    }\n</style>\n<table border=\"1\" class=\"dataframe\">\n  <thead>\n    <tr style=\"text-align: right;\">\n      <th></th>\n      <th></th>\n      <th>returned_money</th>\n      <th>ship_money</th>\n    </tr>\n    <tr>\n      <th>month</th>\n      <th>AllianceName</th>\n      <th></th>\n      <th></th>\n    </tr>\n  </thead>\n  <tbody>\n    <tr>\n      <th rowspan=\"5\" valign=\"top\">2019-03-01</th>\n      <th>BOSS</th>\n      <td>523.2735</td>\n      <td>721.0313</td>\n    </tr>\n    <tr>\n      <th>其他</th>\n      <td>0.0000</td>\n      <td>1.0078</td>\n    </tr>\n    <tr>\n      <th>北极星</th>\n      <td>103.7992</td>\n      <td>121.1095</td>\n    </tr>\n    <tr>\n      <th>卓彩</th>\n      <td>387.6876</td>\n      <td>601.7040</td>\n    </tr>\n    <tr>\n      <th>太阳</th>\n      <td>184.8731</td>\n      <td>320.9992</td>\n    </tr>\n    <tr>\n      <th>...</th>\n      <th>...</th>\n      <td>...</td>\n      <td>...</td>\n    </tr>\n    <tr>\n      <th rowspan=\"5\" valign=\"top\">2021-03-01</th>\n      <th>满天星</th>\n      <td>260.5293</td>\n      <td>281.2099</td>\n    </tr>\n    <tr>\n      <th>王者</th>\n      <td>327.1722</td>\n      <td>328.0480</td>\n    </tr>\n    <tr>\n      <th>聚微</th>\n      <td>1376.5605</td>\n      <td>1014.5611</td>\n    </tr>\n    <tr>\n      <th>风之彩</th>\n      <td>710.6245</td>\n      <td>550.2470</td>\n    </tr>\n    <tr>\n      <th>黑马</th>\n      <td>1621.7766</td>\n      <td>1326.3719</td>\n    </tr>\n  </tbody>\n</table>\n<p>316 rows × 2 columns</p>\n</div>"
     },
     "metadata": {},
     "execution_count": 23
    }
   ],
   "source": [
    "df_AllianceName_returned_ship_year_gy = df_customer_returned_ship_year.groupby(['month','AllianceName'])[['returned_money','ship_money']].sum()\n",
    "df_AllianceName_returned_ship_year_gy"
   ]
  },
  {
   "cell_type": "code",
   "execution_count": 24,
   "metadata": {},
   "outputs": [],
   "source": [
    "def func_(df):\n",
    "    df = df.groupby('month').sum()\n",
    "    s1 = df.copy().reset_index()\n",
    "    s2 = df.diff(12).reset_index()\n",
    "    s = s1.merge(s2, on='month' , how='inner')\n",
    "    s['yoy_return'] = s['returned_money_y'] /(s['returned_money_x'] -s['returned_money_y'])\n",
    "    s['yoy_ship'] = s['ship_money_y'] /(s['ship_money_x'] -s['ship_money_y'])\n",
    "#     s.yoy_return = s.yoy_return.apply(lambda x: format(x, '.2%'))\n",
    "#     s.yoy_ship = s.yoy_ship.apply(lambda x: format(x, '.2%'))\n",
    "    s = s[s.returned_money_y.notnull()][['month','returned_money_x','yoy_return','ship_money_x','yoy_ship']]\n",
    "    s.reset_index(drop = True)\n",
    "    return s"
   ]
  },
  {
   "cell_type": "code",
   "execution_count": 25,
   "metadata": {},
   "outputs": [
    {
     "output_type": "execute_result",
     "data": {
      "text/plain": [
       "    AllianceName      month  returned_money_x  yoy_return  ship_money_x  \\\n",
       "0           BOSS 2020-03-01         1630.4152    2.115799      343.0139   \n",
       "1           BOSS 2020-04-01         1003.8390   -0.305661     2157.6967   \n",
       "2           BOSS 2020-05-01          719.3285    3.840850      534.6602   \n",
       "3           BOSS 2020-06-01            5.1035   -0.994898      385.2714   \n",
       "4           BOSS 2020-07-01          362.7708   12.367632      500.4855   \n",
       "..           ...        ...               ...         ...           ...   \n",
       "155           黑马 2020-11-01          952.6528    0.414295      484.0310   \n",
       "156           黑马 2020-12-01            1.1277   -0.972826      402.3098   \n",
       "157           黑马 2021-01-01          434.1391    0.109645      464.6047   \n",
       "158           黑马 2021-02-01           17.9678    0.478734      167.7704   \n",
       "159           黑马 2021-03-01         1621.7766   -0.413233     1326.3719   \n",
       "\n",
       "     yoy_ship  \n",
       "0   -0.524273  \n",
       "1    0.932024  \n",
       "2   -0.104618  \n",
       "3   -0.662092  \n",
       "4    0.448552  \n",
       "..        ...  \n",
       "155 -0.211160  \n",
       "156 -0.086515  \n",
       "157  0.362619  \n",
       "158       inf  \n",
       "159  2.190290  \n",
       "\n",
       "[160 rows x 6 columns]"
      ],
      "text/html": "<div>\n<style scoped>\n    .dataframe tbody tr th:only-of-type {\n        vertical-align: middle;\n    }\n\n    .dataframe tbody tr th {\n        vertical-align: top;\n    }\n\n    .dataframe thead th {\n        text-align: right;\n    }\n</style>\n<table border=\"1\" class=\"dataframe\">\n  <thead>\n    <tr style=\"text-align: right;\">\n      <th></th>\n      <th>AllianceName</th>\n      <th>month</th>\n      <th>returned_money_x</th>\n      <th>yoy_return</th>\n      <th>ship_money_x</th>\n      <th>yoy_ship</th>\n    </tr>\n  </thead>\n  <tbody>\n    <tr>\n      <th>0</th>\n      <td>BOSS</td>\n      <td>2020-03-01</td>\n      <td>1630.4152</td>\n      <td>2.115799</td>\n      <td>343.0139</td>\n      <td>-0.524273</td>\n    </tr>\n    <tr>\n      <th>1</th>\n      <td>BOSS</td>\n      <td>2020-04-01</td>\n      <td>1003.8390</td>\n      <td>-0.305661</td>\n      <td>2157.6967</td>\n      <td>0.932024</td>\n    </tr>\n    <tr>\n      <th>2</th>\n      <td>BOSS</td>\n      <td>2020-05-01</td>\n      <td>719.3285</td>\n      <td>3.840850</td>\n      <td>534.6602</td>\n      <td>-0.104618</td>\n    </tr>\n    <tr>\n      <th>3</th>\n      <td>BOSS</td>\n      <td>2020-06-01</td>\n      <td>5.1035</td>\n      <td>-0.994898</td>\n      <td>385.2714</td>\n      <td>-0.662092</td>\n    </tr>\n    <tr>\n      <th>4</th>\n      <td>BOSS</td>\n      <td>2020-07-01</td>\n      <td>362.7708</td>\n      <td>12.367632</td>\n      <td>500.4855</td>\n      <td>0.448552</td>\n    </tr>\n    <tr>\n      <th>...</th>\n      <td>...</td>\n      <td>...</td>\n      <td>...</td>\n      <td>...</td>\n      <td>...</td>\n      <td>...</td>\n    </tr>\n    <tr>\n      <th>155</th>\n      <td>黑马</td>\n      <td>2020-11-01</td>\n      <td>952.6528</td>\n      <td>0.414295</td>\n      <td>484.0310</td>\n      <td>-0.211160</td>\n    </tr>\n    <tr>\n      <th>156</th>\n      <td>黑马</td>\n      <td>2020-12-01</td>\n      <td>1.1277</td>\n      <td>-0.972826</td>\n      <td>402.3098</td>\n      <td>-0.086515</td>\n    </tr>\n    <tr>\n      <th>157</th>\n      <td>黑马</td>\n      <td>2021-01-01</td>\n      <td>434.1391</td>\n      <td>0.109645</td>\n      <td>464.6047</td>\n      <td>0.362619</td>\n    </tr>\n    <tr>\n      <th>158</th>\n      <td>黑马</td>\n      <td>2021-02-01</td>\n      <td>17.9678</td>\n      <td>0.478734</td>\n      <td>167.7704</td>\n      <td>inf</td>\n    </tr>\n    <tr>\n      <th>159</th>\n      <td>黑马</td>\n      <td>2021-03-01</td>\n      <td>1621.7766</td>\n      <td>-0.413233</td>\n      <td>1326.3719</td>\n      <td>2.190290</td>\n    </tr>\n  </tbody>\n</table>\n<p>160 rows × 6 columns</p>\n</div>"
     },
     "metadata": {},
     "execution_count": 25
    }
   ],
   "source": [
    "a = df_customer_returned_ship_year.groupby('AllianceName')[['month', 'returned_money','ship_money']].apply(func_)\n",
    "a.reset_index(inplace = True)\n",
    "a.drop(columns = 'level_1',axis = 1,inplace = True)\n",
    "a"
   ]
  },
  {
   "cell_type": "markdown",
   "metadata": {},
   "source": [
    "#### 一年周期联盟回款排行"
   ]
  },
  {
   "cell_type": "code",
   "execution_count": 26,
   "metadata": {},
   "outputs": [
    {
     "output_type": "execute_result",
     "data": {
      "text/plain": [
       "AllianceName\n",
       "明星      17354.2467\n",
       "挑战者      9920.8257\n",
       "黑马       9776.1256\n",
       "聚微       8408.5169\n",
       "BOSS     8065.7475\n",
       "卓彩       6546.3990\n",
       "女王       4510.4841\n",
       "风之彩      2994.8020\n",
       "满天星      2940.4219\n",
       "王者       2907.3592\n",
       "太阳       1624.3586\n",
       "北极星      1150.2446\n",
       "其他        370.0000\n",
       "Name: returned_money_x, dtype: float64"
      ]
     },
     "metadata": {},
     "execution_count": 26
    }
   ],
   "source": [
    "a.groupby('AllianceName').returned_money_x.sum().sort_values(ascending = False)"
   ]
  },
  {
   "cell_type": "markdown",
   "metadata": {},
   "source": [
    "#### 前五回款联盟年周期数据"
   ]
  },
  {
   "cell_type": "code",
   "execution_count": 27,
   "metadata": {},
   "outputs": [
    {
     "output_type": "execute_result",
     "data": {
      "text/plain": [
       "month\n",
       "2020-03-01    4128.7339\n",
       "2020-04-01    2899.7435\n",
       "2020-05-01    1623.5019\n",
       "2020-06-01      18.5944\n",
       "2020-07-01     210.8415\n",
       "2020-08-01     262.2691\n",
       "2020-09-01     316.6567\n",
       "2020-10-01    2740.9321\n",
       "2020-11-01    1701.4910\n",
       "2020-12-01      -1.0278\n",
       "2021-01-01     902.8719\n",
       "2021-02-01       8.0481\n",
       "2021-03-01    2541.5904\n",
       "Name: 明星, dtype: float64"
      ]
     },
     "metadata": {},
     "execution_count": 27
    }
   ],
   "source": [
    "returned_money_x =  a.pivot_table(values=['returned_money_x','yoy_return'],index= 'month',columns='AllianceName')['returned_money_x'].loc[:,['明星','挑战者','黑马','聚微','BOSS']]\n",
    "returned_money_x['明星']"
   ]
  },
  {
   "cell_type": "code",
   "execution_count": 28,
   "metadata": {},
   "outputs": [
    {
     "output_type": "execute_result",
     "data": {
      "text/plain": [
       "AllianceName        明星        挑战者        黑马        聚微        BOSS\n",
       "month                                                            \n",
       "2020-03-01    1.498270   2.511557  3.909741  1.905703    2.115799\n",
       "2020-04-01   -0.110443  -0.133304 -0.214033 -0.312028   -0.305661\n",
       "2020-05-01    4.150119   6.669680  2.930588  2.837758    3.840850\n",
       "2020-06-01   -0.991008  -1.010758 -0.996203 -0.998496   -0.994898\n",
       "2020-07-01    0.676749   2.316123  7.347688 -0.251743   12.367632\n",
       "2020-08-01    3.887846  21.588906  3.817970  4.888771  115.219501\n",
       "2020-09-01   -0.950039  -0.933073 -0.909181 -0.959879   -0.968578\n",
       "2020-10-01    0.204370   0.390093  0.361833 -0.049499    0.382868\n",
       "2020-11-01   -0.001475   0.762739  0.414295 -0.146555    0.889168\n",
       "2020-12-01   -1.007653  -0.831265 -0.972826 -1.660886    7.332259\n",
       "2021-01-01   -0.000496   0.668651  0.109645 -0.209109    0.049088\n",
       "2021-02-01    0.441743  44.871584  0.478734  0.503330  -39.846272\n",
       "2021-03-01   -0.384414   0.046443 -0.413233 -0.401748   -0.251847"
      ],
      "text/html": "<div>\n<style scoped>\n    .dataframe tbody tr th:only-of-type {\n        vertical-align: middle;\n    }\n\n    .dataframe tbody tr th {\n        vertical-align: top;\n    }\n\n    .dataframe thead th {\n        text-align: right;\n    }\n</style>\n<table border=\"1\" class=\"dataframe\">\n  <thead>\n    <tr style=\"text-align: right;\">\n      <th>AllianceName</th>\n      <th>明星</th>\n      <th>挑战者</th>\n      <th>黑马</th>\n      <th>聚微</th>\n      <th>BOSS</th>\n    </tr>\n    <tr>\n      <th>month</th>\n      <th></th>\n      <th></th>\n      <th></th>\n      <th></th>\n      <th></th>\n    </tr>\n  </thead>\n  <tbody>\n    <tr>\n      <th>2020-03-01</th>\n      <td>1.498270</td>\n      <td>2.511557</td>\n      <td>3.909741</td>\n      <td>1.905703</td>\n      <td>2.115799</td>\n    </tr>\n    <tr>\n      <th>2020-04-01</th>\n      <td>-0.110443</td>\n      <td>-0.133304</td>\n      <td>-0.214033</td>\n      <td>-0.312028</td>\n      <td>-0.305661</td>\n    </tr>\n    <tr>\n      <th>2020-05-01</th>\n      <td>4.150119</td>\n      <td>6.669680</td>\n      <td>2.930588</td>\n      <td>2.837758</td>\n      <td>3.840850</td>\n    </tr>\n    <tr>\n      <th>2020-06-01</th>\n      <td>-0.991008</td>\n      <td>-1.010758</td>\n      <td>-0.996203</td>\n      <td>-0.998496</td>\n      <td>-0.994898</td>\n    </tr>\n    <tr>\n      <th>2020-07-01</th>\n      <td>0.676749</td>\n      <td>2.316123</td>\n      <td>7.347688</td>\n      <td>-0.251743</td>\n      <td>12.367632</td>\n    </tr>\n    <tr>\n      <th>2020-08-01</th>\n      <td>3.887846</td>\n      <td>21.588906</td>\n      <td>3.817970</td>\n      <td>4.888771</td>\n      <td>115.219501</td>\n    </tr>\n    <tr>\n      <th>2020-09-01</th>\n      <td>-0.950039</td>\n      <td>-0.933073</td>\n      <td>-0.909181</td>\n      <td>-0.959879</td>\n      <td>-0.968578</td>\n    </tr>\n    <tr>\n      <th>2020-10-01</th>\n      <td>0.204370</td>\n      <td>0.390093</td>\n      <td>0.361833</td>\n      <td>-0.049499</td>\n      <td>0.382868</td>\n    </tr>\n    <tr>\n      <th>2020-11-01</th>\n      <td>-0.001475</td>\n      <td>0.762739</td>\n      <td>0.414295</td>\n      <td>-0.146555</td>\n      <td>0.889168</td>\n    </tr>\n    <tr>\n      <th>2020-12-01</th>\n      <td>-1.007653</td>\n      <td>-0.831265</td>\n      <td>-0.972826</td>\n      <td>-1.660886</td>\n      <td>7.332259</td>\n    </tr>\n    <tr>\n      <th>2021-01-01</th>\n      <td>-0.000496</td>\n      <td>0.668651</td>\n      <td>0.109645</td>\n      <td>-0.209109</td>\n      <td>0.049088</td>\n    </tr>\n    <tr>\n      <th>2021-02-01</th>\n      <td>0.441743</td>\n      <td>44.871584</td>\n      <td>0.478734</td>\n      <td>0.503330</td>\n      <td>-39.846272</td>\n    </tr>\n    <tr>\n      <th>2021-03-01</th>\n      <td>-0.384414</td>\n      <td>0.046443</td>\n      <td>-0.413233</td>\n      <td>-0.401748</td>\n      <td>-0.251847</td>\n    </tr>\n  </tbody>\n</table>\n</div>"
     },
     "metadata": {},
     "execution_count": 28
    }
   ],
   "source": [
    "yoy_return = a.pivot_table(values=['returned_money_x','yoy_return'],index= 'month',columns='AllianceName')['yoy_return'].loc[:,['明星','挑战者','黑马','聚微','BOSS']]\n",
    "yoy_return"
   ]
  },
  {
   "cell_type": "code",
   "execution_count": 29,
   "metadata": {},
   "outputs": [
    {
     "output_type": "execute_result",
     "data": {
      "text/plain": [
       "<pyecharts.render.display.HTML at 0x2889015b7c8>"
      ],
      "text/html": "\n<script>\n    require.config({\n        paths: {\n            'echarts':'https://assets.pyecharts.org/assets/echarts.min'\n        }\n    });\n</script>\n\n        <div id=\"a44e0fa5a45f4b3fb44370947da34eff\" style=\"width:1200px; height:600px;\"></div>\n\n<script>\n        require(['echarts'], function(echarts) {\n                var chart_a44e0fa5a45f4b3fb44370947da34eff = echarts.init(\n                    document.getElementById('a44e0fa5a45f4b3fb44370947da34eff'), 'light', {renderer: 'canvas'});\n                var option_a44e0fa5a45f4b3fb44370947da34eff = {\n    \"animation\": true,\n    \"animationThreshold\": 2000,\n    \"animationDuration\": 1000,\n    \"animationEasing\": \"cubicOut\",\n    \"animationDelay\": 0,\n    \"animationDurationUpdate\": 300,\n    \"animationEasingUpdate\": \"cubicOut\",\n    \"animationDelayUpdate\": 0,\n    \"series\": [\n        {\n            \"type\": \"line\",\n            \"name\": \"\\u660e\\u661f\",\n            \"connectNulls\": false,\n            \"symbolSize\": 4,\n            \"showSymbol\": true,\n            \"smooth\": false,\n            \"step\": false,\n            \"data\": [\n                [\n                    \"2020-03\",\n                    4129.0\n                ],\n                [\n                    \"2020-04\",\n                    2900.0\n                ],\n                [\n                    \"2020-05\",\n                    1624.0\n                ],\n                [\n                    \"2020-06\",\n                    19.0\n                ],\n                [\n                    \"2020-07\",\n                    211.0\n                ],\n                [\n                    \"2020-08\",\n                    262.0\n                ],\n                [\n                    \"2020-09\",\n                    317.0\n                ],\n                [\n                    \"2020-10\",\n                    2741.0\n                ],\n                [\n                    \"2020-11\",\n                    1701.0\n                ],\n                [\n                    \"2020-12\",\n                    -1.0\n                ],\n                [\n                    \"2021-01\",\n                    903.0\n                ],\n                [\n                    \"2021-02\",\n                    8.0\n                ],\n                [\n                    \"2021-03\",\n                    2542.0\n                ]\n            ],\n            \"hoverAnimation\": true,\n            \"label\": {\n                \"show\": false,\n                \"position\": \"top\",\n                \"margin\": 8\n            },\n            \"lineStyle\": {\n                \"show\": true,\n                \"width\": 1,\n                \"opacity\": 1,\n                \"curveness\": 0,\n                \"type\": \"solid\"\n            },\n            \"areaStyle\": {\n                \"opacity\": 0\n            },\n            \"zlevel\": 0,\n            \"z\": 0,\n            \"rippleEffect\": {\n                \"show\": true,\n                \"brushType\": \"stroke\",\n                \"scale\": 2.5,\n                \"period\": 4\n            }\n        },\n        {\n            \"type\": \"line\",\n            \"name\": \"\\u6311\\u6218\\u8005\",\n            \"connectNulls\": false,\n            \"symbolSize\": 4,\n            \"showSymbol\": true,\n            \"smooth\": false,\n            \"step\": false,\n            \"data\": [\n                [\n                    \"2020-03\",\n                    1850.0\n                ],\n                [\n                    \"2020-04\",\n                    1112.0\n                ],\n                [\n                    \"2020-05\",\n                    827.0\n                ],\n                [\n                    \"2020-06\",\n                    -15.0\n                ],\n                [\n                    \"2020-07\",\n                    248.0\n                ],\n                [\n                    \"2020-08\",\n                    226.0\n                ],\n                [\n                    \"2020-09\",\n                    165.0\n                ],\n                [\n                    \"2020-10\",\n                    1563.0\n                ],\n                [\n                    \"2020-11\",\n                    1245.0\n                ],\n                [\n                    \"2020-12\",\n                    1.0\n                ],\n                [\n                    \"2021-01\",\n                    716.0\n                ],\n                [\n                    \"2021-02\",\n                    46.0\n                ],\n                [\n                    \"2021-03\",\n                    1936.0\n                ]\n            ],\n            \"hoverAnimation\": true,\n            \"label\": {\n                \"show\": false,\n                \"position\": \"top\",\n                \"margin\": 8\n            },\n            \"lineStyle\": {\n                \"show\": true,\n                \"width\": 1,\n                \"opacity\": 1,\n                \"curveness\": 0,\n                \"type\": \"solid\"\n            },\n            \"areaStyle\": {\n                \"opacity\": 0\n            },\n            \"zlevel\": 0,\n            \"z\": 0,\n            \"rippleEffect\": {\n                \"show\": true,\n                \"brushType\": \"stroke\",\n                \"scale\": 2.5,\n                \"period\": 4\n            }\n        },\n        {\n            \"type\": \"line\",\n            \"name\": \"\\u9ed1\\u9a6c\",\n            \"connectNulls\": false,\n            \"symbolSize\": 4,\n            \"showSymbol\": true,\n            \"smooth\": false,\n            \"step\": false,\n            \"data\": [\n                [\n                    \"2020-03\",\n                    2764.0\n                ],\n                [\n                    \"2020-04\",\n                    1206.0\n                ],\n                [\n                    \"2020-05\",\n                    842.0\n                ],\n                [\n                    \"2020-06\",\n                    3.0\n                ],\n                [\n                    \"2020-07\",\n                    110.0\n                ],\n                [\n                    \"2020-08\",\n                    66.0\n                ],\n                [\n                    \"2020-09\",\n                    218.0\n                ],\n                [\n                    \"2020-10\",\n                    1540.0\n                ],\n                [\n                    \"2020-11\",\n                    953.0\n                ],\n                [\n                    \"2020-12\",\n                    1.0\n                ],\n                [\n                    \"2021-01\",\n                    434.0\n                ],\n                [\n                    \"2021-02\",\n                    18.0\n                ],\n                [\n                    \"2021-03\",\n                    1622.0\n                ]\n            ],\n            \"hoverAnimation\": true,\n            \"label\": {\n                \"show\": false,\n                \"position\": \"top\",\n                \"margin\": 8\n            },\n            \"lineStyle\": {\n                \"show\": true,\n                \"width\": 1,\n                \"opacity\": 1,\n                \"curveness\": 0,\n                \"type\": \"solid\"\n            },\n            \"areaStyle\": {\n                \"opacity\": 0\n            },\n            \"zlevel\": 0,\n            \"z\": 0,\n            \"rippleEffect\": {\n                \"show\": true,\n                \"brushType\": \"stroke\",\n                \"scale\": 2.5,\n                \"period\": 4\n            }\n        },\n        {\n            \"type\": \"line\",\n            \"name\": \"\\u805a\\u5fae\",\n            \"connectNulls\": false,\n            \"symbolSize\": 4,\n            \"showSymbol\": true,\n            \"smooth\": false,\n            \"step\": false,\n            \"data\": [\n                [\n                    \"2020-03\",\n                    2301.0\n                ],\n                [\n                    \"2020-04\",\n                    1410.0\n                ],\n                [\n                    \"2020-05\",\n                    828.0\n                ],\n                [\n                    \"2020-06\",\n                    2.0\n                ],\n                [\n                    \"2020-07\",\n                    47.0\n                ],\n                [\n                    \"2020-08\",\n                    113.0\n                ],\n                [\n                    \"2020-09\",\n                    101.0\n                ],\n                [\n                    \"2020-10\",\n                    1201.0\n                ],\n                [\n                    \"2020-11\",\n                    709.0\n                ],\n                [\n                    \"2020-12\",\n                    -7.0\n                ],\n                [\n                    \"2021-01\",\n                    319.0\n                ],\n                [\n                    \"2021-02\",\n                    8.0\n                ],\n                [\n                    \"2021-03\",\n                    1377.0\n                ]\n            ],\n            \"hoverAnimation\": true,\n            \"label\": {\n                \"show\": false,\n                \"position\": \"top\",\n                \"margin\": 8\n            },\n            \"lineStyle\": {\n                \"show\": true,\n                \"width\": 1,\n                \"opacity\": 1,\n                \"curveness\": 0,\n                \"type\": \"solid\"\n            },\n            \"areaStyle\": {\n                \"opacity\": 0\n            },\n            \"zlevel\": 0,\n            \"z\": 0,\n            \"rippleEffect\": {\n                \"show\": true,\n                \"brushType\": \"stroke\",\n                \"scale\": 2.5,\n                \"period\": 4\n            }\n        },\n        {\n            \"type\": \"line\",\n            \"name\": \"BOSS\",\n            \"connectNulls\": false,\n            \"symbolSize\": 4,\n            \"showSymbol\": true,\n            \"smooth\": false,\n            \"step\": false,\n            \"data\": [\n                [\n                    \"2020-03\",\n                    1630.0\n                ],\n                [\n                    \"2020-04\",\n                    1004.0\n                ],\n                [\n                    \"2020-05\",\n                    719.0\n                ],\n                [\n                    \"2020-06\",\n                    5.0\n                ],\n                [\n                    \"2020-07\",\n                    363.0\n                ],\n                [\n                    \"2020-08\",\n                    298.0\n                ],\n                [\n                    \"2020-09\",\n                    84.0\n                ],\n                [\n                    \"2020-10\",\n                    1046.0\n                ],\n                [\n                    \"2020-11\",\n                    1169.0\n                ],\n                [\n                    \"2020-12\",\n                    98.0\n                ],\n                [\n                    \"2021-01\",\n                    391.0\n                ],\n                [\n                    \"2021-02\",\n                    38.0\n                ],\n                [\n                    \"2021-03\",\n                    1220.0\n                ]\n            ],\n            \"hoverAnimation\": true,\n            \"label\": {\n                \"show\": false,\n                \"position\": \"top\",\n                \"margin\": 8\n            },\n            \"lineStyle\": {\n                \"show\": true,\n                \"width\": 1,\n                \"opacity\": 1,\n                \"curveness\": 0,\n                \"type\": \"solid\"\n            },\n            \"areaStyle\": {\n                \"opacity\": 0\n            },\n            \"zlevel\": 0,\n            \"z\": 0,\n            \"rippleEffect\": {\n                \"show\": true,\n                \"brushType\": \"stroke\",\n                \"scale\": 2.5,\n                \"period\": 4\n            }\n        }\n    ],\n    \"legend\": [\n        {\n            \"data\": [\n                \"\\u660e\\u661f\",\n                \"\\u6311\\u6218\\u8005\",\n                \"\\u9ed1\\u9a6c\",\n                \"\\u805a\\u5fae\",\n                \"BOSS\"\n            ],\n            \"selected\": {\n                \"\\u660e\\u661f\": true,\n                \"\\u6311\\u6218\\u8005\": true,\n                \"\\u9ed1\\u9a6c\": true,\n                \"\\u805a\\u5fae\": true,\n                \"BOSS\": true\n            },\n            \"show\": true,\n            \"padding\": 5,\n            \"itemGap\": 10,\n            \"itemWidth\": 25,\n            \"itemHeight\": 14\n        }\n    ],\n    \"tooltip\": {\n        \"show\": true,\n        \"trigger\": \"item\",\n        \"triggerOn\": \"mousemove|click\",\n        \"axisPointer\": {\n            \"type\": \"line\"\n        },\n        \"textStyle\": {\n            \"fontSize\": 14\n        },\n        \"borderWidth\": 0\n    },\n    \"xAxis\": [\n        {\n            \"show\": true,\n            \"scale\": false,\n            \"nameLocation\": \"end\",\n            \"nameGap\": 15,\n            \"gridIndex\": 0,\n            \"inverse\": false,\n            \"offset\": 0,\n            \"splitNumber\": 5,\n            \"minInterval\": 0,\n            \"splitLine\": {\n                \"show\": false,\n                \"lineStyle\": {\n                    \"show\": true,\n                    \"width\": 1,\n                    \"opacity\": 1,\n                    \"curveness\": 0,\n                    \"type\": \"solid\"\n                }\n            },\n            \"data\": [\n                \"2020-03\",\n                \"2020-04\",\n                \"2020-05\",\n                \"2020-06\",\n                \"2020-07\",\n                \"2020-08\",\n                \"2020-09\",\n                \"2020-10\",\n                \"2020-11\",\n                \"2020-12\",\n                \"2021-01\",\n                \"2021-02\",\n                \"2021-03\"\n            ]\n        }\n    ],\n    \"yAxis\": [\n        {\n            \"show\": true,\n            \"scale\": false,\n            \"nameLocation\": \"end\",\n            \"nameGap\": 15,\n            \"gridIndex\": 0,\n            \"inverse\": false,\n            \"offset\": 0,\n            \"splitNumber\": 5,\n            \"min\": 0,\n            \"minInterval\": 0,\n            \"splitLine\": {\n                \"show\": false,\n                \"lineStyle\": {\n                    \"show\": true,\n                    \"width\": 1,\n                    \"opacity\": 1,\n                    \"curveness\": 0,\n                    \"type\": \"solid\"\n                }\n            }\n        }\n    ],\n    \"title\": [\n        {\n            \"text\": \"\\u8054\\u76df\\u73af\\u6bd4\",\n            \"padding\": 5,\n            \"itemGap\": 10\n        }\n    ]\n};\n                chart_a44e0fa5a45f4b3fb44370947da34eff.setOption(option_a44e0fa5a45f4b3fb44370947da34eff);\n        });\n    </script>\n"
     },
     "metadata": {},
     "execution_count": 29
    }
   ],
   "source": [
    "c = (\n",
    "    Line(init_opts = opts.InitOpts(width= '1200px',height='600px',theme=ThemeType.LIGHT))\n",
    "    .add_xaxis(returned_money_x.index.strftime('%Y-%m').tolist())\n",
    "    .add_yaxis(\"明星\", round(returned_money_x.iloc[:,0]).tolist())\n",
    "    .add_yaxis(\"挑战者\", round(returned_money_x.iloc[:,1]).tolist())\n",
    "    .add_yaxis(\"黑马\", round(returned_money_x.iloc[:,2]).tolist())\n",
    "    .add_yaxis(\"聚微\", round(returned_money_x.iloc[:,3]).tolist())\n",
    "    .add_yaxis(\"BOSS\", round(returned_money_x.iloc[:,4]).tolist())\n",
    "    .set_global_opts(title_opts=opts.TitleOpts(title= '联盟环比'),yaxis_opts = opts.AxisOpts(min_= 0,is_show = True),)\n",
    "    .set_series_opts(\n",
    "            label_opts=opts.LabelOpts(is_show = False)\n",
    "    )\n",
    ")\n",
    "c.render_notebook()"
   ]
  },
  {
   "cell_type": "code",
   "execution_count": 30,
   "metadata": {},
   "outputs": [
    {
     "output_type": "execute_result",
     "data": {
      "text/plain": [
       "<pyecharts.render.display.HTML at 0x288909e2908>"
      ],
      "text/html": "\n<script>\n    require.config({\n        paths: {\n            'echarts':'https://assets.pyecharts.org/assets/echarts.min', 'westeros':'https://assets.pyecharts.org/assets/themes/westeros'\n        }\n    });\n</script>\n\n        <div id=\"1f192e51c5164343a7abde83db0c94b6\" style=\"width:1000px; height:400px;\"></div>\n\n<script>\n        require(['echarts', 'westeros'], function(echarts) {\n                var chart_1f192e51c5164343a7abde83db0c94b6 = echarts.init(\n                    document.getElementById('1f192e51c5164343a7abde83db0c94b6'), 'westeros', {renderer: 'canvas'});\n                var option_1f192e51c5164343a7abde83db0c94b6 = {\n    \"animation\": true,\n    \"animationThreshold\": 2000,\n    \"animationDuration\": 1000,\n    \"animationEasing\": \"cubicOut\",\n    \"animationDelay\": 0,\n    \"animationDurationUpdate\": 300,\n    \"animationEasingUpdate\": \"cubicOut\",\n    \"animationDelayUpdate\": 0,\n    \"series\": [\n        {\n            \"type\": \"line\",\n            \"name\": \"\\u660e\\u661f\",\n            \"connectNulls\": false,\n            \"symbolSize\": 4,\n            \"showSymbol\": true,\n            \"smooth\": false,\n            \"step\": false,\n            \"data\": [\n                [\n                    \"2020-03\",\n                    149.83\n                ],\n                [\n                    \"2020-04\",\n                    -11.04\n                ],\n                [\n                    \"2020-05\",\n                    415.01\n                ],\n                [\n                    \"2020-06\",\n                    -99.1\n                ],\n                [\n                    \"2020-07\",\n                    67.67\n                ],\n                [\n                    \"2020-08\",\n                    388.78\n                ],\n                [\n                    \"2020-09\",\n                    -95.0\n                ],\n                [\n                    \"2020-10\",\n                    20.44\n                ],\n                [\n                    \"2020-11\",\n                    -0.15\n                ],\n                [\n                    \"2020-12\",\n                    -100.77\n                ],\n                [\n                    \"2021-01\",\n                    -0.05\n                ],\n                [\n                    \"2021-02\",\n                    44.17\n                ],\n                [\n                    \"2021-03\",\n                    -38.44\n                ]\n            ],\n            \"hoverAnimation\": true,\n            \"label\": {\n                \"show\": true,\n                \"position\": \"top\",\n                \"margin\": 8,\n                \"fontSize\": 14,\n                \"formatter\": function (params) {return params.value[1]+'%'}\n            },\n            \"lineStyle\": {\n                \"show\": true,\n                \"width\": 1,\n                \"opacity\": 1,\n                \"curveness\": 0,\n                \"type\": \"solid\"\n            },\n            \"areaStyle\": {\n                \"opacity\": 0\n            },\n            \"zlevel\": 0,\n            \"z\": 0,\n            \"rippleEffect\": {\n                \"show\": true,\n                \"brushType\": \"stroke\",\n                \"scale\": 2.5,\n                \"period\": 4\n            }\n        },\n        {\n            \"type\": \"line\",\n            \"name\": \"\\u6311\\u6218\\u8005\",\n            \"connectNulls\": false,\n            \"symbolSize\": 4,\n            \"showSymbol\": true,\n            \"smooth\": false,\n            \"step\": false,\n            \"data\": [\n                [\n                    \"2020-03\",\n                    251.16\n                ],\n                [\n                    \"2020-04\",\n                    -13.33\n                ],\n                [\n                    \"2020-05\",\n                    666.97\n                ],\n                [\n                    \"2020-06\",\n                    -101.08\n                ],\n                [\n                    \"2020-07\",\n                    231.61\n                ],\n                [\n                    \"2020-08\",\n                    2158.89\n                ],\n                [\n                    \"2020-09\",\n                    -93.31\n                ],\n                [\n                    \"2020-10\",\n                    39.01\n                ],\n                [\n                    \"2020-11\",\n                    76.27\n                ],\n                [\n                    \"2020-12\",\n                    -83.13\n                ],\n                [\n                    \"2021-01\",\n                    66.87\n                ],\n                [\n                    \"2021-02\",\n                    4487.16\n                ],\n                [\n                    \"2021-03\",\n                    4.64\n                ]\n            ],\n            \"hoverAnimation\": true,\n            \"label\": {\n                \"show\": true,\n                \"position\": \"top\",\n                \"margin\": 8,\n                \"fontSize\": 14,\n                \"formatter\": function (params) {return params.value[1]+'%'}\n            },\n            \"lineStyle\": {\n                \"show\": true,\n                \"width\": 1,\n                \"opacity\": 1,\n                \"curveness\": 0,\n                \"type\": \"solid\"\n            },\n            \"areaStyle\": {\n                \"opacity\": 0\n            },\n            \"zlevel\": 0,\n            \"z\": 0,\n            \"rippleEffect\": {\n                \"show\": true,\n                \"brushType\": \"stroke\",\n                \"scale\": 2.5,\n                \"period\": 4\n            }\n        },\n        {\n            \"type\": \"line\",\n            \"name\": \"\\u9ed1\\u9a6c\",\n            \"connectNulls\": false,\n            \"symbolSize\": 4,\n            \"showSymbol\": true,\n            \"smooth\": false,\n            \"step\": false,\n            \"data\": [\n                [\n                    \"2020-03\",\n                    390.97\n                ],\n                [\n                    \"2020-04\",\n                    -21.4\n                ],\n                [\n                    \"2020-05\",\n                    293.06\n                ],\n                [\n                    \"2020-06\",\n                    -99.62\n                ],\n                [\n                    \"2020-07\",\n                    734.77\n                ],\n                [\n                    \"2020-08\",\n                    381.8\n                ],\n                [\n                    \"2020-09\",\n                    -90.92\n                ],\n                [\n                    \"2020-10\",\n                    36.18\n                ],\n                [\n                    \"2020-11\",\n                    41.43\n                ],\n                [\n                    \"2020-12\",\n                    -97.28\n                ],\n                [\n                    \"2021-01\",\n                    10.96\n                ],\n                [\n                    \"2021-02\",\n                    47.87\n                ],\n                [\n                    \"2021-03\",\n                    -41.32\n                ]\n            ],\n            \"hoverAnimation\": true,\n            \"label\": {\n                \"show\": true,\n                \"position\": \"top\",\n                \"margin\": 8,\n                \"fontSize\": 14,\n                \"formatter\": function (params) {return params.value[1]+'%'}\n            },\n            \"lineStyle\": {\n                \"show\": true,\n                \"width\": 1,\n                \"opacity\": 1,\n                \"curveness\": 0,\n                \"type\": \"solid\"\n            },\n            \"areaStyle\": {\n                \"opacity\": 0\n            },\n            \"zlevel\": 0,\n            \"z\": 0,\n            \"rippleEffect\": {\n                \"show\": true,\n                \"brushType\": \"stroke\",\n                \"scale\": 2.5,\n                \"period\": 4\n            }\n        }\n    ],\n    \"legend\": [\n        {\n            \"data\": [\n                \"\\u660e\\u661f\",\n                \"\\u6311\\u6218\\u8005\",\n                \"\\u9ed1\\u9a6c\"\n            ],\n            \"selected\": {\n                \"\\u660e\\u661f\": true,\n                \"\\u6311\\u6218\\u8005\": true,\n                \"\\u9ed1\\u9a6c\": true\n            },\n            \"show\": true,\n            \"padding\": 5,\n            \"itemGap\": 10,\n            \"itemWidth\": 25,\n            \"itemHeight\": 14\n        }\n    ],\n    \"tooltip\": {\n        \"show\": true,\n        \"trigger\": \"item\",\n        \"triggerOn\": \"mousemove|click\",\n        \"axisPointer\": {\n            \"type\": \"line\"\n        },\n        \"textStyle\": {\n            \"fontSize\": 14\n        },\n        \"borderWidth\": 0\n    },\n    \"xAxis\": [\n        {\n            \"show\": false,\n            \"scale\": false,\n            \"nameLocation\": \"end\",\n            \"nameGap\": 15,\n            \"gridIndex\": 0,\n            \"axisLabel\": {\n                \"show\": true,\n                \"position\": \"top\",\n                \"margin\": 8,\n                \"fontSize\": 14,\n                \"formatter\": \"{value} %\"\n            },\n            \"inverse\": false,\n            \"offset\": 0,\n            \"splitNumber\": 5,\n            \"minInterval\": 0,\n            \"splitLine\": {\n                \"show\": false,\n                \"lineStyle\": {\n                    \"show\": true,\n                    \"width\": 1,\n                    \"opacity\": 1,\n                    \"curveness\": 0,\n                    \"type\": \"solid\"\n                }\n            },\n            \"data\": [\n                \"2020-03\",\n                \"2020-04\",\n                \"2020-05\",\n                \"2020-06\",\n                \"2020-07\",\n                \"2020-08\",\n                \"2020-09\",\n                \"2020-10\",\n                \"2020-11\",\n                \"2020-12\",\n                \"2021-01\",\n                \"2021-02\",\n                \"2021-03\"\n            ]\n        }\n    ],\n    \"yAxis\": [\n        {\n            \"show\": true,\n            \"scale\": false,\n            \"nameLocation\": \"end\",\n            \"nameGap\": 15,\n            \"gridIndex\": 0,\n            \"axisLabel\": {\n                \"show\": true,\n                \"position\": \"top\",\n                \"margin\": 8,\n                \"fontSize\": 12,\n                \"formatter\": \"{value} %\"\n            },\n            \"inverse\": false,\n            \"offset\": 0,\n            \"splitNumber\": 5,\n            \"minInterval\": 0,\n            \"splitLine\": {\n                \"show\": false,\n                \"lineStyle\": {\n                    \"show\": true,\n                    \"width\": 1,\n                    \"opacity\": 1,\n                    \"curveness\": 0,\n                    \"type\": \"solid\"\n                }\n            }\n        }\n    ],\n    \"title\": [\n        {\n            \"text\": \"\\u8054\\u76df\\u540c\\u6bd4\",\n            \"padding\": 5,\n            \"itemGap\": 10\n        }\n    ]\n};\n                chart_1f192e51c5164343a7abde83db0c94b6.setOption(option_1f192e51c5164343a7abde83db0c94b6);\n        });\n    </script>\n"
     },
     "metadata": {},
     "execution_count": 30
    }
   ],
   "source": [
    "c = (\n",
    "    Line(init_opts = opts.InitOpts(width= '1000px',height='400px',theme=ThemeType.WESTEROS))\n",
    "    .add_xaxis(yoy_return.index.strftime('%Y-%m').tolist())\n",
    "    .add_yaxis(\"明星\", [round(n*100,2) for n in yoy_return.iloc[:,0].tolist()])\n",
    "    .add_yaxis(\"挑战者\", [round(n*100,2) for n in yoy_return.iloc[:,1].tolist()])\n",
    "    .add_yaxis(\"黑马\", [round(n*100,2) for n in yoy_return.iloc[:,2].tolist()])\n",
    "    .set_global_opts(\n",
    "            title_opts =opts.TitleOpts(title = '联盟同比'),\n",
    "            yaxis_opts=opts.AxisOpts(axislabel_opts=opts.LabelOpts(font_size = 12,formatter=\"{value} %\")),\n",
    "            xaxis_opts=opts.AxisOpts(axislabel_opts=opts.LabelOpts(font_size = 14,formatter=\"{value} %\"),is_show = False)\n",
    "    )\n",
    "    .set_series_opts(\n",
    "            label_opts=opts.LabelOpts(font_size = 14,formatter= JsCode(\"function (params) {return params.value[1]+'%'}\"))\n",
    "    )\n",
    ")\n",
    "c.render_notebook()"
   ]
  },
  {
   "cell_type": "code",
   "execution_count": 31,
   "metadata": {},
   "outputs": [
    {
     "output_type": "execute_result",
     "data": {
      "text/plain": [
       "<pyecharts.render.display.HTML at 0x28893273dc8>"
      ],
      "text/html": "\n<script>\n    require.config({\n        paths: {\n            'echarts':'https://assets.pyecharts.org/assets/echarts.min', 'wonderland':'https://assets.pyecharts.org/assets/themes/wonderland'\n        }\n    });\n</script>\n\n        <div id=\"c0c1186e60c84e67a4bf973809eb8fbc\" style=\"width:1200px; height:600px;\"></div>\n\n<script>\n        require(['echarts', 'wonderland'], function(echarts) {\n                var chart_c0c1186e60c84e67a4bf973809eb8fbc = echarts.init(\n                    document.getElementById('c0c1186e60c84e67a4bf973809eb8fbc'), 'wonderland', {renderer: 'canvas'});\n                var option_c0c1186e60c84e67a4bf973809eb8fbc = {\n    \"animation\": true,\n    \"animationThreshold\": 2000,\n    \"animationDuration\": 1000,\n    \"animationEasing\": \"cubicOut\",\n    \"animationDelay\": 0,\n    \"animationDurationUpdate\": 300,\n    \"animationEasingUpdate\": \"cubicOut\",\n    \"animationDelayUpdate\": 0,\n    \"color\": [],\n    \"series\": [\n        {\n            \"type\": \"bar\",\n            \"name\": \"\\u660e\\u661f-\\u56de\\u6b3e\\u91d1\\u989d\",\n            \"yAxisIndex\": 0,\n            \"data\": [\n                4129.0,\n                2900.0,\n                1624.0,\n                19.0,\n                211.0,\n                262.0,\n                317.0,\n                2741.0,\n                1701.0,\n                -1.0,\n                903.0,\n                8.0,\n                2542.0\n            ],\n            \"barCategoryGap\": \"20%\",\n            \"label\": {\n                \"show\": true,\n                \"position\": \"top\",\n                \"margin\": 8,\n                \"fontSize\": 14\n            },\n            \"rippleEffect\": {\n                \"show\": true,\n                \"brushType\": \"stroke\",\n                \"scale\": 2.5,\n                \"period\": 4\n            }\n        },\n        {\n            \"type\": \"bar\",\n            \"name\": \"\\u6311\\u6218\\u8005-\\u56de\\u6b3e\\u91d1\\u989d\",\n            \"yAxisIndex\": 0,\n            \"data\": [\n                1850.0,\n                1112.0,\n                827.0,\n                -15.0,\n                248.0,\n                226.0,\n                165.0,\n                1563.0,\n                1245.0,\n                1.0,\n                716.0,\n                46.0,\n                1936.0\n            ],\n            \"barCategoryGap\": \"20%\",\n            \"label\": {\n                \"show\": true,\n                \"position\": \"top\",\n                \"margin\": 8,\n                \"fontSize\": 14\n            },\n            \"rippleEffect\": {\n                \"show\": true,\n                \"brushType\": \"stroke\",\n                \"scale\": 2.5,\n                \"period\": 4\n            }\n        },\n        {\n            \"type\": \"bar\",\n            \"name\": \"\\u9ed1\\u9a6c-\\u56de\\u6b3e\\u91d1\\u989d\",\n            \"yAxisIndex\": 0,\n            \"data\": [\n                2764.0,\n                1206.0,\n                842.0,\n                3.0,\n                110.0,\n                66.0,\n                218.0,\n                1540.0,\n                953.0,\n                1.0,\n                434.0,\n                18.0,\n                1622.0\n            ],\n            \"barCategoryGap\": \"20%\",\n            \"label\": {\n                \"show\": true,\n                \"position\": \"top\",\n                \"margin\": 8,\n                \"fontSize\": 14\n            },\n            \"rippleEffect\": {\n                \"show\": true,\n                \"brushType\": \"stroke\",\n                \"scale\": 2.5,\n                \"period\": 4\n            }\n        },\n        {\n            \"type\": \"line\",\n            \"name\": \"\\u660e\\u661f-\\u56de\\u6b3e\\u540c\\u6bd4\",\n            \"connectNulls\": false,\n            \"yAxisIndex\": 1,\n            \"symbolSize\": 4,\n            \"showSymbol\": true,\n            \"smooth\": false,\n            \"step\": false,\n            \"data\": [\n                [\n                    \"2020-03\",\n                    149.83\n                ],\n                [\n                    \"2020-04\",\n                    -11.04\n                ],\n                [\n                    \"2020-05\",\n                    415.01\n                ],\n                [\n                    \"2020-06\",\n                    -99.1\n                ],\n                [\n                    \"2020-07\",\n                    67.67\n                ],\n                [\n                    \"2020-08\",\n                    388.78\n                ],\n                [\n                    \"2020-09\",\n                    -95.0\n                ],\n                [\n                    \"2020-10\",\n                    20.44\n                ],\n                [\n                    \"2020-11\",\n                    -0.15\n                ],\n                [\n                    \"2020-12\",\n                    -100.77\n                ],\n                [\n                    \"2021-01\",\n                    -0.05\n                ],\n                [\n                    \"2021-02\",\n                    44.17\n                ],\n                [\n                    \"2021-03\",\n                    -38.44\n                ]\n            ],\n            \"hoverAnimation\": true,\n            \"label\": {\n                \"show\": true,\n                \"position\": \"top\",\n                \"margin\": 8,\n                \"fontSize\": 14,\n                \"formatter\": function (params) {return params.value[1]+'%'}\n            },\n            \"lineStyle\": {\n                \"show\": true,\n                \"width\": 1,\n                \"opacity\": 1,\n                \"curveness\": 0,\n                \"type\": \"solid\"\n            },\n            \"areaStyle\": {\n                \"opacity\": 0\n            },\n            \"zlevel\": 0,\n            \"z\": 10,\n            \"rippleEffect\": {\n                \"show\": true,\n                \"brushType\": \"stroke\",\n                \"scale\": 2.5,\n                \"period\": 4\n            }\n        }\n    ],\n    \"legend\": [\n        {\n            \"data\": [\n                \"\\u660e\\u661f-\\u56de\\u6b3e\\u91d1\\u989d\",\n                \"\\u6311\\u6218\\u8005-\\u56de\\u6b3e\\u91d1\\u989d\",\n                \"\\u9ed1\\u9a6c-\\u56de\\u6b3e\\u91d1\\u989d\",\n                \"\\u660e\\u661f-\\u56de\\u6b3e\\u540c\\u6bd4\"\n            ],\n            \"selected\": {\n                \"\\u660e\\u661f-\\u56de\\u6b3e\\u91d1\\u989d\": true,\n                \"\\u6311\\u6218\\u8005-\\u56de\\u6b3e\\u91d1\\u989d\": true,\n                \"\\u9ed1\\u9a6c-\\u56de\\u6b3e\\u91d1\\u989d\": true\n            },\n            \"show\": true,\n            \"padding\": 5,\n            \"itemGap\": 10,\n            \"itemWidth\": 25,\n            \"itemHeight\": 14\n        }\n    ],\n    \"tooltip\": {\n        \"show\": true,\n        \"trigger\": \"item\",\n        \"triggerOn\": \"mousemove|click\",\n        \"axisPointer\": {\n            \"type\": \"line\"\n        },\n        \"textStyle\": {\n            \"fontSize\": 14\n        },\n        \"borderWidth\": 0\n    },\n    \"xAxis\": [\n        {\n            \"show\": true,\n            \"scale\": false,\n            \"nameLocation\": \"end\",\n            \"nameGap\": 15,\n            \"gridIndex\": 0,\n            \"axisLabel\": {\n                \"show\": true,\n                \"position\": \"top\",\n                \"rotate\": -40,\n                \"margin\": 8,\n                \"fontSize\": 12\n            },\n            \"inverse\": false,\n            \"offset\": 0,\n            \"splitNumber\": 5,\n            \"minInterval\": 0,\n            \"splitLine\": {\n                \"show\": false,\n                \"lineStyle\": {\n                    \"show\": true,\n                    \"width\": 1,\n                    \"opacity\": 1,\n                    \"curveness\": 0,\n                    \"type\": \"solid\"\n                }\n            },\n            \"data\": [\n                \"2020-03\",\n                \"2020-04\",\n                \"2020-05\",\n                \"2020-06\",\n                \"2020-07\",\n                \"2020-08\",\n                \"2020-09\",\n                \"2020-10\",\n                \"2020-11\",\n                \"2020-12\",\n                \"2021-01\",\n                \"2021-02\",\n                \"2021-03\"\n            ]\n        }\n    ],\n    \"yAxis\": [\n        {\n            \"show\": true,\n            \"scale\": false,\n            \"nameLocation\": \"end\",\n            \"nameGap\": 15,\n            \"gridIndex\": 0,\n            \"axisLine\": {\n                \"show\": false,\n                \"onZero\": true,\n                \"onZeroAxisIndex\": 0\n            },\n            \"axisLabel\": {\n                \"show\": true,\n                \"position\": \"top\",\n                \"margin\": 8,\n                \"fontSize\": 14\n            },\n            \"inverse\": false,\n            \"offset\": 0,\n            \"splitNumber\": 5,\n            \"min\": 0,\n            \"minInterval\": 0,\n            \"splitLine\": {\n                \"show\": false,\n                \"lineStyle\": {\n                    \"show\": true,\n                    \"width\": 1,\n                    \"opacity\": 1,\n                    \"curveness\": 0,\n                    \"type\": \"solid\"\n                }\n            }\n        },\n        {\n            \"type\": \"value\",\n            \"show\": true,\n            \"scale\": false,\n            \"nameLocation\": \"end\",\n            \"nameGap\": 15,\n            \"gridIndex\": 0,\n            \"axisLine\": {\n                \"show\": false,\n                \"onZero\": true,\n                \"onZeroAxisIndex\": 0\n            },\n            \"axisLabel\": {\n                \"show\": true,\n                \"position\": \"top\",\n                \"margin\": 8,\n                \"fontSize\": 14,\n                \"formatter\": \"{value} %\"\n            },\n            \"inverse\": false,\n            \"position\": \"right\",\n            \"offset\": 0,\n            \"splitNumber\": 5,\n            \"minInterval\": 0,\n            \"splitLine\": {\n                \"show\": false,\n                \"lineStyle\": {\n                    \"show\": true,\n                    \"width\": 1,\n                    \"opacity\": 1,\n                    \"curveness\": 0,\n                    \"type\": \"solid\"\n                }\n            }\n        }\n    ],\n    \"title\": [\n        {\n            \"text\": \"\\u660e\\u661f-\\u56de\\u6b3e\\u91d1\\u989d\\u548c\\u540c\\u6bd4\",\n            \"padding\": 5,\n            \"itemGap\": 10\n        }\n    ],\n    \"grid\": [\n        {\n            \"left\": \"5%\",\n            \"right\": \"20%\",\n            \"containLabel\": false\n        }\n    ]\n};\n                chart_c0c1186e60c84e67a4bf973809eb8fbc.setOption(option_c0c1186e60c84e67a4bf973809eb8fbc);\n        });\n    </script>\n"
     },
     "metadata": {},
     "execution_count": 31
    }
   ],
   "source": [
    "bar = (\n",
    "    Bar()\n",
    "    .add_xaxis(returned_money_x.index.strftime('%Y-%m').tolist())\n",
    "    .extend_axis(yaxis=opts.AxisOpts(\n",
    "        type_=\"value\", position=\"right\",axislabel_opts=opts.LabelOpts(font_size = 14,formatter=\"{value} %\"),\n",
    "        axisline_opts = opts.AxisLineOpts(is_show = False)))\n",
    "    .add_yaxis(\"明星-回款金额\", round(returned_money_x.iloc[:,0]).tolist(),yaxis_index=0)\n",
    "    .add_yaxis(\"挑战者-回款金额\", round(returned_money_x.iloc[:,1]).tolist(),yaxis_index=0)\n",
    "    .add_yaxis(\"黑马-回款金额\", round(returned_money_x.iloc[:,2]).tolist(),yaxis_index=0)\n",
    "    .set_global_opts(\n",
    "        title_opts=opts.TitleOpts(title='明星-回款金额和同比'),\n",
    "        yaxis_opts = opts.AxisOpts(min_= 0,is_show = True,axislabel_opts=opts.LabelOpts(font_size = 14),axisline_opts = opts.AxisLineOpts(is_show = False)),\n",
    "        xaxis_opts = opts.AxisOpts(axislabel_opts=opts.LabelOpts(font_size = 12,rotate = -40))\n",
    "    )\n",
    "    .set_series_opts(label_opts=opts.LabelOpts(font_size = 14))\n",
    "                    )\n",
    "line = (\n",
    "    Line()\n",
    "    .add_xaxis(yoy_return.index.strftime('%Y-%m').tolist())\n",
    "    .add_yaxis(\"明星-回款同比\", [round(n*100,2) for n in yoy_return.iloc[:,0].tolist()],yaxis_index=1,z=10)\n",
    "    .set_global_opts(\n",
    "            title_opts =opts.TitleOpts(title = '联盟同比'),\n",
    "    )\n",
    "    .set_series_opts(\n",
    "            label_opts=opts.LabelOpts(font_size = 14,formatter= JsCode(\"function (params) {return params.value[1]+'%'}\"))\n",
    "    )        \n",
    ")\n",
    "bar.overlap(line)\n",
    "grid = Grid(init_opts = opts.InitOpts(theme=ThemeType.WONDERLAND,width='1200px',height='600px'))\n",
    "grid.add(bar, opts.GridOpts(pos_left=\"5%\", pos_right=\"20%\"), is_control_axis_index=True)\n",
    "grid.render_notebook()"
   ]
  },
  {
   "cell_type": "code",
   "execution_count": null,
   "metadata": {},
   "outputs": [],
   "source": []
  },
  {
   "cell_type": "markdown",
   "metadata": {},
   "source": [
    "#### 前五回款联盟年周期同比数据"
   ]
  },
  {
   "cell_type": "code",
   "execution_count": 32,
   "metadata": {},
   "outputs": [
    {
     "output_type": "execute_result",
     "data": {
      "text/plain": [
       "   AllianceName      month  returned_money_x  yoy_return  ship_money_x  \\\n",
       "0            明星 2021-03-01         2541.5904   -0.384414     2098.2538   \n",
       "1           挑战者 2021-03-01         1935.8947    0.046443     1747.6187   \n",
       "2            黑马 2021-03-01         1621.7766   -0.413233     1326.3719   \n",
       "3            聚微 2021-03-01         1376.5605   -0.401748     1014.5611   \n",
       "4          BOSS 2021-03-01         1219.8000   -0.251847      979.5398   \n",
       "5            卓彩 2021-03-01          868.7122   -0.453732      749.2656   \n",
       "6            女王 2021-03-01          844.9088   -0.222789      665.8519   \n",
       "7           风之彩 2021-03-01          710.6245    0.296995      550.2470   \n",
       "8            王者 2021-03-01          327.1722   -0.600710      328.0480   \n",
       "9            太阳 2021-03-01          301.8940    0.000464      258.4067   \n",
       "10          满天星 2021-03-01          260.5293   -0.606576      281.2099   \n",
       "11          北极星 2021-03-01          173.1450   -0.113219      145.1623   \n",
       "12           其他 2021-03-01           40.0000         inf      100.2530   \n",
       "\n",
       "      yoy_ship  \n",
       "0     0.681586  \n",
       "1     3.418207  \n",
       "2     2.190290  \n",
       "3     0.992397  \n",
       "4     1.855685  \n",
       "5     0.835080  \n",
       "6     1.031238  \n",
       "7     4.169959  \n",
       "8     1.254323  \n",
       "9     2.834946  \n",
       "10    1.812577  \n",
       "11    1.810151  \n",
       "12  378.746212  "
      ],
      "text/html": "<div>\n<style scoped>\n    .dataframe tbody tr th:only-of-type {\n        vertical-align: middle;\n    }\n\n    .dataframe tbody tr th {\n        vertical-align: top;\n    }\n\n    .dataframe thead th {\n        text-align: right;\n    }\n</style>\n<table border=\"1\" class=\"dataframe\">\n  <thead>\n    <tr style=\"text-align: right;\">\n      <th></th>\n      <th>AllianceName</th>\n      <th>month</th>\n      <th>returned_money_x</th>\n      <th>yoy_return</th>\n      <th>ship_money_x</th>\n      <th>yoy_ship</th>\n    </tr>\n  </thead>\n  <tbody>\n    <tr>\n      <th>0</th>\n      <td>明星</td>\n      <td>2021-03-01</td>\n      <td>2541.5904</td>\n      <td>-0.384414</td>\n      <td>2098.2538</td>\n      <td>0.681586</td>\n    </tr>\n    <tr>\n      <th>1</th>\n      <td>挑战者</td>\n      <td>2021-03-01</td>\n      <td>1935.8947</td>\n      <td>0.046443</td>\n      <td>1747.6187</td>\n      <td>3.418207</td>\n    </tr>\n    <tr>\n      <th>2</th>\n      <td>黑马</td>\n      <td>2021-03-01</td>\n      <td>1621.7766</td>\n      <td>-0.413233</td>\n      <td>1326.3719</td>\n      <td>2.190290</td>\n    </tr>\n    <tr>\n      <th>3</th>\n      <td>聚微</td>\n      <td>2021-03-01</td>\n      <td>1376.5605</td>\n      <td>-0.401748</td>\n      <td>1014.5611</td>\n      <td>0.992397</td>\n    </tr>\n    <tr>\n      <th>4</th>\n      <td>BOSS</td>\n      <td>2021-03-01</td>\n      <td>1219.8000</td>\n      <td>-0.251847</td>\n      <td>979.5398</td>\n      <td>1.855685</td>\n    </tr>\n    <tr>\n      <th>5</th>\n      <td>卓彩</td>\n      <td>2021-03-01</td>\n      <td>868.7122</td>\n      <td>-0.453732</td>\n      <td>749.2656</td>\n      <td>0.835080</td>\n    </tr>\n    <tr>\n      <th>6</th>\n      <td>女王</td>\n      <td>2021-03-01</td>\n      <td>844.9088</td>\n      <td>-0.222789</td>\n      <td>665.8519</td>\n      <td>1.031238</td>\n    </tr>\n    <tr>\n      <th>7</th>\n      <td>风之彩</td>\n      <td>2021-03-01</td>\n      <td>710.6245</td>\n      <td>0.296995</td>\n      <td>550.2470</td>\n      <td>4.169959</td>\n    </tr>\n    <tr>\n      <th>8</th>\n      <td>王者</td>\n      <td>2021-03-01</td>\n      <td>327.1722</td>\n      <td>-0.600710</td>\n      <td>328.0480</td>\n      <td>1.254323</td>\n    </tr>\n    <tr>\n      <th>9</th>\n      <td>太阳</td>\n      <td>2021-03-01</td>\n      <td>301.8940</td>\n      <td>0.000464</td>\n      <td>258.4067</td>\n      <td>2.834946</td>\n    </tr>\n    <tr>\n      <th>10</th>\n      <td>满天星</td>\n      <td>2021-03-01</td>\n      <td>260.5293</td>\n      <td>-0.606576</td>\n      <td>281.2099</td>\n      <td>1.812577</td>\n    </tr>\n    <tr>\n      <th>11</th>\n      <td>北极星</td>\n      <td>2021-03-01</td>\n      <td>173.1450</td>\n      <td>-0.113219</td>\n      <td>145.1623</td>\n      <td>1.810151</td>\n    </tr>\n    <tr>\n      <th>12</th>\n      <td>其他</td>\n      <td>2021-03-01</td>\n      <td>40.0000</td>\n      <td>inf</td>\n      <td>100.2530</td>\n      <td>378.746212</td>\n    </tr>\n  </tbody>\n</table>\n</div>"
     },
     "metadata": {},
     "execution_count": 32
    }
   ],
   "source": [
    "a.loc[a['month'] == '2021-03-01'].sort_values('returned_money_x',ascending = False).reset_index(drop = True)"
   ]
  },
  {
   "cell_type": "markdown",
   "metadata": {},
   "source": [
    "- 增加联盟维度的同比"
   ]
  },
  {
   "cell_type": "code",
   "execution_count": 33,
   "metadata": {},
   "outputs": [
    {
     "output_type": "execute_result",
     "data": {
      "text/plain": [
       "AllianceName\n",
       "明星      17354.2467\n",
       "挑战者      9920.8257\n",
       "黑马       9776.1256\n",
       "聚微       8408.5169\n",
       "BOSS     8065.7475\n",
       "Name: returned_money_x, dtype: float64"
      ]
     },
     "metadata": {},
     "execution_count": 33
    }
   ],
   "source": [
    "a.groupby('AllianceName')['returned_money_x'].sum().sort_values(ascending = False)[:5]\n",
    "# 过去一年回款前五的联盟"
   ]
  },
  {
   "cell_type": "markdown",
   "metadata": {},
   "source": [
    "- 过去一年回款前五的联盟：明星、挑战者、黑马、聚微、BOSS"
   ]
  },
  {
   "cell_type": "markdown",
   "metadata": {},
   "source": [
    "## 1.2 月周期回款分析"
   ]
  },
  {
   "cell_type": "markdown",
   "metadata": {},
   "source": [
    "### 1.2.1 数据准备"
   ]
  },
  {
   "cell_type": "markdown",
   "metadata": {},
   "source": [
    "1) 读取今年月回款数据"
   ]
  },
  {
   "cell_type": "code",
   "execution_count": 34,
   "metadata": {},
   "outputs": [],
   "source": [
    "year1=\"2021\"\n",
    "year2=\"2021\"\n",
    "month1,month2 = \"01\",\"03\"\n",
    "var = \"10\"\n",
    "sql_returned_ship_month = f\"\"\"SELECT \n",
    "\tUnionNumber,\n",
    "\tsellername,\n",
    "\tmonth,\n",
    "\tsum(returned_money) as returned_money,\n",
    "\tsum(ship_money) as ship_money\n",
    "FROM\n",
    "(\n",
    "SELECT\n",
    "\tUnionNumber,\n",
    "\tsellername,\n",
    "\tCONVERT ( VARCHAR ( {var} ), DateNum, 23 ) AS MONTH,\n",
    "\tSUM ( returned_money + JK_returned_money ) AS returned_money,\n",
    "\tSUM ( money + JK_money ) AS ship_money \n",
    "FROM\n",
    "\tbidata.bidata.dbo.InterMediate_WS_agent_zc_daily a\n",
    "\tLEFT JOIN bidata.bidata.dbo.ZCLX b ON a.zc_id = b.zc_id \n",
    "WHERE\n",
    "\tDateNum BETWEEN '{year1}-{month1}-01' AND '{year2}-{month2}-31' \n",
    "\n",
    "\tAND b.zctype = '混拿回款' \n",
    "GROUP BY\n",
    "\tUnionNumber,sellername,\n",
    "\tCONVERT ( VARCHAR ( {var} ), DateNum, 23 )\n",
    "\t-- bi每天备份的回款数据，备份的是前一天\n",
    "UNION ALL\n",
    "\n",
    "SELECT\n",
    "\tb.UnionNumber,\n",
    "\ta.sellername,\n",
    "\tCONVERT ( VARCHAR ( {var} ), GETDATE(), 23 ) AS MONTH,\n",
    "\tSUM ( flowprice ) AS money,\n",
    "\t0 AS ship_money\n",
    "FROM\n",
    "\t(\n",
    "\tSELECT\n",
    "\t\tagentID,\n",
    "\t\tsellername,\n",
    "\t\tSUM ( ( InValue - OutValue ) / 10000 ) AS flowprice \n",
    "\tFROM\n",
    "\t\tdbo.DH_BalanceApply a\n",
    "\t\t-- 三草ERP回款\n",
    "\t\tLEFT JOIN [bidata].[bidata].dbo.ZCLX b \tON a.ActivityID = b.zc_id\n",
    "\tWHERE\n",
    "\t\tzctype = '混拿回款'\n",
    "\t\tAND status = 1 \n",
    "\t\tAND Deleted = 0 \n",
    "\t\tAND (\n",
    "\t\t\tItem IN ( '货物预存款', '客户余额互转', '余额清理', '政策余额充值', '政策余额转款', '三合一转款', '全品牌转出','全品牌A转B', '代理清算', '卡位收支', '全品牌转入', '全品牌转款' ) \n",
    "\t\t\tOR ( Item IN ( '政策赠送', '退赠送金额' ) AND ActivityName LIKE '%意向金%' ) \n",
    "\t\t) \n",
    "\t\tAND CONVERT(varchar(10),auditime, 120 ) between '{year1}-{month1}-01' AND '{year2}-{month2}-31'\n",
    "\t\tAND DATEDIFF(dd, auditime, getdate()) = 0\n",
    "\n",
    "\tGROUP BY\n",
    "\t\tagentID,sellername\n",
    "\tUNION ALL\n",
    "\tSELECT\n",
    "\t\tagentID,\n",
    "\t\tsellername,\n",
    "\t\tSUM ( ( InValue - OutValue ) / 10000 ) AS flowprice \n",
    "\tFROM\n",
    "\t\tJKERPDB_UE.dbo.DH_BalanceApply a \n",
    "\t\t-- 健康ERP回款\n",
    "\t\tLEFT JOIN [bidata].[bidata].dbo.ZCLX b ON a.ActivityID = b.zc_id \n",
    "\tWHERE\n",
    "\t\tzctype = '混拿回款'\n",
    "\t\tAND status = 1 \n",
    "\t\tAND Deleted = 0 \n",
    "\t\tAND (\n",
    "\t\t\tItem IN ( '货物预存款', '客户余额互转', '余额清理', '政策余额充值', '政策余额转款', '三合一转款', '全品牌转出','全品牌A转B', '代理清算', '卡位收支', '全品牌转入', '全品牌转款' ) \n",
    "\t\t\tOR ( Item IN ( '政策赠送', '退赠送金额' ) AND ActivityName LIKE '%意向金%' ) \n",
    "\t\t) \n",
    "\t\tAND CONVERT(varchar(10),auditime, 120 ) between '{year1}-{month1}-01' AND '{year2}-{month2}-31'\n",
    "\t\tAND DATEDIFF(dd, auditime, getdate()) = 0\n",
    "\n",
    "\tGROUP BY\n",
    "\t\tagentID,sellername\n",
    "\t) a\n",
    "\tLEFT JOIN dbo.DH_UserInfo b ON a.agentid = b.id\n",
    "GROUP BY\n",
    "\tb.UnionNumber,a.sellername\n",
    "UNION ALL\n",
    "\n",
    "-- =====================发货款\n",
    "SELECT\n",
    "\tb.UnionNumber,\n",
    "\ta.sellername,\n",
    "\tCONVERT ( VARCHAR ( {var} ), GETDATE(), 23 ) AS MONTH,\n",
    "\t0 as money,\n",
    "\tSUM ( money ) AS ship_money \n",
    "FROM\n",
    "\t(\n",
    "\tSELECT\n",
    "\t\ta.agentid,\n",
    "\t\te.sellername,\n",
    "\t\tSUM ( ( d.totalAmount- isnull( d.apportionAmount, 0 ) ) / totalCount * b.count ) / 10000 AS money \n",
    "\tFROM\n",
    "\t\tdbo.DH_Order_Shipment a\n",
    "\t\tLEFT JOIN dbo.DH_Order_Shipments_Relation b ON a.shipNo= b.shipNo\n",
    "\t\tLEFT JOIN dbo.DH_Order c ON a.orderNo= c.orderNo AND b.orderNo= c.orderNo\n",
    "\t\tLEFT JOIN dbo.DH_Order_Detail d ON c.orderNo= d.orderNo AND b.orderDetailNo= d.orderDetailNo\n",
    "\t\tLEFT JOIN bidata.bidata.dbo.ZCLX e ON c.activityid = e.zc_id \n",
    "\tWHERE\n",
    "\t\ta.status= 80 \n",
    "\t\tAND len( a.agentid ) > 0 \n",
    "\t\tAND a.isDeleted= 0 \n",
    "\t\tAND b.isDeleted= 0 \n",
    "\t\tAND c.orderstatus > 200 \n",
    "\t\tAND len( c.orderNo ) > 0 \n",
    "\t\tAND e.zctype = '混拿回款' \n",
    "\t\tAND CONVERT ( VARCHAR ( 10 ), a.sendtime, 23 ) BETWEEN '{year1}-{month1}-01' AND '{year2}-{month2}-31'\n",
    "\t\tAND DATEDIFF(dd, a.sendtime, getdate()) = 0\n",
    "\tGROUP BY\n",
    "\t\ta.agentid,e.sellername\n",
    "\t\t\n",
    "-- ==========================ERP发货款\n",
    "\tUNION ALL\n",
    "\t\n",
    "\t--==================减去退货款\n",
    "\tSELECT\n",
    "\t\tb.AgentId,\n",
    "\t\tc.sellername,\n",
    "\t\tSUM ( drawbackvalue ) /- 10000 AS money \n",
    "\tFROM\n",
    "\t\t(\n",
    "\t\tSELECT\n",
    "\t\t\tAfterNo,\n",
    "\t\t\tdrawbackvalue \n",
    "\t\tFROM\n",
    "\t\t\tdbo.DH_AfterSale_Details \n",
    "\t\tWHERE\n",
    "\t\t\trefuntype = '退货' \n",
    "\t\t\tAND CONVERT ( VARCHAR ( 10 ), auditeTimeStorage, 120 ) BETWEEN '{year1}-{month1}-01' AND '{year2}-{month2}-31'  \n",
    "\t\t\tAND DATEDIFF(dd, auditeTimeStorage, getdate()) = 0\n",
    "\t\t) a\n",
    "\t\tLEFT JOIN ( SELECT agentId, AfterNo, activityid FROM dbo.DH_AfterSale WHERE refundFlag = 88 ) b ON a.AfterNo = b.AfterNo\n",
    "\t\tLEFT JOIN bidata.bidata.dbo.ZCLX c ON b.activityid = c.zc_id \n",
    "\tWHERE\n",
    "\t\tzctype = '混拿回款' \n",
    "\n",
    "\tGROUP BY\n",
    "\t\tb.AgentId,c.sellername\n",
    "\t) a\n",
    "\tLEFT JOIN dbo.DH_UserInfo b ON a.agentid = b.id \n",
    "GROUP BY\n",
    "\tb.UnionNumber,a.sellername\n",
    "\t) a\n",
    "\tGROUP BY\n",
    "\t\tUnionNumber,sellername,\n",
    "\t\tmonth\n",
    "ORDER BY\n",
    "\tmonth,\n",
    "\tUnionNumber\"\"\""
   ]
  },
  {
   "cell_type": "code",
   "execution_count": 35,
   "metadata": {},
   "outputs": [],
   "source": [
    "df_returned_ship_month = pd.read_sql(sql_returned_ship_month,conn_scerp)"
   ]
  },
  {
   "cell_type": "markdown",
   "metadata": {},
   "source": [
    "2) 关联客户信息表并增加姓名-官方字段"
   ]
  },
  {
   "cell_type": "code",
   "execution_count": 36,
   "metadata": {},
   "outputs": [],
   "source": [
    "df_customer_returned_ship_month = pd.merge(df_customer_info,df_returned_ship_month,'left',on = 'UnionNumber')\n",
    "df_customer_returned_ship_month['name_Alliance'] = df_customer_returned_ship_month['RealName'] +'-'+df_customer_returned_ship_month['AllianceName']"
   ]
  },
  {
   "cell_type": "code",
   "execution_count": 37,
   "metadata": {},
   "outputs": [
    {
     "output_type": "execute_result",
     "data": {
      "text/plain": [
       "  UnionNumber RealName AgentLevelName      UpTime LowerStatus TopUserName  \\\n",
       "0  CM00001068      冯桥娥          全品牌总代  2018-02-25          正常         郑会连   \n",
       "1  CM00001068      冯桥娥          全品牌总代  2018-02-25          正常         郑会连   \n",
       "2  CM00001068      冯桥娥          全品牌总代  2018-02-25          正常         郑会连   \n",
       "3  CM00001068      冯桥娥          全品牌总代  2018-02-25          正常         郑会连   \n",
       "4  CM00001068      冯桥娥          全品牌总代  2018-02-25          正常         郑会连   \n",
       "\n",
       "  AllianceName Level RegionalDirectorName RegionManagerName  \\\n",
       "0           黑马    B类                  李海艳                官露   \n",
       "1           黑马    B类                  李海艳                官露   \n",
       "2           黑马    B类                  李海艳                官露   \n",
       "3           黑马    B类                  李海艳                官露   \n",
       "4           黑马    B类                  李海艳                官露   \n",
       "\n",
       "  CustomerServiceName CustomerServiceAreaName CustomerServiceManagerName  \\\n",
       "0                 郭思梦                      崔颖                         张妍   \n",
       "1                 郭思梦                      崔颖                         张妍   \n",
       "2                 郭思梦                      崔颖                         张妍   \n",
       "3                 郭思梦                      崔颖                         张妍   \n",
       "4                 郭思梦                      崔颖                         张妍   \n",
       "\n",
       "  sellername       month  returned_money  ship_money name_Alliance  \n",
       "0    三草两木全品牌  2021-01-08             0.0      0.2200        冯桥娥-黑马  \n",
       "1    三草两木全品牌  2021-01-09             0.0      0.0840        冯桥娥-黑马  \n",
       "2    三草两木全品牌  2021-01-26             0.0      0.1816        冯桥娥-黑马  \n",
       "3    三草两木全品牌  2021-01-27             1.0      0.0000        冯桥娥-黑马  \n",
       "4    三草两木全品牌  2021-01-28             0.0      0.1680        冯桥娥-黑马  "
      ],
      "text/html": "<div>\n<style scoped>\n    .dataframe tbody tr th:only-of-type {\n        vertical-align: middle;\n    }\n\n    .dataframe tbody tr th {\n        vertical-align: top;\n    }\n\n    .dataframe thead th {\n        text-align: right;\n    }\n</style>\n<table border=\"1\" class=\"dataframe\">\n  <thead>\n    <tr style=\"text-align: right;\">\n      <th></th>\n      <th>UnionNumber</th>\n      <th>RealName</th>\n      <th>AgentLevelName</th>\n      <th>UpTime</th>\n      <th>LowerStatus</th>\n      <th>TopUserName</th>\n      <th>AllianceName</th>\n      <th>Level</th>\n      <th>RegionalDirectorName</th>\n      <th>RegionManagerName</th>\n      <th>CustomerServiceName</th>\n      <th>CustomerServiceAreaName</th>\n      <th>CustomerServiceManagerName</th>\n      <th>sellername</th>\n      <th>month</th>\n      <th>returned_money</th>\n      <th>ship_money</th>\n      <th>name_Alliance</th>\n    </tr>\n  </thead>\n  <tbody>\n    <tr>\n      <th>0</th>\n      <td>CM00001068</td>\n      <td>冯桥娥</td>\n      <td>全品牌总代</td>\n      <td>2018-02-25</td>\n      <td>正常</td>\n      <td>郑会连</td>\n      <td>黑马</td>\n      <td>B类</td>\n      <td>李海艳</td>\n      <td>官露</td>\n      <td>郭思梦</td>\n      <td>崔颖</td>\n      <td>张妍</td>\n      <td>三草两木全品牌</td>\n      <td>2021-01-08</td>\n      <td>0.0</td>\n      <td>0.2200</td>\n      <td>冯桥娥-黑马</td>\n    </tr>\n    <tr>\n      <th>1</th>\n      <td>CM00001068</td>\n      <td>冯桥娥</td>\n      <td>全品牌总代</td>\n      <td>2018-02-25</td>\n      <td>正常</td>\n      <td>郑会连</td>\n      <td>黑马</td>\n      <td>B类</td>\n      <td>李海艳</td>\n      <td>官露</td>\n      <td>郭思梦</td>\n      <td>崔颖</td>\n      <td>张妍</td>\n      <td>三草两木全品牌</td>\n      <td>2021-01-09</td>\n      <td>0.0</td>\n      <td>0.0840</td>\n      <td>冯桥娥-黑马</td>\n    </tr>\n    <tr>\n      <th>2</th>\n      <td>CM00001068</td>\n      <td>冯桥娥</td>\n      <td>全品牌总代</td>\n      <td>2018-02-25</td>\n      <td>正常</td>\n      <td>郑会连</td>\n      <td>黑马</td>\n      <td>B类</td>\n      <td>李海艳</td>\n      <td>官露</td>\n      <td>郭思梦</td>\n      <td>崔颖</td>\n      <td>张妍</td>\n      <td>三草两木全品牌</td>\n      <td>2021-01-26</td>\n      <td>0.0</td>\n      <td>0.1816</td>\n      <td>冯桥娥-黑马</td>\n    </tr>\n    <tr>\n      <th>3</th>\n      <td>CM00001068</td>\n      <td>冯桥娥</td>\n      <td>全品牌总代</td>\n      <td>2018-02-25</td>\n      <td>正常</td>\n      <td>郑会连</td>\n      <td>黑马</td>\n      <td>B类</td>\n      <td>李海艳</td>\n      <td>官露</td>\n      <td>郭思梦</td>\n      <td>崔颖</td>\n      <td>张妍</td>\n      <td>三草两木全品牌</td>\n      <td>2021-01-27</td>\n      <td>1.0</td>\n      <td>0.0000</td>\n      <td>冯桥娥-黑马</td>\n    </tr>\n    <tr>\n      <th>4</th>\n      <td>CM00001068</td>\n      <td>冯桥娥</td>\n      <td>全品牌总代</td>\n      <td>2018-02-25</td>\n      <td>正常</td>\n      <td>郑会连</td>\n      <td>黑马</td>\n      <td>B类</td>\n      <td>李海艳</td>\n      <td>官露</td>\n      <td>郭思梦</td>\n      <td>崔颖</td>\n      <td>张妍</td>\n      <td>三草两木全品牌</td>\n      <td>2021-01-28</td>\n      <td>0.0</td>\n      <td>0.1680</td>\n      <td>冯桥娥-黑马</td>\n    </tr>\n  </tbody>\n</table>\n</div>"
     },
     "metadata": {},
     "execution_count": 37
    }
   ],
   "source": [
    "df_customer_returned_ship_month.head()"
   ]
  },
  {
   "cell_type": "markdown",
   "metadata": {},
   "source": [
    "#### 第一季度回款发货数据"
   ]
  },
  {
   "cell_type": "code",
   "execution_count": 38,
   "metadata": {},
   "outputs": [
    {
     "output_type": "execute_result",
     "data": {
      "text/plain": [
       "        month UnionNumber name_Alliance AllianceName  returned_money  \\\n",
       "0  2021-01-08  CM00001068        冯桥娥-黑马           黑马             0.0   \n",
       "1  2021-01-09  CM00001068        冯桥娥-黑马           黑马             0.0   \n",
       "2  2021-01-26  CM00001068        冯桥娥-黑马           黑马             0.0   \n",
       "3  2021-01-27  CM00001068        冯桥娥-黑马           黑马             1.0   \n",
       "4  2021-01-28  CM00001068        冯桥娥-黑马           黑马             0.0   \n",
       "\n",
       "   ship_money  \n",
       "0      0.2200  \n",
       "1      0.0840  \n",
       "2      0.1816  \n",
       "3      0.0000  \n",
       "4      0.1680  "
      ],
      "text/html": "<div>\n<style scoped>\n    .dataframe tbody tr th:only-of-type {\n        vertical-align: middle;\n    }\n\n    .dataframe tbody tr th {\n        vertical-align: top;\n    }\n\n    .dataframe thead th {\n        text-align: right;\n    }\n</style>\n<table border=\"1\" class=\"dataframe\">\n  <thead>\n    <tr style=\"text-align: right;\">\n      <th></th>\n      <th>month</th>\n      <th>UnionNumber</th>\n      <th>name_Alliance</th>\n      <th>AllianceName</th>\n      <th>returned_money</th>\n      <th>ship_money</th>\n    </tr>\n  </thead>\n  <tbody>\n    <tr>\n      <th>0</th>\n      <td>2021-01-08</td>\n      <td>CM00001068</td>\n      <td>冯桥娥-黑马</td>\n      <td>黑马</td>\n      <td>0.0</td>\n      <td>0.2200</td>\n    </tr>\n    <tr>\n      <th>1</th>\n      <td>2021-01-09</td>\n      <td>CM00001068</td>\n      <td>冯桥娥-黑马</td>\n      <td>黑马</td>\n      <td>0.0</td>\n      <td>0.0840</td>\n    </tr>\n    <tr>\n      <th>2</th>\n      <td>2021-01-26</td>\n      <td>CM00001068</td>\n      <td>冯桥娥-黑马</td>\n      <td>黑马</td>\n      <td>0.0</td>\n      <td>0.1816</td>\n    </tr>\n    <tr>\n      <th>3</th>\n      <td>2021-01-27</td>\n      <td>CM00001068</td>\n      <td>冯桥娥-黑马</td>\n      <td>黑马</td>\n      <td>1.0</td>\n      <td>0.0000</td>\n    </tr>\n    <tr>\n      <th>4</th>\n      <td>2021-01-28</td>\n      <td>CM00001068</td>\n      <td>冯桥娥-黑马</td>\n      <td>黑马</td>\n      <td>0.0</td>\n      <td>0.1680</td>\n    </tr>\n  </tbody>\n</table>\n</div>"
     },
     "metadata": {},
     "execution_count": 38
    }
   ],
   "source": [
    "df_returned_ship_quarter = df_customer_returned_ship_month.loc[(df_customer_returned_ship_month['month'] >='2021-01-01') & (df_customer_returned_ship_month['month'] <='2021-03-31'),['month','UnionNumber','name_Alliance','AllianceName','returned_money','ship_money']]\n",
    "df_returned_ship_quarter.head()"
   ]
  },
  {
   "cell_type": "code",
   "execution_count": 39,
   "metadata": {},
   "outputs": [],
   "source": [
    "df_returned_ship_quarter_gy = df_customer_returned_ship_month.groupby(['UnionNumber','name_Alliance'])[['returned_money','ship_money']].sum().sort_values('returned_money',ascending= False).reset_index()"
   ]
  },
  {
   "cell_type": "markdown",
   "metadata": {},
   "source": [
    "#### 读取第一季度发货和出货目标"
   ]
  },
  {
   "cell_type": "code",
   "execution_count": 40,
   "metadata": {},
   "outputs": [],
   "source": [
    "sql_target_return = \"\"\"SELECT UnionNumber,Target target_return FROM [dbo].[Target_2021_WS_agent_CAL]\n",
    "where Quarter =1 and type = '回款'\"\"\"\n",
    "sql_target_ship = \"\"\"SELECT UnionNumber,Target target_ship FROM [dbo].[Target_2021_WS_agent_CAL]\n",
    "where Quarter =1 and type = '出货'\"\"\""
   ]
  },
  {
   "cell_type": "code",
   "execution_count": 41,
   "metadata": {},
   "outputs": [],
   "source": [
    "df_target_return = pd.read_sql(sql_target_return,conn_bi)\n",
    "df_sql_target_ship = pd.read_sql(sql_target_ship,conn_bi)"
   ]
  },
  {
   "cell_type": "code",
   "execution_count": 42,
   "metadata": {},
   "outputs": [],
   "source": [
    "df_returned_ship_quarter_gy = df_returned_ship_quarter_gy.merge(df_target_return,on='UnionNumber',how='left').merge(df_sql_target_ship,on='UnionNumber',how='left')"
   ]
  },
  {
   "cell_type": "code",
   "execution_count": 43,
   "metadata": {},
   "outputs": [
    {
     "output_type": "execute_result",
     "data": {
      "text/plain": [
       "     UnionNumber name_Alliance  returned_money  ship_money  target_return  \\\n",
       "0     CM00007651        郑国贤-其他        190.0000    160.0000            NaN   \n",
       "1     CM00007650        谢喜艳-其他        180.0000    180.3600            NaN   \n",
       "2     CM00003664         毛文-黑马        172.0000    158.2766          17.89   \n",
       "3     CM00000095        张雪萍-明星        100.6276     23.8729          28.42   \n",
       "4     CM00000067        董全红-明星        100.0110     27.2848          29.40   \n",
       "...          ...           ...             ...         ...            ...   \n",
       "6658  CM00001144        谢纯珍-明星         -6.3004      0.0000            NaN   \n",
       "6659  CM00006712         赵丹-黑马         -6.7095      0.0000           5.88   \n",
       "6660  CM00004619         龙雪-明星         -6.7981      0.0000            NaN   \n",
       "6661  CM00004278        寇方玉-女王         -7.3748      0.0000            NaN   \n",
       "6662  CM00002194         王宁-黑马         -9.6245      0.1344           5.88   \n",
       "\n",
       "      target_ship  returned_rat  ship_rat  \n",
       "0             NaN      1.000000  1.000000  \n",
       "1             NaN      1.000000  1.000000  \n",
       "2           22.23      9.614310  7.119955  \n",
       "3           24.57      3.540732  0.971628  \n",
       "4           25.42      3.401735  1.073360  \n",
       "...           ...           ...       ...  \n",
       "6658          NaN     -1.000000 -1.000000  \n",
       "6659         5.44     -1.141071  0.000000  \n",
       "6660          NaN     -1.000000 -1.000000  \n",
       "6661          NaN     -1.000000 -1.000000  \n",
       "6662         5.99     -1.636820  0.022437  \n",
       "\n",
       "[6663 rows x 8 columns]"
      ],
      "text/html": "<div>\n<style scoped>\n    .dataframe tbody tr th:only-of-type {\n        vertical-align: middle;\n    }\n\n    .dataframe tbody tr th {\n        vertical-align: top;\n    }\n\n    .dataframe thead th {\n        text-align: right;\n    }\n</style>\n<table border=\"1\" class=\"dataframe\">\n  <thead>\n    <tr style=\"text-align: right;\">\n      <th></th>\n      <th>UnionNumber</th>\n      <th>name_Alliance</th>\n      <th>returned_money</th>\n      <th>ship_money</th>\n      <th>target_return</th>\n      <th>target_ship</th>\n      <th>returned_rat</th>\n      <th>ship_rat</th>\n    </tr>\n  </thead>\n  <tbody>\n    <tr>\n      <th>0</th>\n      <td>CM00007651</td>\n      <td>郑国贤-其他</td>\n      <td>190.0000</td>\n      <td>160.0000</td>\n      <td>NaN</td>\n      <td>NaN</td>\n      <td>1.000000</td>\n      <td>1.000000</td>\n    </tr>\n    <tr>\n      <th>1</th>\n      <td>CM00007650</td>\n      <td>谢喜艳-其他</td>\n      <td>180.0000</td>\n      <td>180.3600</td>\n      <td>NaN</td>\n      <td>NaN</td>\n      <td>1.000000</td>\n      <td>1.000000</td>\n    </tr>\n    <tr>\n      <th>2</th>\n      <td>CM00003664</td>\n      <td>毛文-黑马</td>\n      <td>172.0000</td>\n      <td>158.2766</td>\n      <td>17.89</td>\n      <td>22.23</td>\n      <td>9.614310</td>\n      <td>7.119955</td>\n    </tr>\n    <tr>\n      <th>3</th>\n      <td>CM00000095</td>\n      <td>张雪萍-明星</td>\n      <td>100.6276</td>\n      <td>23.8729</td>\n      <td>28.42</td>\n      <td>24.57</td>\n      <td>3.540732</td>\n      <td>0.971628</td>\n    </tr>\n    <tr>\n      <th>4</th>\n      <td>CM00000067</td>\n      <td>董全红-明星</td>\n      <td>100.0110</td>\n      <td>27.2848</td>\n      <td>29.40</td>\n      <td>25.42</td>\n      <td>3.401735</td>\n      <td>1.073360</td>\n    </tr>\n    <tr>\n      <th>...</th>\n      <td>...</td>\n      <td>...</td>\n      <td>...</td>\n      <td>...</td>\n      <td>...</td>\n      <td>...</td>\n      <td>...</td>\n      <td>...</td>\n    </tr>\n    <tr>\n      <th>6658</th>\n      <td>CM00001144</td>\n      <td>谢纯珍-明星</td>\n      <td>-6.3004</td>\n      <td>0.0000</td>\n      <td>NaN</td>\n      <td>NaN</td>\n      <td>-1.000000</td>\n      <td>-1.000000</td>\n    </tr>\n    <tr>\n      <th>6659</th>\n      <td>CM00006712</td>\n      <td>赵丹-黑马</td>\n      <td>-6.7095</td>\n      <td>0.0000</td>\n      <td>5.88</td>\n      <td>5.44</td>\n      <td>-1.141071</td>\n      <td>0.000000</td>\n    </tr>\n    <tr>\n      <th>6660</th>\n      <td>CM00004619</td>\n      <td>龙雪-明星</td>\n      <td>-6.7981</td>\n      <td>0.0000</td>\n      <td>NaN</td>\n      <td>NaN</td>\n      <td>-1.000000</td>\n      <td>-1.000000</td>\n    </tr>\n    <tr>\n      <th>6661</th>\n      <td>CM00004278</td>\n      <td>寇方玉-女王</td>\n      <td>-7.3748</td>\n      <td>0.0000</td>\n      <td>NaN</td>\n      <td>NaN</td>\n      <td>-1.000000</td>\n      <td>-1.000000</td>\n    </tr>\n    <tr>\n      <th>6662</th>\n      <td>CM00002194</td>\n      <td>王宁-黑马</td>\n      <td>-9.6245</td>\n      <td>0.1344</td>\n      <td>5.88</td>\n      <td>5.99</td>\n      <td>-1.636820</td>\n      <td>0.022437</td>\n    </tr>\n  </tbody>\n</table>\n<p>6663 rows × 8 columns</p>\n</div>"
     },
     "metadata": {},
     "execution_count": 43
    }
   ],
   "source": [
    "df_returned_ship_quarter_gy['returned_rat'] = df_returned_ship_quarter_gy['returned_money'] / df_returned_ship_quarter_gy['target_return']\n",
    "df_returned_ship_quarter_gy['ship_rat'] = df_returned_ship_quarter_gy['ship_money'] / df_returned_ship_quarter_gy['target_ship']\n",
    "\n",
    "df_returned_ship_quarter_gy.loc[(df_returned_ship_quarter_gy['returned_money']>0)&(df_returned_ship_quarter_gy['target_return'].isnull()),'returned_rat'] =1\n",
    "df_returned_ship_quarter_gy['returned_rat'].fillna(-1, inplace=True)\n",
    "# 筛选回款金额大于0，且回款目标为空的列，为回款率赋值为1。剩下的为空的回款率就是回款金额小于0且回款目标的数据。\n",
    "df_returned_ship_quarter_gy.loc[(df_returned_ship_quarter_gy['ship_money']>0)&(df_returned_ship_quarter_gy['target_ship'].isnull()),'ship_rat'] =1\n",
    "df_returned_ship_quarter_gy['ship_rat'].fillna(-1, inplace=True)\n",
    "# 同回款数据\n",
    "df_returned_ship_quarter_gy"
   ]
  },
  {
   "cell_type": "code",
   "execution_count": 44,
   "metadata": {},
   "outputs": [],
   "source": [
    "# df_returned_ship_quarter_gy.apply(lambda x: x['returned_money']/x['target_return'] if x['target_return']>0 else np.sign(x['returned_money']), axis=1)\n",
    "# 用函数方法来计算完成率"
   ]
  },
  {
   "cell_type": "code",
   "execution_count": 45,
   "metadata": {},
   "outputs": [],
   "source": [
    "df_returned_ship_quarter_gy = df_returned_ship_quarter_gy[df_returned_ship_quarter_gy['target_return'].notnull()].reset_index(drop=True)"
   ]
  },
  {
   "cell_type": "code",
   "execution_count": 46,
   "metadata": {},
   "outputs": [
    {
     "output_type": "execute_result",
     "data": {
      "text/plain": [
       "   UnionNumber name_Alliance  returned_money  ship_money  target_return  \\\n",
       "0   CM00003664         毛文-黑马        172.0000    158.2766          17.89   \n",
       "1   CM00000095        张雪萍-明星        100.6276     23.8729          28.42   \n",
       "2   CM00000067        董全红-明星        100.0110     27.2848          29.40   \n",
       "3   CM00000086        刘亚歌-明星        100.0000     26.5930          28.91   \n",
       "4   CM00000105        高朵朵-聚微        100.0000     16.6150          24.50   \n",
       "5   CM00000287        郭孟洁-明星        100.0000     14.3762          29.40   \n",
       "6   CM00000244       王婷婷-风之彩        100.0000     33.6197          26.46   \n",
       "7   CM00000221        刘双华-黑马        100.0000     12.0968          12.74   \n",
       "8   CM00000258      余宏敏-BOSS        100.0000     33.8491          34.30   \n",
       "9   CM00000569        李燕-挑战者         66.0000     61.2378          17.64   \n",
       "10  CM00000240        刘忠琴-黑马         43.0588     55.0434          17.89   \n",
       "11  CM00000198       包萍静-风之彩         40.0000     32.2248          27.44   \n",
       "12  CM00001853       刘彩霞-风之彩         36.3958     26.4960          15.68   \n",
       "13  CM00000261         丁苗-卓彩         32.7500     45.7278          14.95   \n",
       "14  CM00006260       张茜茜-风之彩         32.0480     31.0440          11.76   \n",
       "\n",
       "    target_ship  returned_rat  ship_rat  \n",
       "0         22.23      9.614310  7.119955  \n",
       "1         24.57      3.540732  0.971628  \n",
       "2         25.42      3.401735  1.073360  \n",
       "3         24.99      3.459011  1.064146  \n",
       "4         24.73      4.081633  0.671856  \n",
       "5         25.42      3.401361  0.565547  \n",
       "6         22.87      3.779289  1.470035  \n",
       "7         14.43      7.849294  0.838309  \n",
       "8         29.65      2.915452  1.141622  \n",
       "9         16.61      3.741497  3.686803  \n",
       "10        37.76      2.406864  1.457717  \n",
       "11        23.72      1.457726  1.358550  \n",
       "12        13.56      2.321161  1.953982  \n",
       "13        42.97      2.190635  1.064180  \n",
       "14        10.17      2.725170  3.052507  "
      ],
      "text/html": "<div>\n<style scoped>\n    .dataframe tbody tr th:only-of-type {\n        vertical-align: middle;\n    }\n\n    .dataframe tbody tr th {\n        vertical-align: top;\n    }\n\n    .dataframe thead th {\n        text-align: right;\n    }\n</style>\n<table border=\"1\" class=\"dataframe\">\n  <thead>\n    <tr style=\"text-align: right;\">\n      <th></th>\n      <th>UnionNumber</th>\n      <th>name_Alliance</th>\n      <th>returned_money</th>\n      <th>ship_money</th>\n      <th>target_return</th>\n      <th>target_ship</th>\n      <th>returned_rat</th>\n      <th>ship_rat</th>\n    </tr>\n  </thead>\n  <tbody>\n    <tr>\n      <th>0</th>\n      <td>CM00003664</td>\n      <td>毛文-黑马</td>\n      <td>172.0000</td>\n      <td>158.2766</td>\n      <td>17.89</td>\n      <td>22.23</td>\n      <td>9.614310</td>\n      <td>7.119955</td>\n    </tr>\n    <tr>\n      <th>1</th>\n      <td>CM00000095</td>\n      <td>张雪萍-明星</td>\n      <td>100.6276</td>\n      <td>23.8729</td>\n      <td>28.42</td>\n      <td>24.57</td>\n      <td>3.540732</td>\n      <td>0.971628</td>\n    </tr>\n    <tr>\n      <th>2</th>\n      <td>CM00000067</td>\n      <td>董全红-明星</td>\n      <td>100.0110</td>\n      <td>27.2848</td>\n      <td>29.40</td>\n      <td>25.42</td>\n      <td>3.401735</td>\n      <td>1.073360</td>\n    </tr>\n    <tr>\n      <th>3</th>\n      <td>CM00000086</td>\n      <td>刘亚歌-明星</td>\n      <td>100.0000</td>\n      <td>26.5930</td>\n      <td>28.91</td>\n      <td>24.99</td>\n      <td>3.459011</td>\n      <td>1.064146</td>\n    </tr>\n    <tr>\n      <th>4</th>\n      <td>CM00000105</td>\n      <td>高朵朵-聚微</td>\n      <td>100.0000</td>\n      <td>16.6150</td>\n      <td>24.50</td>\n      <td>24.73</td>\n      <td>4.081633</td>\n      <td>0.671856</td>\n    </tr>\n    <tr>\n      <th>5</th>\n      <td>CM00000287</td>\n      <td>郭孟洁-明星</td>\n      <td>100.0000</td>\n      <td>14.3762</td>\n      <td>29.40</td>\n      <td>25.42</td>\n      <td>3.401361</td>\n      <td>0.565547</td>\n    </tr>\n    <tr>\n      <th>6</th>\n      <td>CM00000244</td>\n      <td>王婷婷-风之彩</td>\n      <td>100.0000</td>\n      <td>33.6197</td>\n      <td>26.46</td>\n      <td>22.87</td>\n      <td>3.779289</td>\n      <td>1.470035</td>\n    </tr>\n    <tr>\n      <th>7</th>\n      <td>CM00000221</td>\n      <td>刘双华-黑马</td>\n      <td>100.0000</td>\n      <td>12.0968</td>\n      <td>12.74</td>\n      <td>14.43</td>\n      <td>7.849294</td>\n      <td>0.838309</td>\n    </tr>\n    <tr>\n      <th>8</th>\n      <td>CM00000258</td>\n      <td>余宏敏-BOSS</td>\n      <td>100.0000</td>\n      <td>33.8491</td>\n      <td>34.30</td>\n      <td>29.65</td>\n      <td>2.915452</td>\n      <td>1.141622</td>\n    </tr>\n    <tr>\n      <th>9</th>\n      <td>CM00000569</td>\n      <td>李燕-挑战者</td>\n      <td>66.0000</td>\n      <td>61.2378</td>\n      <td>17.64</td>\n      <td>16.61</td>\n      <td>3.741497</td>\n      <td>3.686803</td>\n    </tr>\n    <tr>\n      <th>10</th>\n      <td>CM00000240</td>\n      <td>刘忠琴-黑马</td>\n      <td>43.0588</td>\n      <td>55.0434</td>\n      <td>17.89</td>\n      <td>37.76</td>\n      <td>2.406864</td>\n      <td>1.457717</td>\n    </tr>\n    <tr>\n      <th>11</th>\n      <td>CM00000198</td>\n      <td>包萍静-风之彩</td>\n      <td>40.0000</td>\n      <td>32.2248</td>\n      <td>27.44</td>\n      <td>23.72</td>\n      <td>1.457726</td>\n      <td>1.358550</td>\n    </tr>\n    <tr>\n      <th>12</th>\n      <td>CM00001853</td>\n      <td>刘彩霞-风之彩</td>\n      <td>36.3958</td>\n      <td>26.4960</td>\n      <td>15.68</td>\n      <td>13.56</td>\n      <td>2.321161</td>\n      <td>1.953982</td>\n    </tr>\n    <tr>\n      <th>13</th>\n      <td>CM00000261</td>\n      <td>丁苗-卓彩</td>\n      <td>32.7500</td>\n      <td>45.7278</td>\n      <td>14.95</td>\n      <td>42.97</td>\n      <td>2.190635</td>\n      <td>1.064180</td>\n    </tr>\n    <tr>\n      <th>14</th>\n      <td>CM00006260</td>\n      <td>张茜茜-风之彩</td>\n      <td>32.0480</td>\n      <td>31.0440</td>\n      <td>11.76</td>\n      <td>10.17</td>\n      <td>2.725170</td>\n      <td>3.052507</td>\n    </tr>\n  </tbody>\n</table>\n</div>"
     },
     "metadata": {},
     "execution_count": 46
    }
   ],
   "source": [
    "df_returned_ship_quarter_gy_top15 =  df_returned_ship_quarter_gy[0:15]\n",
    "df_returned_ship_quarter_gy_top15"
   ]
  },
  {
   "cell_type": "code",
   "execution_count": 47,
   "metadata": {},
   "outputs": [
    {
     "output_type": "execute_result",
     "data": {
      "text/plain": [
       "[9.614309670206818,\n",
       " 3.54073187895848,\n",
       " 3.4017346938775512,\n",
       " 3.459010722933241,\n",
       " 4.081632653061225,\n",
       " 3.4013605442176873,\n",
       " 3.7792894935752077,\n",
       " 7.849293563579278,\n",
       " 2.915451895043732,\n",
       " 3.7414965986394555,\n",
       " 2.4068641699273337,\n",
       " 1.4577259475218658,\n",
       " 2.3211607142857145,\n",
       " 2.190635451505017,\n",
       " 2.7251700680272113]"
      ]
     },
     "metadata": {},
     "execution_count": 47
    }
   ],
   "source": [
    "df_returned_ship_quarter_gy_top15['name_Alliance'].tolist()\n",
    "df_returned_ship_quarter_gy_top15['returned_money'].tolist()\n",
    "df_returned_ship_quarter_gy_top15['ship_money'].tolist()\n",
    "df_returned_ship_quarter_gy_top15['returned_rat'].tolist()"
   ]
  },
  {
   "cell_type": "code",
   "execution_count": 48,
   "metadata": {},
   "outputs": [
    {
     "output_type": "execute_result",
     "data": {
      "text/plain": [
       "<pyecharts.render.display.HTML at 0x28893248dc8>"
      ],
      "text/html": "\n<script>\n    require.config({\n        paths: {\n            'echarts':'https://assets.pyecharts.org/assets/echarts.min', 'westeros':'https://assets.pyecharts.org/assets/themes/westeros'\n        }\n    });\n</script>\n\n        <div id=\"915adff9a81b40b39ff041d1ef912b82\" style=\"width:850px; height:600px;\"></div>\n\n<script>\n        require(['echarts', 'westeros'], function(echarts) {\n                var chart_915adff9a81b40b39ff041d1ef912b82 = echarts.init(\n                    document.getElementById('915adff9a81b40b39ff041d1ef912b82'), 'westeros', {renderer: 'canvas'});\n                var option_915adff9a81b40b39ff041d1ef912b82 = {\n    \"animation\": true,\n    \"animationThreshold\": 2000,\n    \"animationDuration\": 1000,\n    \"animationEasing\": \"cubicOut\",\n    \"animationDelay\": 0,\n    \"animationDurationUpdate\": 300,\n    \"animationEasingUpdate\": \"cubicOut\",\n    \"animationDelayUpdate\": 0,\n    \"color\": [],\n    \"series\": [\n        {\n            \"type\": \"bar\",\n            \"name\": \"\\u56de\\u6b3e\\u91d1\\u989d\",\n            \"yAxisIndex\": 0,\n            \"data\": [\n                172.0,\n                100.63,\n                100.01,\n                100.0,\n                100.0,\n                100.0,\n                100.0,\n                100.0,\n                100.0,\n                66.0,\n                43.06,\n                40.0,\n                36.4,\n                32.75,\n                32.05\n            ],\n            \"stack\": \"stack1\",\n            \"barCategoryGap\": \"20%\",\n            \"label\": {\n                \"show\": false,\n                \"position\": \"top\",\n                \"margin\": 8,\n                \"fontSize\": 14\n            },\n            \"rippleEffect\": {\n                \"show\": true,\n                \"brushType\": \"stroke\",\n                \"scale\": 2.5,\n                \"period\": 4\n            }\n        },\n        {\n            \"type\": \"bar\",\n            \"name\": \"\\u53d1\\u8d27\\u91d1\\u989d\",\n            \"yAxisIndex\": 0,\n            \"data\": [\n                158.28,\n                23.87,\n                27.28,\n                26.59,\n                16.61,\n                14.38,\n                33.62,\n                12.1,\n                33.85,\n                61.24,\n                55.04,\n                32.22,\n                26.5,\n                45.73,\n                31.04\n            ],\n            \"stack\": \"stack1\",\n            \"barCategoryGap\": \"20%\",\n            \"label\": {\n                \"show\": false,\n                \"position\": \"top\",\n                \"margin\": 8,\n                \"fontSize\": 14\n            },\n            \"rippleEffect\": {\n                \"show\": true,\n                \"brushType\": \"stroke\",\n                \"scale\": 2.5,\n                \"period\": 4\n            }\n        },\n        {\n            \"type\": \"line\",\n            \"name\": \"\\u56de\\u6b3e\\u5b8c\\u6210\\u7387\",\n            \"connectNulls\": false,\n            \"yAxisIndex\": 1,\n            \"symbolSize\": 4,\n            \"showSymbol\": true,\n            \"smooth\": false,\n            \"step\": false,\n            \"data\": [\n                [\n                    \"\\u6bdb\\u6587-\\u9ed1\\u9a6c\",\n                    961.43\n                ],\n                [\n                    \"\\u5f20\\u96ea\\u840d-\\u660e\\u661f\",\n                    354.07\n                ],\n                [\n                    \"\\u8463\\u5168\\u7ea2-\\u660e\\u661f\",\n                    340.17\n                ],\n                [\n                    \"\\u5218\\u4e9a\\u6b4c-\\u660e\\u661f\",\n                    345.9\n                ],\n                [\n                    \"\\u9ad8\\u6735\\u6735-\\u805a\\u5fae\",\n                    408.16\n                ],\n                [\n                    \"\\u90ed\\u5b5f\\u6d01-\\u660e\\u661f\",\n                    340.14\n                ],\n                [\n                    \"\\u738b\\u5a77\\u5a77-\\u98ce\\u4e4b\\u5f69\",\n                    377.93\n                ],\n                [\n                    \"\\u5218\\u53cc\\u534e-\\u9ed1\\u9a6c\",\n                    784.93\n                ],\n                [\n                    \"\\u4f59\\u5b8f\\u654f-BOSS\",\n                    291.55\n                ],\n                [\n                    \"\\u674e\\u71d5-\\u6311\\u6218\\u8005\",\n                    374.15\n                ],\n                [\n                    \"\\u5218\\u5fe0\\u7434-\\u9ed1\\u9a6c\",\n                    240.69\n                ],\n                [\n                    \"\\u5305\\u840d\\u9759-\\u98ce\\u4e4b\\u5f69\",\n                    145.77\n                ],\n                [\n                    \"\\u5218\\u5f69\\u971e-\\u98ce\\u4e4b\\u5f69\",\n                    232.12\n                ],\n                [\n                    \"\\u4e01\\u82d7-\\u5353\\u5f69\",\n                    219.06\n                ],\n                [\n                    \"\\u5f20\\u831c\\u831c-\\u98ce\\u4e4b\\u5f69\",\n                    272.52\n                ]\n            ],\n            \"hoverAnimation\": true,\n            \"label\": {\n                \"show\": false,\n                \"position\": \"top\",\n                \"margin\": 8,\n                \"fontSize\": 14,\n                \"formatter\": function (params) {return params.value[1]+'%'}\n            },\n            \"lineStyle\": {\n                \"show\": true,\n                \"width\": 1,\n                \"opacity\": 1,\n                \"curveness\": 0,\n                \"type\": \"solid\"\n            },\n            \"areaStyle\": {\n                \"opacity\": 0\n            },\n            \"zlevel\": 0,\n            \"z\": 10,\n            \"rippleEffect\": {\n                \"show\": true,\n                \"brushType\": \"stroke\",\n                \"scale\": 2.5,\n                \"period\": 4\n            }\n        },\n        {\n            \"type\": \"line\",\n            \"name\": \"\\u53d1\\u8d27\\u5b8c\\u6210\\u7387\",\n            \"connectNulls\": false,\n            \"yAxisIndex\": 1,\n            \"symbolSize\": 4,\n            \"showSymbol\": true,\n            \"smooth\": false,\n            \"step\": false,\n            \"data\": [\n                [\n                    \"\\u6bdb\\u6587-\\u9ed1\\u9a6c\",\n                    712.0\n                ],\n                [\n                    \"\\u5f20\\u96ea\\u840d-\\u660e\\u661f\",\n                    97.16\n                ],\n                [\n                    \"\\u8463\\u5168\\u7ea2-\\u660e\\u661f\",\n                    107.34\n                ],\n                [\n                    \"\\u5218\\u4e9a\\u6b4c-\\u660e\\u661f\",\n                    106.41\n                ],\n                [\n                    \"\\u9ad8\\u6735\\u6735-\\u805a\\u5fae\",\n                    67.19\n                ],\n                [\n                    \"\\u90ed\\u5b5f\\u6d01-\\u660e\\u661f\",\n                    56.55\n                ],\n                [\n                    \"\\u738b\\u5a77\\u5a77-\\u98ce\\u4e4b\\u5f69\",\n                    147.0\n                ],\n                [\n                    \"\\u5218\\u53cc\\u534e-\\u9ed1\\u9a6c\",\n                    83.83\n                ],\n                [\n                    \"\\u4f59\\u5b8f\\u654f-BOSS\",\n                    114.16\n                ],\n                [\n                    \"\\u674e\\u71d5-\\u6311\\u6218\\u8005\",\n                    368.68\n                ],\n                [\n                    \"\\u5218\\u5fe0\\u7434-\\u9ed1\\u9a6c\",\n                    145.77\n                ],\n                [\n                    \"\\u5305\\u840d\\u9759-\\u98ce\\u4e4b\\u5f69\",\n                    135.85\n                ],\n                [\n                    \"\\u5218\\u5f69\\u971e-\\u98ce\\u4e4b\\u5f69\",\n                    195.4\n                ],\n                [\n                    \"\\u4e01\\u82d7-\\u5353\\u5f69\",\n                    106.42\n                ],\n                [\n                    \"\\u5f20\\u831c\\u831c-\\u98ce\\u4e4b\\u5f69\",\n                    305.25\n                ]\n            ],\n            \"hoverAnimation\": true,\n            \"label\": {\n                \"show\": false,\n                \"position\": \"top\",\n                \"margin\": 8,\n                \"fontSize\": 14,\n                \"formatter\": function (params) {return params.value[1]+'%'}\n            },\n            \"lineStyle\": {\n                \"show\": true,\n                \"width\": 1,\n                \"opacity\": 1,\n                \"curveness\": 0,\n                \"type\": \"solid\"\n            },\n            \"areaStyle\": {\n                \"opacity\": 0\n            },\n            \"zlevel\": 0,\n            \"z\": 10,\n            \"rippleEffect\": {\n                \"show\": true,\n                \"brushType\": \"stroke\",\n                \"scale\": 2.5,\n                \"period\": 4\n            }\n        }\n    ],\n    \"legend\": [\n        {\n            \"data\": [\n                \"\\u56de\\u6b3e\\u91d1\\u989d\",\n                \"\\u53d1\\u8d27\\u91d1\\u989d\",\n                \"\\u56de\\u6b3e\\u5b8c\\u6210\\u7387\",\n                \"\\u53d1\\u8d27\\u5b8c\\u6210\\u7387\"\n            ],\n            \"selected\": {\n                \"\\u56de\\u6b3e\\u91d1\\u989d\": true,\n                \"\\u53d1\\u8d27\\u91d1\\u989d\": true\n            },\n            \"show\": true,\n            \"padding\": 5,\n            \"itemGap\": 10,\n            \"itemWidth\": 25,\n            \"itemHeight\": 14\n        }\n    ],\n    \"tooltip\": {\n        \"show\": true,\n        \"trigger\": \"item\",\n        \"triggerOn\": \"mousemove|click\",\n        \"axisPointer\": {\n            \"type\": \"line\"\n        },\n        \"textStyle\": {\n            \"fontSize\": 14\n        },\n        \"borderWidth\": 0\n    },\n    \"xAxis\": [\n        {\n            \"show\": true,\n            \"scale\": false,\n            \"nameLocation\": \"end\",\n            \"nameGap\": 15,\n            \"gridIndex\": 0,\n            \"axisLabel\": {\n                \"show\": true,\n                \"position\": \"top\",\n                \"rotate\": -40,\n                \"margin\": 8,\n                \"fontSize\": 12\n            },\n            \"inverse\": false,\n            \"offset\": 0,\n            \"splitNumber\": 5,\n            \"minInterval\": 0,\n            \"splitLine\": {\n                \"show\": false,\n                \"lineStyle\": {\n                    \"show\": true,\n                    \"width\": 1,\n                    \"opacity\": 1,\n                    \"curveness\": 0,\n                    \"type\": \"solid\"\n                }\n            },\n            \"data\": [\n                \"\\u6bdb\\u6587-\\u9ed1\\u9a6c\",\n                \"\\u5f20\\u96ea\\u840d-\\u660e\\u661f\",\n                \"\\u8463\\u5168\\u7ea2-\\u660e\\u661f\",\n                \"\\u5218\\u4e9a\\u6b4c-\\u660e\\u661f\",\n                \"\\u9ad8\\u6735\\u6735-\\u805a\\u5fae\",\n                \"\\u90ed\\u5b5f\\u6d01-\\u660e\\u661f\",\n                \"\\u738b\\u5a77\\u5a77-\\u98ce\\u4e4b\\u5f69\",\n                \"\\u5218\\u53cc\\u534e-\\u9ed1\\u9a6c\",\n                \"\\u4f59\\u5b8f\\u654f-BOSS\",\n                \"\\u674e\\u71d5-\\u6311\\u6218\\u8005\",\n                \"\\u5218\\u5fe0\\u7434-\\u9ed1\\u9a6c\",\n                \"\\u5305\\u840d\\u9759-\\u98ce\\u4e4b\\u5f69\",\n                \"\\u5218\\u5f69\\u971e-\\u98ce\\u4e4b\\u5f69\",\n                \"\\u4e01\\u82d7-\\u5353\\u5f69\",\n                \"\\u5f20\\u831c\\u831c-\\u98ce\\u4e4b\\u5f69\"\n            ]\n        }\n    ],\n    \"yAxis\": [\n        {\n            \"show\": true,\n            \"scale\": false,\n            \"nameLocation\": \"end\",\n            \"nameGap\": 15,\n            \"gridIndex\": 0,\n            \"axisLine\": {\n                \"show\": false,\n                \"onZero\": true,\n                \"onZeroAxisIndex\": 0\n            },\n            \"axisLabel\": {\n                \"show\": true,\n                \"position\": \"top\",\n                \"margin\": 8,\n                \"fontSize\": 14\n            },\n            \"inverse\": false,\n            \"offset\": 0,\n            \"splitNumber\": 5,\n            \"min\": 0,\n            \"minInterval\": 0,\n            \"splitLine\": {\n                \"show\": false,\n                \"lineStyle\": {\n                    \"show\": true,\n                    \"width\": 1,\n                    \"opacity\": 1,\n                    \"curveness\": 0,\n                    \"type\": \"solid\"\n                }\n            }\n        },\n        {\n            \"type\": \"value\",\n            \"show\": true,\n            \"scale\": false,\n            \"nameLocation\": \"end\",\n            \"nameGap\": 15,\n            \"gridIndex\": 0,\n            \"axisLine\": {\n                \"show\": false,\n                \"onZero\": true,\n                \"onZeroAxisIndex\": 0\n            },\n            \"axisTick\": {\n                \"show\": false,\n                \"alignWithLabel\": false,\n                \"inside\": false\n            },\n            \"axisLabel\": {\n                \"show\": true,\n                \"position\": \"top\",\n                \"margin\": 8,\n                \"fontSize\": 14,\n                \"formatter\": \"{value} %\"\n            },\n            \"inverse\": false,\n            \"position\": \"right\",\n            \"offset\": 0,\n            \"splitNumber\": 5,\n            \"minInterval\": 0,\n            \"splitLine\": {\n                \"show\": false,\n                \"lineStyle\": {\n                    \"show\": true,\n                    \"width\": 1,\n                    \"opacity\": 1,\n                    \"curveness\": 0,\n                    \"type\": \"solid\"\n                }\n            }\n        }\n    ],\n    \"title\": [\n        {\n            \"text\": \"\\u7b2c\\u4e00\\u5b63\\u5ea6-Top15-\\u56de\\u6b3e\\u4ee3\\u7406\",\n            \"padding\": 5,\n            \"itemGap\": 10\n        }\n    ],\n    \"grid\": [\n        {\n            \"left\": \"5%\",\n            \"right\": \"20%\",\n            \"containLabel\": false\n        }\n    ]\n};\n                chart_915adff9a81b40b39ff041d1ef912b82.setOption(option_915adff9a81b40b39ff041d1ef912b82);\n        });\n    </script>\n"
     },
     "metadata": {},
     "execution_count": 48
    }
   ],
   "source": [
    "bar = (\n",
    "    Bar()\n",
    "    .add_xaxis(df_returned_ship_quarter_gy_top15['name_Alliance'].tolist())\n",
    "    .extend_axis(yaxis=opts.AxisOpts(\n",
    "        type_=\"value\", position=\"right\",axislabel_opts=opts.LabelOpts(font_size = 14,formatter=\"{value} %\"),\n",
    "        axisline_opts = opts.AxisLineOpts(is_show = False),axistick_opts =  opts.AxisTickOpts(is_show = False)))\n",
    "    .add_yaxis(\"回款金额\", round(df_returned_ship_quarter_gy_top15['returned_money'],2).tolist(),yaxis_index=0,stack=\"stack1\")\n",
    "    .add_yaxis(\"发货金额\", round(df_returned_ship_quarter_gy_top15['ship_money'],2).tolist(),yaxis_index=0,stack=\"stack1\")\n",
    "    \n",
    "    .set_global_opts(\n",
    "        title_opts=opts.TitleOpts(title=\"第一季度-Top15-回款代理\"),\n",
    "        yaxis_opts = opts.AxisOpts(min_= 0,is_show = True,axislabel_opts=opts.LabelOpts(font_size = 14),axisline_opts = opts.AxisLineOpts(is_show = False)),\n",
    "        xaxis_opts = opts.AxisOpts(axislabel_opts=opts.LabelOpts(font_size = 12,rotate = -40))\n",
    "    )\n",
    "    .set_series_opts(label_opts=opts.LabelOpts(font_size = 14,is_show = False))\n",
    "                    )\n",
    "line = (\n",
    "    Line()\n",
    "    .add_xaxis(df_returned_ship_quarter_gy_top15['name_Alliance'].tolist())\n",
    "    .add_yaxis(\"回款完成率\",[round(n*100,2) for n in df_returned_ship_quarter_gy_top15['returned_rat'].tolist()] ,linestyle_opts= opts.LineStyleOpts(width =1),yaxis_index=1,z=10,label_opts=opts.LabelOpts(font_size = 12,formatter=\"{c} %\"))\n",
    "    .add_yaxis(\"发货完成率\",[round(n*100,2) for n in df_returned_ship_quarter_gy_top15['ship_rat'].tolist()] ,yaxis_index=1,z=10,label_opts=opts.LabelOpts(font_size = 12,formatter=\"{c} %\"))\n",
    "    .set_global_opts(\n",
    "            title_opts =opts.TitleOpts(title = ''),\n",
    "    )\n",
    "    .set_series_opts(\n",
    "            label_opts=opts.LabelOpts(font_size = 14,formatter= JsCode(\"function (params) {return params.value[1]+'%'}\"),is_show= False)\n",
    "           \n",
    "    )   )     \n",
    "bar.overlap(line)\n",
    "grid = Grid(init_opts = opts.InitOpts(theme=ThemeType.WESTEROS,width='850px',height='600px'))\n",
    "grid.add(bar, opts.GridOpts(pos_left=\"5%\", pos_right=\"20%\"), is_control_axis_index=True)\n",
    "grid.render_notebook()"
   ]
  },
  {
   "cell_type": "code",
   "execution_count": 49,
   "metadata": {},
   "outputs": [],
   "source": [
    "line = (\n",
    "    Line()\n",
    "    .add_xaxis(yoy_return.index.strftime('%Y-%m').tolist())\n",
    "    .add_yaxis(\"回款完成率\",[round(n*100,2) for n in df_returned_ship_quarter_gy_top15['returned_rat'].tolist()] ,yaxis_index=1,z=10)\n",
    "    .set_global_opts(\n",
    "            title_opts =opts.TitleOpts(title = '联盟同比'),\n",
    "    )\n",
    "    .set_series_opts(\n",
    "            label_opts=opts.LabelOpts(font_size = 14,formatter= JsCode(\"function (params) {return params.value[1]+'%'}\"))\n",
    "    )        \n",
    ")"
   ]
  },
  {
   "cell_type": "code",
   "execution_count": null,
   "metadata": {},
   "outputs": [],
   "source": []
  },
  {
   "cell_type": "markdown",
   "metadata": {},
   "source": [
    "- 第一季的回款和发货完成率"
   ]
  },
  {
   "cell_type": "code",
   "execution_count": 50,
   "metadata": {},
   "outputs": [
    {
     "output_type": "execute_result",
     "data": {
      "text/plain": [
       "  UnionNumber name_Alliance  returned_money  ship_money  target_return  \\\n",
       "0  CM00003664         毛文-黑马        172.0000    158.2766          17.89   \n",
       "1  CM00000095        张雪萍-明星        100.6276     23.8729          28.42   \n",
       "2  CM00000067        董全红-明星        100.0110     27.2848          29.40   \n",
       "3  CM00000086        刘亚歌-明星        100.0000     26.5930          28.91   \n",
       "4  CM00000105        高朵朵-聚微        100.0000     16.6150          24.50   \n",
       "\n",
       "   target_ship  returned_rat  ship_rat  \n",
       "0        22.23      9.614310  7.119955  \n",
       "1        24.57      3.540732  0.971628  \n",
       "2        25.42      3.401735  1.073360  \n",
       "3        24.99      3.459011  1.064146  \n",
       "4        24.73      4.081633  0.671856  "
      ],
      "text/html": "<div>\n<style scoped>\n    .dataframe tbody tr th:only-of-type {\n        vertical-align: middle;\n    }\n\n    .dataframe tbody tr th {\n        vertical-align: top;\n    }\n\n    .dataframe thead th {\n        text-align: right;\n    }\n</style>\n<table border=\"1\" class=\"dataframe\">\n  <thead>\n    <tr style=\"text-align: right;\">\n      <th></th>\n      <th>UnionNumber</th>\n      <th>name_Alliance</th>\n      <th>returned_money</th>\n      <th>ship_money</th>\n      <th>target_return</th>\n      <th>target_ship</th>\n      <th>returned_rat</th>\n      <th>ship_rat</th>\n    </tr>\n  </thead>\n  <tbody>\n    <tr>\n      <th>0</th>\n      <td>CM00003664</td>\n      <td>毛文-黑马</td>\n      <td>172.0000</td>\n      <td>158.2766</td>\n      <td>17.89</td>\n      <td>22.23</td>\n      <td>9.614310</td>\n      <td>7.119955</td>\n    </tr>\n    <tr>\n      <th>1</th>\n      <td>CM00000095</td>\n      <td>张雪萍-明星</td>\n      <td>100.6276</td>\n      <td>23.8729</td>\n      <td>28.42</td>\n      <td>24.57</td>\n      <td>3.540732</td>\n      <td>0.971628</td>\n    </tr>\n    <tr>\n      <th>2</th>\n      <td>CM00000067</td>\n      <td>董全红-明星</td>\n      <td>100.0110</td>\n      <td>27.2848</td>\n      <td>29.40</td>\n      <td>25.42</td>\n      <td>3.401735</td>\n      <td>1.073360</td>\n    </tr>\n    <tr>\n      <th>3</th>\n      <td>CM00000086</td>\n      <td>刘亚歌-明星</td>\n      <td>100.0000</td>\n      <td>26.5930</td>\n      <td>28.91</td>\n      <td>24.99</td>\n      <td>3.459011</td>\n      <td>1.064146</td>\n    </tr>\n    <tr>\n      <th>4</th>\n      <td>CM00000105</td>\n      <td>高朵朵-聚微</td>\n      <td>100.0000</td>\n      <td>16.6150</td>\n      <td>24.50</td>\n      <td>24.73</td>\n      <td>4.081633</td>\n      <td>0.671856</td>\n    </tr>\n  </tbody>\n</table>\n</div>"
     },
     "metadata": {},
     "execution_count": 50
    }
   ],
   "source": [
    "df =  df_returned_ship_quarter_gy[:5].copy()\n",
    "df"
   ]
  },
  {
   "cell_type": "code",
   "execution_count": 51,
   "metadata": {},
   "outputs": [
    {
     "output_type": "execute_result",
     "data": {
      "text/plain": [
       "  UnionNumber name_Alliance  returned_money  ship_money  target_return  \\\n",
       "0  CM00003664         毛文-黑马        172.0000    158.2766          17.89   \n",
       "1  CM00000095        张雪萍-明星        100.6276     23.8729          28.42   \n",
       "2  CM00000067        董全红-明星        100.0110     27.2848          29.40   \n",
       "3  CM00000086        刘亚歌-明星        100.0000     26.5930          28.91   \n",
       "4  CM00000105        高朵朵-聚微        100.0000     16.6150          24.50   \n",
       "\n",
       "   target_ship  returned_rat  ship_rat        22        33        44  \n",
       "0        22.23      9.614310  7.119955  330.2766  572.6386  172.0000  \n",
       "1        24.57      3.540732  0.971628  124.5005  572.6386  272.6276  \n",
       "2        25.42      3.401735  1.073360  127.2958  572.6386  372.6386  \n",
       "3        24.99      3.459011  1.064146  126.5930  572.6386  472.6386  \n",
       "4        24.73      4.081633  0.671856  116.6150  572.6386  572.6386  "
      ],
      "text/html": "<div>\n<style scoped>\n    .dataframe tbody tr th:only-of-type {\n        vertical-align: middle;\n    }\n\n    .dataframe tbody tr th {\n        vertical-align: top;\n    }\n\n    .dataframe thead th {\n        text-align: right;\n    }\n</style>\n<table border=\"1\" class=\"dataframe\">\n  <thead>\n    <tr style=\"text-align: right;\">\n      <th></th>\n      <th>UnionNumber</th>\n      <th>name_Alliance</th>\n      <th>returned_money</th>\n      <th>ship_money</th>\n      <th>target_return</th>\n      <th>target_ship</th>\n      <th>returned_rat</th>\n      <th>ship_rat</th>\n      <th>22</th>\n      <th>33</th>\n      <th>44</th>\n    </tr>\n  </thead>\n  <tbody>\n    <tr>\n      <th>0</th>\n      <td>CM00003664</td>\n      <td>毛文-黑马</td>\n      <td>172.0000</td>\n      <td>158.2766</td>\n      <td>17.89</td>\n      <td>22.23</td>\n      <td>9.614310</td>\n      <td>7.119955</td>\n      <td>330.2766</td>\n      <td>572.6386</td>\n      <td>172.0000</td>\n    </tr>\n    <tr>\n      <th>1</th>\n      <td>CM00000095</td>\n      <td>张雪萍-明星</td>\n      <td>100.6276</td>\n      <td>23.8729</td>\n      <td>28.42</td>\n      <td>24.57</td>\n      <td>3.540732</td>\n      <td>0.971628</td>\n      <td>124.5005</td>\n      <td>572.6386</td>\n      <td>272.6276</td>\n    </tr>\n    <tr>\n      <th>2</th>\n      <td>CM00000067</td>\n      <td>董全红-明星</td>\n      <td>100.0110</td>\n      <td>27.2848</td>\n      <td>29.40</td>\n      <td>25.42</td>\n      <td>3.401735</td>\n      <td>1.073360</td>\n      <td>127.2958</td>\n      <td>572.6386</td>\n      <td>372.6386</td>\n    </tr>\n    <tr>\n      <th>3</th>\n      <td>CM00000086</td>\n      <td>刘亚歌-明星</td>\n      <td>100.0000</td>\n      <td>26.5930</td>\n      <td>28.91</td>\n      <td>24.99</td>\n      <td>3.459011</td>\n      <td>1.064146</td>\n      <td>126.5930</td>\n      <td>572.6386</td>\n      <td>472.6386</td>\n    </tr>\n    <tr>\n      <th>4</th>\n      <td>CM00000105</td>\n      <td>高朵朵-聚微</td>\n      <td>100.0000</td>\n      <td>16.6150</td>\n      <td>24.50</td>\n      <td>24.73</td>\n      <td>4.081633</td>\n      <td>0.671856</td>\n      <td>116.6150</td>\n      <td>572.6386</td>\n      <td>572.6386</td>\n    </tr>\n  </tbody>\n</table>\n</div>"
     },
     "metadata": {},
     "execution_count": 51
    }
   ],
   "source": [
    "df['22'] = df['returned_money'] + df['ship_money']\n",
    "df['33'] = df['returned_money'].sum()\n",
    "df['44'] = df['returned_money'].cumsum()\n",
    "df"
   ]
  },
  {
   "cell_type": "markdown",
   "metadata": {},
   "source": [
    "## 当月的回款发货数据"
   ]
  },
  {
   "cell_type": "code",
   "execution_count": 52,
   "metadata": {},
   "outputs": [
    {
     "output_type": "execute_result",
     "data": {
      "text/plain": [
       "10251.139000000001"
      ]
     },
     "metadata": {},
     "execution_count": 52
    }
   ],
   "source": [
    "df_returned_ship_03 = df_customer_returned_ship_month.loc[(df_customer_returned_ship_month['month'] >='2021-03-01') & (df_customer_returned_ship_month['month'] <='2021-03-31'),['month','UnionNumber','name_Alliance','TopUserName','AllianceName','returned_money','ship_money']]\n",
    "df_returned_ship_03.ship_money.sum()"
   ]
  },
  {
   "cell_type": "markdown",
   "metadata": {},
   "source": [
    "### 每天的回款情况和平均回款差异"
   ]
  },
  {
   "cell_type": "code",
   "execution_count": 53,
   "metadata": {},
   "outputs": [],
   "source": [
    "def diff(df): \n",
    "    df['avg_returned'] = df['returned_money'].mean()\n",
    "    df['avg_ship'] = df['ship_money'].mean()\n",
    "    df['diff_returned'] = df['returned_money'] - df['avg_returned']\n",
    "    df['diff_ship'] = df['ship_money'] - df['avg_ship']\n",
    "    df.drop(['avg_returned','avg_ship'],axis = 1,inplace = True)\n",
    "    return df"
   ]
  },
  {
   "cell_type": "code",
   "execution_count": 54,
   "metadata": {},
   "outputs": [
    {
     "output_type": "execute_result",
     "data": {
      "text/plain": [
       "         month  returned_money  ship_money  diff_returned    diff_ship\n",
       "0   2021-03-01         -2.6134    118.7418    -397.149148  -211.940103\n",
       "1   2021-03-02       6906.6384    974.7769    6512.102652   644.094997\n",
       "2   2021-03-03        761.9765   1776.9546     367.440752  1446.272697\n",
       "3   2021-03-04        639.8398    473.6330     245.304052   142.951097\n",
       "4   2021-03-05        372.4646    456.7543     -22.071148   126.072397\n",
       "5   2021-03-06        375.6583    464.1915     -18.877448   133.509597\n",
       "6   2021-03-07        189.7925    455.7500    -204.743248   125.068097\n",
       "7   2021-03-08        227.4376    423.2385    -167.098148    92.556597\n",
       "8   2021-03-09        248.8905    337.7930    -145.645248     7.111097\n",
       "9   2021-03-10        275.9735    198.8648    -118.562248  -131.817103\n",
       "10  2021-03-11        201.9042    274.8577    -192.631548   -55.824203\n",
       "11  2021-03-12        190.5649    156.7106    -203.970848  -173.971303\n",
       "12  2021-03-13        128.9416    114.4553    -265.594148  -216.226603\n",
       "13  2021-03-14        101.2175    149.9735    -293.318248  -180.708403\n",
       "14  2021-03-15        139.8207    221.1142    -254.715048  -109.567703\n",
       "15  2021-03-16        160.9829    273.9113    -233.552848   -56.770603\n",
       "16  2021-03-17         83.7276    310.2209    -310.808148   -20.461003\n",
       "17  2021-03-18         68.3495    253.9641    -326.186248   -76.717803\n",
       "18  2021-03-19         91.8808    287.3427    -302.654948   -43.339203\n",
       "19  2021-03-20         68.4421    189.1225    -326.093648  -141.559403\n",
       "20  2021-03-21         42.3816    274.1740    -352.154148   -56.507903\n",
       "21  2021-03-22         95.0876    407.5534    -299.448148    76.871497\n",
       "22  2021-03-23        165.8655    577.9657    -228.670248   247.283797\n",
       "23  2021-03-24         82.3445    155.5770    -312.191248  -175.104903\n",
       "24  2021-03-25         94.4128    188.8997    -300.122948  -141.782203\n",
       "25  2021-03-26         89.4141     85.2296    -305.121648  -245.452303\n",
       "26  2021-03-27         83.9754     86.8723    -310.560348  -243.809603\n",
       "27  2021-03-28         46.4034     47.6930    -348.132348  -282.988903\n",
       "28  2021-03-29        107.5784    174.8544    -286.957348  -155.827503\n",
       "29  2021-03-30         85.1520    204.1454    -309.383748  -126.536503\n",
       "30  2021-03-31        106.1028    135.8033    -288.432948  -194.878603"
      ],
      "text/html": "<div>\n<style scoped>\n    .dataframe tbody tr th:only-of-type {\n        vertical-align: middle;\n    }\n\n    .dataframe tbody tr th {\n        vertical-align: top;\n    }\n\n    .dataframe thead th {\n        text-align: right;\n    }\n</style>\n<table border=\"1\" class=\"dataframe\">\n  <thead>\n    <tr style=\"text-align: right;\">\n      <th></th>\n      <th>month</th>\n      <th>returned_money</th>\n      <th>ship_money</th>\n      <th>diff_returned</th>\n      <th>diff_ship</th>\n    </tr>\n  </thead>\n  <tbody>\n    <tr>\n      <th>0</th>\n      <td>2021-03-01</td>\n      <td>-2.6134</td>\n      <td>118.7418</td>\n      <td>-397.149148</td>\n      <td>-211.940103</td>\n    </tr>\n    <tr>\n      <th>1</th>\n      <td>2021-03-02</td>\n      <td>6906.6384</td>\n      <td>974.7769</td>\n      <td>6512.102652</td>\n      <td>644.094997</td>\n    </tr>\n    <tr>\n      <th>2</th>\n      <td>2021-03-03</td>\n      <td>761.9765</td>\n      <td>1776.9546</td>\n      <td>367.440752</td>\n      <td>1446.272697</td>\n    </tr>\n    <tr>\n      <th>3</th>\n      <td>2021-03-04</td>\n      <td>639.8398</td>\n      <td>473.6330</td>\n      <td>245.304052</td>\n      <td>142.951097</td>\n    </tr>\n    <tr>\n      <th>4</th>\n      <td>2021-03-05</td>\n      <td>372.4646</td>\n      <td>456.7543</td>\n      <td>-22.071148</td>\n      <td>126.072397</td>\n    </tr>\n    <tr>\n      <th>5</th>\n      <td>2021-03-06</td>\n      <td>375.6583</td>\n      <td>464.1915</td>\n      <td>-18.877448</td>\n      <td>133.509597</td>\n    </tr>\n    <tr>\n      <th>6</th>\n      <td>2021-03-07</td>\n      <td>189.7925</td>\n      <td>455.7500</td>\n      <td>-204.743248</td>\n      <td>125.068097</td>\n    </tr>\n    <tr>\n      <th>7</th>\n      <td>2021-03-08</td>\n      <td>227.4376</td>\n      <td>423.2385</td>\n      <td>-167.098148</td>\n      <td>92.556597</td>\n    </tr>\n    <tr>\n      <th>8</th>\n      <td>2021-03-09</td>\n      <td>248.8905</td>\n      <td>337.7930</td>\n      <td>-145.645248</td>\n      <td>7.111097</td>\n    </tr>\n    <tr>\n      <th>9</th>\n      <td>2021-03-10</td>\n      <td>275.9735</td>\n      <td>198.8648</td>\n      <td>-118.562248</td>\n      <td>-131.817103</td>\n    </tr>\n    <tr>\n      <th>10</th>\n      <td>2021-03-11</td>\n      <td>201.9042</td>\n      <td>274.8577</td>\n      <td>-192.631548</td>\n      <td>-55.824203</td>\n    </tr>\n    <tr>\n      <th>11</th>\n      <td>2021-03-12</td>\n      <td>190.5649</td>\n      <td>156.7106</td>\n      <td>-203.970848</td>\n      <td>-173.971303</td>\n    </tr>\n    <tr>\n      <th>12</th>\n      <td>2021-03-13</td>\n      <td>128.9416</td>\n      <td>114.4553</td>\n      <td>-265.594148</td>\n      <td>-216.226603</td>\n    </tr>\n    <tr>\n      <th>13</th>\n      <td>2021-03-14</td>\n      <td>101.2175</td>\n      <td>149.9735</td>\n      <td>-293.318248</td>\n      <td>-180.708403</td>\n    </tr>\n    <tr>\n      <th>14</th>\n      <td>2021-03-15</td>\n      <td>139.8207</td>\n      <td>221.1142</td>\n      <td>-254.715048</td>\n      <td>-109.567703</td>\n    </tr>\n    <tr>\n      <th>15</th>\n      <td>2021-03-16</td>\n      <td>160.9829</td>\n      <td>273.9113</td>\n      <td>-233.552848</td>\n      <td>-56.770603</td>\n    </tr>\n    <tr>\n      <th>16</th>\n      <td>2021-03-17</td>\n      <td>83.7276</td>\n      <td>310.2209</td>\n      <td>-310.808148</td>\n      <td>-20.461003</td>\n    </tr>\n    <tr>\n      <th>17</th>\n      <td>2021-03-18</td>\n      <td>68.3495</td>\n      <td>253.9641</td>\n      <td>-326.186248</td>\n      <td>-76.717803</td>\n    </tr>\n    <tr>\n      <th>18</th>\n      <td>2021-03-19</td>\n      <td>91.8808</td>\n      <td>287.3427</td>\n      <td>-302.654948</td>\n      <td>-43.339203</td>\n    </tr>\n    <tr>\n      <th>19</th>\n      <td>2021-03-20</td>\n      <td>68.4421</td>\n      <td>189.1225</td>\n      <td>-326.093648</td>\n      <td>-141.559403</td>\n    </tr>\n    <tr>\n      <th>20</th>\n      <td>2021-03-21</td>\n      <td>42.3816</td>\n      <td>274.1740</td>\n      <td>-352.154148</td>\n      <td>-56.507903</td>\n    </tr>\n    <tr>\n      <th>21</th>\n      <td>2021-03-22</td>\n      <td>95.0876</td>\n      <td>407.5534</td>\n      <td>-299.448148</td>\n      <td>76.871497</td>\n    </tr>\n    <tr>\n      <th>22</th>\n      <td>2021-03-23</td>\n      <td>165.8655</td>\n      <td>577.9657</td>\n      <td>-228.670248</td>\n      <td>247.283797</td>\n    </tr>\n    <tr>\n      <th>23</th>\n      <td>2021-03-24</td>\n      <td>82.3445</td>\n      <td>155.5770</td>\n      <td>-312.191248</td>\n      <td>-175.104903</td>\n    </tr>\n    <tr>\n      <th>24</th>\n      <td>2021-03-25</td>\n      <td>94.4128</td>\n      <td>188.8997</td>\n      <td>-300.122948</td>\n      <td>-141.782203</td>\n    </tr>\n    <tr>\n      <th>25</th>\n      <td>2021-03-26</td>\n      <td>89.4141</td>\n      <td>85.2296</td>\n      <td>-305.121648</td>\n      <td>-245.452303</td>\n    </tr>\n    <tr>\n      <th>26</th>\n      <td>2021-03-27</td>\n      <td>83.9754</td>\n      <td>86.8723</td>\n      <td>-310.560348</td>\n      <td>-243.809603</td>\n    </tr>\n    <tr>\n      <th>27</th>\n      <td>2021-03-28</td>\n      <td>46.4034</td>\n      <td>47.6930</td>\n      <td>-348.132348</td>\n      <td>-282.988903</td>\n    </tr>\n    <tr>\n      <th>28</th>\n      <td>2021-03-29</td>\n      <td>107.5784</td>\n      <td>174.8544</td>\n      <td>-286.957348</td>\n      <td>-155.827503</td>\n    </tr>\n    <tr>\n      <th>29</th>\n      <td>2021-03-30</td>\n      <td>85.1520</td>\n      <td>204.1454</td>\n      <td>-309.383748</td>\n      <td>-126.536503</td>\n    </tr>\n    <tr>\n      <th>30</th>\n      <td>2021-03-31</td>\n      <td>106.1028</td>\n      <td>135.8033</td>\n      <td>-288.432948</td>\n      <td>-194.878603</td>\n    </tr>\n  </tbody>\n</table>\n</div>"
     },
     "metadata": {},
     "execution_count": 54
    }
   ],
   "source": [
    "df_returned_ship_day = df_returned_ship_03.groupby('month')[['returned_money','ship_money']].sum()\n",
    "df_returned_ship_day.reset_index(inplace = True)\n",
    "df = diff(df_returned_ship_day)\n",
    "df"
   ]
  },
  {
   "cell_type": "code",
   "execution_count": 55,
   "metadata": {},
   "outputs": [
    {
     "output_type": "execute_result",
     "data": {
      "text/plain": [
       "<pyecharts.render.display.HTML at 0x288918a7388>"
      ],
      "text/html": "\n<script>\n    require.config({\n        paths: {\n            'echarts':'https://assets.pyecharts.org/assets/echarts.min', 'wonderland':'https://assets.pyecharts.org/assets/themes/wonderland'\n        }\n    });\n</script>\n\n        <div id=\"d9fa52b796c34afcbeacbc4f98a49254\" style=\"width:1200px; height:600px;\"></div>\n\n<script>\n        require(['echarts', 'wonderland'], function(echarts) {\n                var chart_d9fa52b796c34afcbeacbc4f98a49254 = echarts.init(\n                    document.getElementById('d9fa52b796c34afcbeacbc4f98a49254'), 'wonderland', {renderer: 'canvas'});\n                var option_d9fa52b796c34afcbeacbc4f98a49254 = {\n    \"animation\": true,\n    \"animationThreshold\": 2000,\n    \"animationDuration\": 1000,\n    \"animationEasing\": \"cubicOut\",\n    \"animationDelay\": 0,\n    \"animationDurationUpdate\": 300,\n    \"animationEasingUpdate\": \"cubicOut\",\n    \"animationDelayUpdate\": 0,\n    \"color\": [],\n    \"series\": [\n        {\n            \"type\": \"bar\",\n            \"name\": \"\\u56de\\u6b3e\\u8f83\\u5747\\u503c\\u5dee\\u989d\",\n            \"yAxisIndex\": 0,\n            \"data\": [\n                -397.0,\n                6512.0,\n                367.0,\n                245.0,\n                -22.0,\n                -19.0,\n                -205.0,\n                -167.0,\n                -146.0,\n                -119.0,\n                -193.0,\n                -204.0,\n                -266.0,\n                -293.0,\n                -255.0,\n                -234.0,\n                -311.0,\n                -326.0,\n                -303.0,\n                -326.0,\n                -352.0,\n                -299.0,\n                -229.0,\n                -312.0,\n                -300.0,\n                -305.0,\n                -311.0,\n                -348.0,\n                -287.0,\n                -309.0,\n                -288.0\n            ],\n            \"barCategoryGap\": \"20%\",\n            \"label\": {\n                \"show\": false,\n                \"position\": \"top\",\n                \"margin\": 8,\n                \"fontSize\": 14\n            },\n            \"rippleEffect\": {\n                \"show\": true,\n                \"brushType\": \"stroke\",\n                \"scale\": 2.5,\n                \"period\": 4\n            }\n        },\n        {\n            \"type\": \"bar\",\n            \"name\": \"\\u53d1\\u8d27\\u8f83\\u5747\\u503c\\u5dee\\u989d\",\n            \"yAxisIndex\": 0,\n            \"data\": [\n                -212.0,\n                644.0,\n                1446.0,\n                143.0,\n                126.0,\n                134.0,\n                125.0,\n                93.0,\n                7.0,\n                -132.0,\n                -56.0,\n                -174.0,\n                -216.0,\n                -181.0,\n                -110.0,\n                -57.0,\n                -20.0,\n                -77.0,\n                -43.0,\n                -142.0,\n                -57.0,\n                77.0,\n                247.0,\n                -175.0,\n                -142.0,\n                -245.0,\n                -244.0,\n                -283.0,\n                -156.0,\n                -127.0,\n                -195.0\n            ],\n            \"barCategoryGap\": \"20%\",\n            \"label\": {\n                \"show\": false,\n                \"position\": \"top\",\n                \"margin\": 8,\n                \"fontSize\": 14\n            },\n            \"rippleEffect\": {\n                \"show\": true,\n                \"brushType\": \"stroke\",\n                \"scale\": 2.5,\n                \"period\": 4\n            }\n        },\n        {\n            \"type\": \"line\",\n            \"name\": \"\\u56de\\u6b3e\\u91d1\\u989d\",\n            \"connectNulls\": false,\n            \"yAxisIndex\": 1,\n            \"symbolSize\": 4,\n            \"showSymbol\": true,\n            \"smooth\": false,\n            \"step\": false,\n            \"data\": [\n                [\n                    \"2021-03-01\",\n                    -3.0\n                ],\n                [\n                    \"2021-03-02\",\n                    6907.0\n                ],\n                [\n                    \"2021-03-03\",\n                    762.0\n                ],\n                [\n                    \"2021-03-04\",\n                    640.0\n                ],\n                [\n                    \"2021-03-05\",\n                    372.0\n                ],\n                [\n                    \"2021-03-06\",\n                    376.0\n                ],\n                [\n                    \"2021-03-07\",\n                    190.0\n                ],\n                [\n                    \"2021-03-08\",\n                    227.0\n                ],\n                [\n                    \"2021-03-09\",\n                    249.0\n                ],\n                [\n                    \"2021-03-10\",\n                    276.0\n                ],\n                [\n                    \"2021-03-11\",\n                    202.0\n                ],\n                [\n                    \"2021-03-12\",\n                    191.0\n                ],\n                [\n                    \"2021-03-13\",\n                    129.0\n                ],\n                [\n                    \"2021-03-14\",\n                    101.0\n                ],\n                [\n                    \"2021-03-15\",\n                    140.0\n                ],\n                [\n                    \"2021-03-16\",\n                    161.0\n                ],\n                [\n                    \"2021-03-17\",\n                    84.0\n                ],\n                [\n                    \"2021-03-18\",\n                    68.0\n                ],\n                [\n                    \"2021-03-19\",\n                    92.0\n                ],\n                [\n                    \"2021-03-20\",\n                    68.0\n                ],\n                [\n                    \"2021-03-21\",\n                    42.0\n                ],\n                [\n                    \"2021-03-22\",\n                    95.0\n                ],\n                [\n                    \"2021-03-23\",\n                    166.0\n                ],\n                [\n                    \"2021-03-24\",\n                    82.0\n                ],\n                [\n                    \"2021-03-25\",\n                    94.0\n                ],\n                [\n                    \"2021-03-26\",\n                    89.0\n                ],\n                [\n                    \"2021-03-27\",\n                    84.0\n                ],\n                [\n                    \"2021-03-28\",\n                    46.0\n                ],\n                [\n                    \"2021-03-29\",\n                    108.0\n                ],\n                [\n                    \"2021-03-30\",\n                    85.0\n                ],\n                [\n                    \"2021-03-31\",\n                    106.0\n                ]\n            ],\n            \"hoverAnimation\": true,\n            \"label\": {\n                \"show\": false,\n                \"position\": \"top\",\n                \"margin\": 8,\n                \"fontSize\": 14,\n                \"formatter\": function (params) {return params.value[1]+'%'}\n            },\n            \"lineStyle\": {\n                \"show\": true,\n                \"width\": 1,\n                \"opacity\": 1,\n                \"curveness\": 0,\n                \"type\": \"solid\"\n            },\n            \"areaStyle\": {\n                \"opacity\": 0\n            },\n            \"markPoint\": {\n                \"label\": {\n                    \"show\": true,\n                    \"position\": \"inside\",\n                    \"color\": \"#fff\",\n                    \"margin\": 8\n                },\n                \"data\": [\n                    {\n                        \"type\": \"max\"\n                    }\n                ]\n            },\n            \"markLine\": {\n                \"silent\": false,\n                \"precision\": 2,\n                \"label\": {\n                    \"show\": true,\n                    \"position\": \"top\",\n                    \"margin\": 8\n                },\n                \"data\": [\n                    {\n                        \"type\": \"average\"\n                    }\n                ]\n            },\n            \"zlevel\": 0,\n            \"z\": 10,\n            \"rippleEffect\": {\n                \"show\": true,\n                \"brushType\": \"stroke\",\n                \"scale\": 2.5,\n                \"period\": 4\n            }\n        },\n        {\n            \"type\": \"line\",\n            \"name\": \"\\u53d1\\u8d27\\u91d1\\u989d\",\n            \"connectNulls\": false,\n            \"yAxisIndex\": 1,\n            \"symbolSize\": 4,\n            \"showSymbol\": true,\n            \"smooth\": false,\n            \"step\": false,\n            \"data\": [\n                [\n                    \"2021-03-01\",\n                    119.0\n                ],\n                [\n                    \"2021-03-02\",\n                    975.0\n                ],\n                [\n                    \"2021-03-03\",\n                    1777.0\n                ],\n                [\n                    \"2021-03-04\",\n                    474.0\n                ],\n                [\n                    \"2021-03-05\",\n                    457.0\n                ],\n                [\n                    \"2021-03-06\",\n                    464.0\n                ],\n                [\n                    \"2021-03-07\",\n                    456.0\n                ],\n                [\n                    \"2021-03-08\",\n                    423.0\n                ],\n                [\n                    \"2021-03-09\",\n                    338.0\n                ],\n                [\n                    \"2021-03-10\",\n                    199.0\n                ],\n                [\n                    \"2021-03-11\",\n                    275.0\n                ],\n                [\n                    \"2021-03-12\",\n                    157.0\n                ],\n                [\n                    \"2021-03-13\",\n                    114.0\n                ],\n                [\n                    \"2021-03-14\",\n                    150.0\n                ],\n                [\n                    \"2021-03-15\",\n                    221.0\n                ],\n                [\n                    \"2021-03-16\",\n                    274.0\n                ],\n                [\n                    \"2021-03-17\",\n                    310.0\n                ],\n                [\n                    \"2021-03-18\",\n                    254.0\n                ],\n                [\n                    \"2021-03-19\",\n                    287.0\n                ],\n                [\n                    \"2021-03-20\",\n                    189.0\n                ],\n                [\n                    \"2021-03-21\",\n                    274.0\n                ],\n                [\n                    \"2021-03-22\",\n                    408.0\n                ],\n                [\n                    \"2021-03-23\",\n                    578.0\n                ],\n                [\n                    \"2021-03-24\",\n                    156.0\n                ],\n                [\n                    \"2021-03-25\",\n                    189.0\n                ],\n                [\n                    \"2021-03-26\",\n                    85.0\n                ],\n                [\n                    \"2021-03-27\",\n                    87.0\n                ],\n                [\n                    \"2021-03-28\",\n                    48.0\n                ],\n                [\n                    \"2021-03-29\",\n                    175.0\n                ],\n                [\n                    \"2021-03-30\",\n                    204.0\n                ],\n                [\n                    \"2021-03-31\",\n                    136.0\n                ]\n            ],\n            \"hoverAnimation\": true,\n            \"label\": {\n                \"show\": false,\n                \"position\": \"top\",\n                \"margin\": 8,\n                \"fontSize\": 14,\n                \"formatter\": function (params) {return params.value[1]+'%'}\n            },\n            \"lineStyle\": {\n                \"show\": true,\n                \"width\": 1,\n                \"opacity\": 1,\n                \"curveness\": 0,\n                \"type\": \"solid\"\n            },\n            \"areaStyle\": {\n                \"opacity\": 0\n            },\n            \"markPoint\": {\n                \"label\": {\n                    \"show\": true,\n                    \"position\": \"inside\",\n                    \"color\": \"#fff\",\n                    \"margin\": 8\n                },\n                \"data\": [\n                    {\n                        \"type\": \"max\"\n                    }\n                ]\n            },\n            \"zlevel\": 0,\n            \"z\": 10,\n            \"rippleEffect\": {\n                \"show\": true,\n                \"brushType\": \"stroke\",\n                \"scale\": 2.5,\n                \"period\": 4\n            }\n        }\n    ],\n    \"legend\": [\n        {\n            \"data\": [\n                \"\\u56de\\u6b3e\\u8f83\\u5747\\u503c\\u5dee\\u989d\",\n                \"\\u53d1\\u8d27\\u8f83\\u5747\\u503c\\u5dee\\u989d\",\n                \"\\u56de\\u6b3e\\u91d1\\u989d\",\n                \"\\u53d1\\u8d27\\u91d1\\u989d\"\n            ],\n            \"selected\": {\n                \"\\u56de\\u6b3e\\u8f83\\u5747\\u503c\\u5dee\\u989d\": true,\n                \"\\u53d1\\u8d27\\u8f83\\u5747\\u503c\\u5dee\\u989d\": true\n            },\n            \"show\": true,\n            \"padding\": 5,\n            \"itemGap\": 10,\n            \"itemWidth\": 25,\n            \"itemHeight\": 14\n        }\n    ],\n    \"tooltip\": {\n        \"show\": true,\n        \"trigger\": \"item\",\n        \"triggerOn\": \"mousemove|click\",\n        \"axisPointer\": {\n            \"type\": \"line\"\n        },\n        \"textStyle\": {\n            \"fontSize\": 14\n        },\n        \"borderWidth\": 0\n    },\n    \"xAxis\": [\n        {\n            \"show\": true,\n            \"scale\": false,\n            \"nameLocation\": \"end\",\n            \"nameGap\": 15,\n            \"gridIndex\": 0,\n            \"axisLabel\": {\n                \"show\": true,\n                \"position\": \"top\",\n                \"rotate\": -40,\n                \"margin\": 8,\n                \"fontSize\": 12\n            },\n            \"inverse\": false,\n            \"offset\": 0,\n            \"splitNumber\": 5,\n            \"minInterval\": 0,\n            \"splitLine\": {\n                \"show\": false,\n                \"lineStyle\": {\n                    \"show\": true,\n                    \"width\": 1,\n                    \"opacity\": 1,\n                    \"curveness\": 0,\n                    \"type\": \"solid\"\n                }\n            },\n            \"data\": [\n                \"2021-03-01\",\n                \"2021-03-02\",\n                \"2021-03-03\",\n                \"2021-03-04\",\n                \"2021-03-05\",\n                \"2021-03-06\",\n                \"2021-03-07\",\n                \"2021-03-08\",\n                \"2021-03-09\",\n                \"2021-03-10\",\n                \"2021-03-11\",\n                \"2021-03-12\",\n                \"2021-03-13\",\n                \"2021-03-14\",\n                \"2021-03-15\",\n                \"2021-03-16\",\n                \"2021-03-17\",\n                \"2021-03-18\",\n                \"2021-03-19\",\n                \"2021-03-20\",\n                \"2021-03-21\",\n                \"2021-03-22\",\n                \"2021-03-23\",\n                \"2021-03-24\",\n                \"2021-03-25\",\n                \"2021-03-26\",\n                \"2021-03-27\",\n                \"2021-03-28\",\n                \"2021-03-29\",\n                \"2021-03-30\",\n                \"2021-03-31\"\n            ]\n        }\n    ],\n    \"yAxis\": [\n        {\n            \"show\": true,\n            \"scale\": false,\n            \"nameLocation\": \"end\",\n            \"nameGap\": 15,\n            \"gridIndex\": 0,\n            \"axisLine\": {\n                \"show\": false,\n                \"onZero\": true,\n                \"onZeroAxisIndex\": 0\n            },\n            \"axisLabel\": {\n                \"show\": true,\n                \"position\": \"top\",\n                \"margin\": 8,\n                \"fontSize\": 14\n            },\n            \"inverse\": false,\n            \"offset\": 0,\n            \"splitNumber\": 5,\n            \"minInterval\": 0,\n            \"splitLine\": {\n                \"show\": false,\n                \"lineStyle\": {\n                    \"show\": true,\n                    \"width\": 1,\n                    \"opacity\": 1,\n                    \"curveness\": 0,\n                    \"type\": \"solid\"\n                }\n            }\n        },\n        {\n            \"type\": \"value\",\n            \"show\": true,\n            \"scale\": false,\n            \"nameLocation\": \"end\",\n            \"nameGap\": 15,\n            \"gridIndex\": 0,\n            \"axisLine\": {\n                \"show\": false,\n                \"onZero\": true,\n                \"onZeroAxisIndex\": 0\n            },\n            \"axisLabel\": {\n                \"show\": true,\n                \"position\": \"top\",\n                \"margin\": 8,\n                \"fontSize\": 14,\n                \"formatter\": \"{value}\"\n            },\n            \"inverse\": false,\n            \"position\": \"right\",\n            \"offset\": 0,\n            \"splitNumber\": 5,\n            \"minInterval\": 0,\n            \"splitLine\": {\n                \"show\": false,\n                \"lineStyle\": {\n                    \"show\": true,\n                    \"width\": 1,\n                    \"opacity\": 1,\n                    \"curveness\": 0,\n                    \"type\": \"solid\"\n                }\n            }\n        }\n    ],\n    \"title\": [\n        {\n            \"text\": \"3\\u6708\\u56de\\u6b3e\\u53d1\\u8d27\",\n            \"padding\": 5,\n            \"itemGap\": 10\n        }\n    ],\n    \"grid\": [\n        {\n            \"left\": \"5%\",\n            \"right\": \"20%\",\n            \"containLabel\": false\n        }\n    ]\n};\n                chart_d9fa52b796c34afcbeacbc4f98a49254.setOption(option_d9fa52b796c34afcbeacbc4f98a49254);\n        });\n    </script>\n"
     },
     "metadata": {},
     "execution_count": 55
    }
   ],
   "source": [
    "bar = (\n",
    "    Bar()\n",
    "    .add_xaxis(df['month'].tolist())\n",
    "    .extend_axis(yaxis=opts.AxisOpts(\n",
    "        type_=\"value\", position=\"right\",axislabel_opts=opts.LabelOpts(font_size = 14,formatter=\"{value}\"),\n",
    "        axisline_opts = opts.AxisLineOpts(is_show = False)))\n",
    "    .add_yaxis(\"回款较均值差额\", round(df['diff_returned'],0).tolist(),yaxis_index=0)\n",
    "    .add_yaxis(\"发货较均值差额\", round(df['diff_ship'],0).tolist(),yaxis_index=0)\n",
    "    .set_global_opts(\n",
    "        title_opts=opts.TitleOpts(title=\"3月回款发货\"),\n",
    "        yaxis_opts = opts.AxisOpts(is_show = True,axislabel_opts=opts.LabelOpts(font_size = 14),axisline_opts = opts.AxisLineOpts(is_show = False)),\n",
    "        xaxis_opts = opts.AxisOpts(axislabel_opts=opts.LabelOpts(font_size = 12,rotate = -40))\n",
    "    )\n",
    "    .set_series_opts(label_opts=opts.LabelOpts(font_size = 14,is_show = False))\n",
    "                    )\n",
    "line = (\n",
    "    Line()\n",
    "    .add_xaxis(df['month'].tolist())\n",
    "    .add_yaxis(\"回款金额\",round(df['returned_money'],0).tolist() ,yaxis_index=1,z=10, markpoint_opts=opts.MarkPointOpts(data=[opts.MarkPointItem(type_=\"max\")]),markline_opts=opts.MarkLineOpts(data=[opts.MarkLineItem(type_=\"average\")]))\n",
    "    .add_yaxis(\"发货金额\",round(df['ship_money'],0).tolist() ,yaxis_index=1,z=10, markpoint_opts=opts.MarkPointOpts(data=[opts.MarkPointItem(type_=\"max\")]))\n",
    "    .set_global_opts(\n",
    "            title_opts =opts.TitleOpts(title = ''),\n",
    "    )\n",
    "    .set_series_opts(\n",
    "            label_opts=opts.LabelOpts(font_size = 14,formatter= JsCode(\"function (params) {return params.value[1]+'%'}\"),is_show= False)\n",
    "    )        \n",
    ")\n",
    "bar.overlap(line)\n",
    "grid = Grid(init_opts = opts.InitOpts(theme=ThemeType.WONDERLAND,width='1200px',height='600px'))\n",
    "grid.add(bar, opts.GridOpts(pos_left=\"5%\", pos_right=\"20%\"), is_control_axis_index=True)\n",
    "grid.render_notebook()"
   ]
  },
  {
   "cell_type": "markdown",
   "metadata": {},
   "source": [
    "### 代理维度分析回款发货"
   ]
  },
  {
   "cell_type": "code",
   "execution_count": 56,
   "metadata": {},
   "outputs": [
    {
     "output_type": "execute_result",
     "data": {
      "text/plain": [
       "     name_Alliance AllianceName  returned_money  ship_money\n",
       "0            毛文-黑马           黑马           152.0    153.5642\n",
       "1           高朵朵-聚微           聚微            94.0     11.2066\n",
       "2           刘双华-黑马           黑马            93.0      8.4280\n",
       "3           郭孟洁-明星           明星            88.8     12.1208\n",
       "4          王婷婷-风之彩          风之彩            88.0     32.9332\n",
       "...            ...          ...             ...         ...\n",
       "2915       宋彩娟-挑战者          挑战者            -4.0      0.0000\n",
       "2916       张看看-满天星          满天星            -4.0      0.0000\n",
       "2917       孙丽娜-满天星          满天星            -4.0      0.0000\n",
       "2918         张丹-黑马           黑马            -5.0      7.6016\n",
       "2919       曹小妮-满天星          满天星            -8.5      6.8484\n",
       "\n",
       "[2920 rows x 4 columns]"
      ],
      "text/html": "<div>\n<style scoped>\n    .dataframe tbody tr th:only-of-type {\n        vertical-align: middle;\n    }\n\n    .dataframe tbody tr th {\n        vertical-align: top;\n    }\n\n    .dataframe thead th {\n        text-align: right;\n    }\n</style>\n<table border=\"1\" class=\"dataframe\">\n  <thead>\n    <tr style=\"text-align: right;\">\n      <th></th>\n      <th>name_Alliance</th>\n      <th>AllianceName</th>\n      <th>returned_money</th>\n      <th>ship_money</th>\n    </tr>\n  </thead>\n  <tbody>\n    <tr>\n      <th>0</th>\n      <td>毛文-黑马</td>\n      <td>黑马</td>\n      <td>152.0</td>\n      <td>153.5642</td>\n    </tr>\n    <tr>\n      <th>1</th>\n      <td>高朵朵-聚微</td>\n      <td>聚微</td>\n      <td>94.0</td>\n      <td>11.2066</td>\n    </tr>\n    <tr>\n      <th>2</th>\n      <td>刘双华-黑马</td>\n      <td>黑马</td>\n      <td>93.0</td>\n      <td>8.4280</td>\n    </tr>\n    <tr>\n      <th>3</th>\n      <td>郭孟洁-明星</td>\n      <td>明星</td>\n      <td>88.8</td>\n      <td>12.1208</td>\n    </tr>\n    <tr>\n      <th>4</th>\n      <td>王婷婷-风之彩</td>\n      <td>风之彩</td>\n      <td>88.0</td>\n      <td>32.9332</td>\n    </tr>\n    <tr>\n      <th>...</th>\n      <td>...</td>\n      <td>...</td>\n      <td>...</td>\n      <td>...</td>\n    </tr>\n    <tr>\n      <th>2915</th>\n      <td>宋彩娟-挑战者</td>\n      <td>挑战者</td>\n      <td>-4.0</td>\n      <td>0.0000</td>\n    </tr>\n    <tr>\n      <th>2916</th>\n      <td>张看看-满天星</td>\n      <td>满天星</td>\n      <td>-4.0</td>\n      <td>0.0000</td>\n    </tr>\n    <tr>\n      <th>2917</th>\n      <td>孙丽娜-满天星</td>\n      <td>满天星</td>\n      <td>-4.0</td>\n      <td>0.0000</td>\n    </tr>\n    <tr>\n      <th>2918</th>\n      <td>张丹-黑马</td>\n      <td>黑马</td>\n      <td>-5.0</td>\n      <td>7.6016</td>\n    </tr>\n    <tr>\n      <th>2919</th>\n      <td>曹小妮-满天星</td>\n      <td>满天星</td>\n      <td>-8.5</td>\n      <td>6.8484</td>\n    </tr>\n  </tbody>\n</table>\n<p>2920 rows × 4 columns</p>\n</div>"
     },
     "metadata": {},
     "execution_count": 56
    }
   ],
   "source": [
    "df_customer_returned_ship_day = df_returned_ship_03.groupby(['name_Alliance','AllianceName'])[['returned_money','ship_money']].sum().sort_values('returned_money',ascending = False)\n",
    "df_customer_returned_ship_day.reset_index(inplace = True)\n",
    "df_customer_returned_ship_day"
   ]
  },
  {
   "cell_type": "code",
   "execution_count": 57,
   "metadata": {},
   "outputs": [],
   "source": [
    "# df_customer_returned_ship_day.loc[df_customer_returned_ship_day['name_Alliance'].str.contains('郑国贤')]"
   ]
  },
  {
   "cell_type": "markdown",
   "metadata": {},
   "source": [
    "#### 3月代理回款金额和均差额"
   ]
  },
  {
   "cell_type": "code",
   "execution_count": 58,
   "metadata": {},
   "outputs": [
    {
     "output_type": "execute_result",
     "data": {
      "text/plain": [
       "   name_Alliance AllianceName  returned_money  ship_money  diff_returned  \\\n",
       "0          毛文-黑马           黑马        152.0000    153.5642     147.814175   \n",
       "1         高朵朵-聚微           聚微         94.0000     11.2066      89.814175   \n",
       "2         刘双华-黑马           黑马         93.0000      8.4280      88.814175   \n",
       "3         郭孟洁-明星           明星         88.8000     12.1208      84.614175   \n",
       "4        王婷婷-风之彩          风之彩         88.0000     32.9332      83.814175   \n",
       "5         刘亚歌-明星           明星         87.0000     22.9258      82.814175   \n",
       "6       余宏敏-BOSS         BOSS         84.0000     29.6931      79.814175   \n",
       "7         董全红-明星           明星         82.0110     23.3412      77.825175   \n",
       "8         张雪萍-明星           明星         74.5376     18.1953      70.351775   \n",
       "9         李燕-挑战者          挑战者         59.0000     58.7070      54.814175   \n",
       "10        郑国贤-其他           其他         40.0000    100.0000      35.814175   \n",
       "11       包萍静-风之彩          风之彩         39.0000     19.8672      34.814175   \n",
       "12       刘彩霞-风之彩          风之彩         36.3954     25.8840      32.209575   \n",
       "13         张彬-黑马           黑马         32.0000     20.2308      27.814175   \n",
       "14       戴冬梅-风之彩          风之彩         30.0152     31.8832      25.829375   \n",
       "\n",
       "    diff_ship  \n",
       "0   150.05571  \n",
       "1     7.69811  \n",
       "2     4.91951  \n",
       "3     8.61231  \n",
       "4    29.42471  \n",
       "5    19.41731  \n",
       "6    26.18461  \n",
       "7    19.83271  \n",
       "8    14.68681  \n",
       "9    55.19851  \n",
       "10   96.49151  \n",
       "11   16.35871  \n",
       "12   22.37551  \n",
       "13   16.72231  \n",
       "14   28.37471  "
      ],
      "text/html": "<div>\n<style scoped>\n    .dataframe tbody tr th:only-of-type {\n        vertical-align: middle;\n    }\n\n    .dataframe tbody tr th {\n        vertical-align: top;\n    }\n\n    .dataframe thead th {\n        text-align: right;\n    }\n</style>\n<table border=\"1\" class=\"dataframe\">\n  <thead>\n    <tr style=\"text-align: right;\">\n      <th></th>\n      <th>name_Alliance</th>\n      <th>AllianceName</th>\n      <th>returned_money</th>\n      <th>ship_money</th>\n      <th>diff_returned</th>\n      <th>diff_ship</th>\n    </tr>\n  </thead>\n  <tbody>\n    <tr>\n      <th>0</th>\n      <td>毛文-黑马</td>\n      <td>黑马</td>\n      <td>152.0000</td>\n      <td>153.5642</td>\n      <td>147.814175</td>\n      <td>150.05571</td>\n    </tr>\n    <tr>\n      <th>1</th>\n      <td>高朵朵-聚微</td>\n      <td>聚微</td>\n      <td>94.0000</td>\n      <td>11.2066</td>\n      <td>89.814175</td>\n      <td>7.69811</td>\n    </tr>\n    <tr>\n      <th>2</th>\n      <td>刘双华-黑马</td>\n      <td>黑马</td>\n      <td>93.0000</td>\n      <td>8.4280</td>\n      <td>88.814175</td>\n      <td>4.91951</td>\n    </tr>\n    <tr>\n      <th>3</th>\n      <td>郭孟洁-明星</td>\n      <td>明星</td>\n      <td>88.8000</td>\n      <td>12.1208</td>\n      <td>84.614175</td>\n      <td>8.61231</td>\n    </tr>\n    <tr>\n      <th>4</th>\n      <td>王婷婷-风之彩</td>\n      <td>风之彩</td>\n      <td>88.0000</td>\n      <td>32.9332</td>\n      <td>83.814175</td>\n      <td>29.42471</td>\n    </tr>\n    <tr>\n      <th>5</th>\n      <td>刘亚歌-明星</td>\n      <td>明星</td>\n      <td>87.0000</td>\n      <td>22.9258</td>\n      <td>82.814175</td>\n      <td>19.41731</td>\n    </tr>\n    <tr>\n      <th>6</th>\n      <td>余宏敏-BOSS</td>\n      <td>BOSS</td>\n      <td>84.0000</td>\n      <td>29.6931</td>\n      <td>79.814175</td>\n      <td>26.18461</td>\n    </tr>\n    <tr>\n      <th>7</th>\n      <td>董全红-明星</td>\n      <td>明星</td>\n      <td>82.0110</td>\n      <td>23.3412</td>\n      <td>77.825175</td>\n      <td>19.83271</td>\n    </tr>\n    <tr>\n      <th>8</th>\n      <td>张雪萍-明星</td>\n      <td>明星</td>\n      <td>74.5376</td>\n      <td>18.1953</td>\n      <td>70.351775</td>\n      <td>14.68681</td>\n    </tr>\n    <tr>\n      <th>9</th>\n      <td>李燕-挑战者</td>\n      <td>挑战者</td>\n      <td>59.0000</td>\n      <td>58.7070</td>\n      <td>54.814175</td>\n      <td>55.19851</td>\n    </tr>\n    <tr>\n      <th>10</th>\n      <td>郑国贤-其他</td>\n      <td>其他</td>\n      <td>40.0000</td>\n      <td>100.0000</td>\n      <td>35.814175</td>\n      <td>96.49151</td>\n    </tr>\n    <tr>\n      <th>11</th>\n      <td>包萍静-风之彩</td>\n      <td>风之彩</td>\n      <td>39.0000</td>\n      <td>19.8672</td>\n      <td>34.814175</td>\n      <td>16.35871</td>\n    </tr>\n    <tr>\n      <th>12</th>\n      <td>刘彩霞-风之彩</td>\n      <td>风之彩</td>\n      <td>36.3954</td>\n      <td>25.8840</td>\n      <td>32.209575</td>\n      <td>22.37551</td>\n    </tr>\n    <tr>\n      <th>13</th>\n      <td>张彬-黑马</td>\n      <td>黑马</td>\n      <td>32.0000</td>\n      <td>20.2308</td>\n      <td>27.814175</td>\n      <td>16.72231</td>\n    </tr>\n    <tr>\n      <th>14</th>\n      <td>戴冬梅-风之彩</td>\n      <td>风之彩</td>\n      <td>30.0152</td>\n      <td>31.8832</td>\n      <td>25.829375</td>\n      <td>28.37471</td>\n    </tr>\n  </tbody>\n</table>\n</div>"
     },
     "metadata": {},
     "execution_count": 58
    }
   ],
   "source": [
    "df = diff(df_customer_returned_ship_day)[0:15]\n",
    "df"
   ]
  },
  {
   "cell_type": "code",
   "execution_count": 59,
   "metadata": {},
   "outputs": [
    {
     "output_type": "execute_result",
     "data": {
      "text/plain": [
       "<pyecharts.render.display.HTML at 0x2889328ce48>"
      ],
      "text/html": "\n<script>\n    require.config({\n        paths: {\n            'echarts':'https://assets.pyecharts.org/assets/echarts.min', 'wonderland':'https://assets.pyecharts.org/assets/themes/wonderland'\n        }\n    });\n</script>\n\n        <div id=\"36f47beb9a1145a99b5c2656a4e4ca3e\" style=\"width:1200px; height:600px;\"></div>\n\n<script>\n        require(['echarts', 'wonderland'], function(echarts) {\n                var chart_36f47beb9a1145a99b5c2656a4e4ca3e = echarts.init(\n                    document.getElementById('36f47beb9a1145a99b5c2656a4e4ca3e'), 'wonderland', {renderer: 'canvas'});\n                var option_36f47beb9a1145a99b5c2656a4e4ca3e = {\n    \"animation\": true,\n    \"animationThreshold\": 2000,\n    \"animationDuration\": 1000,\n    \"animationEasing\": \"cubicOut\",\n    \"animationDelay\": 0,\n    \"animationDurationUpdate\": 300,\n    \"animationEasingUpdate\": \"cubicOut\",\n    \"animationDelayUpdate\": 0,\n    \"color\": [],\n    \"series\": [\n        {\n            \"type\": \"bar\",\n            \"name\": \"\\u56de\\u6b3e\\u8f83\\u5747\\u503c\\u5dee\\u989d\",\n            \"yAxisIndex\": 0,\n            \"data\": [\n                148.0,\n                90.0,\n                89.0,\n                85.0,\n                84.0,\n                83.0,\n                80.0,\n                78.0,\n                70.0,\n                55.0,\n                36.0,\n                35.0,\n                32.0,\n                28.0,\n                26.0\n            ],\n            \"barCategoryGap\": \"20%\",\n            \"label\": {\n                \"show\": false,\n                \"position\": \"top\",\n                \"margin\": 8,\n                \"fontSize\": 14\n            },\n            \"rippleEffect\": {\n                \"show\": true,\n                \"brushType\": \"stroke\",\n                \"scale\": 2.5,\n                \"period\": 4\n            }\n        },\n        {\n            \"type\": \"bar\",\n            \"name\": \"\\u53d1\\u8d27\\u8f83\\u5747\\u503c\\u5dee\\u989d\",\n            \"yAxisIndex\": 0,\n            \"data\": [\n                150.0,\n                8.0,\n                5.0,\n                9.0,\n                29.0,\n                19.0,\n                26.0,\n                20.0,\n                15.0,\n                55.0,\n                96.0,\n                16.0,\n                22.0,\n                17.0,\n                28.0\n            ],\n            \"barCategoryGap\": \"20%\",\n            \"label\": {\n                \"show\": false,\n                \"position\": \"top\",\n                \"margin\": 8,\n                \"fontSize\": 14\n            },\n            \"rippleEffect\": {\n                \"show\": true,\n                \"brushType\": \"stroke\",\n                \"scale\": 2.5,\n                \"period\": 4\n            }\n        },\n        {\n            \"type\": \"line\",\n            \"name\": \"\\u56de\\u6b3e\\u91d1\\u989d\",\n            \"connectNulls\": false,\n            \"yAxisIndex\": 1,\n            \"symbolSize\": 4,\n            \"showSymbol\": true,\n            \"smooth\": false,\n            \"step\": false,\n            \"data\": [\n                [\n                    \"\\u6bdb\\u6587-\\u9ed1\\u9a6c\",\n                    152.0\n                ],\n                [\n                    \"\\u9ad8\\u6735\\u6735-\\u805a\\u5fae\",\n                    94.0\n                ],\n                [\n                    \"\\u5218\\u53cc\\u534e-\\u9ed1\\u9a6c\",\n                    93.0\n                ],\n                [\n                    \"\\u90ed\\u5b5f\\u6d01-\\u660e\\u661f\",\n                    89.0\n                ],\n                [\n                    \"\\u738b\\u5a77\\u5a77-\\u98ce\\u4e4b\\u5f69\",\n                    88.0\n                ],\n                [\n                    \"\\u5218\\u4e9a\\u6b4c-\\u660e\\u661f\",\n                    87.0\n                ],\n                [\n                    \"\\u4f59\\u5b8f\\u654f-BOSS\",\n                    84.0\n                ],\n                [\n                    \"\\u8463\\u5168\\u7ea2-\\u660e\\u661f\",\n                    82.0\n                ],\n                [\n                    \"\\u5f20\\u96ea\\u840d-\\u660e\\u661f\",\n                    75.0\n                ],\n                [\n                    \"\\u674e\\u71d5-\\u6311\\u6218\\u8005\",\n                    59.0\n                ],\n                [\n                    \"\\u90d1\\u56fd\\u8d24-\\u5176\\u4ed6\",\n                    40.0\n                ],\n                [\n                    \"\\u5305\\u840d\\u9759-\\u98ce\\u4e4b\\u5f69\",\n                    39.0\n                ],\n                [\n                    \"\\u5218\\u5f69\\u971e-\\u98ce\\u4e4b\\u5f69\",\n                    36.0\n                ],\n                [\n                    \"\\u5f20\\u5f6c-\\u9ed1\\u9a6c\",\n                    32.0\n                ],\n                [\n                    \"\\u6234\\u51ac\\u6885-\\u98ce\\u4e4b\\u5f69\",\n                    30.0\n                ]\n            ],\n            \"hoverAnimation\": true,\n            \"label\": {\n                \"show\": false,\n                \"position\": \"top\",\n                \"margin\": 8,\n                \"fontSize\": 14,\n                \"formatter\": function (params) {return params.value[1]+'%'}\n            },\n            \"lineStyle\": {\n                \"show\": true,\n                \"width\": 1,\n                \"opacity\": 1,\n                \"curveness\": 0,\n                \"type\": \"solid\"\n            },\n            \"areaStyle\": {\n                \"opacity\": 0\n            },\n            \"markLine\": {\n                \"silent\": false,\n                \"precision\": 2,\n                \"label\": {\n                    \"show\": true,\n                    \"position\": \"top\",\n                    \"margin\": 8\n                },\n                \"data\": [\n                    {\n                        \"name\": \"\\u6700\\u5927\\u503c\",\n                        \"type\": \"max\"\n                    },\n                    {\n                        \"name\": \"\\u5e73\\u5747\\u503c\",\n                        \"type\": \"average\"\n                    }\n                ]\n            },\n            \"zlevel\": 0,\n            \"z\": 10,\n            \"rippleEffect\": {\n                \"show\": true,\n                \"brushType\": \"stroke\",\n                \"scale\": 2.5,\n                \"period\": 4\n            }\n        },\n        {\n            \"type\": \"line\",\n            \"name\": \"\\u53d1\\u8d27\\u91d1\\u989d\",\n            \"connectNulls\": false,\n            \"yAxisIndex\": 1,\n            \"symbolSize\": 4,\n            \"showSymbol\": true,\n            \"smooth\": false,\n            \"step\": false,\n            \"data\": [\n                [\n                    \"\\u6bdb\\u6587-\\u9ed1\\u9a6c\",\n                    154.0\n                ],\n                [\n                    \"\\u9ad8\\u6735\\u6735-\\u805a\\u5fae\",\n                    11.0\n                ],\n                [\n                    \"\\u5218\\u53cc\\u534e-\\u9ed1\\u9a6c\",\n                    8.0\n                ],\n                [\n                    \"\\u90ed\\u5b5f\\u6d01-\\u660e\\u661f\",\n                    12.0\n                ],\n                [\n                    \"\\u738b\\u5a77\\u5a77-\\u98ce\\u4e4b\\u5f69\",\n                    33.0\n                ],\n                [\n                    \"\\u5218\\u4e9a\\u6b4c-\\u660e\\u661f\",\n                    23.0\n                ],\n                [\n                    \"\\u4f59\\u5b8f\\u654f-BOSS\",\n                    30.0\n                ],\n                [\n                    \"\\u8463\\u5168\\u7ea2-\\u660e\\u661f\",\n                    23.0\n                ],\n                [\n                    \"\\u5f20\\u96ea\\u840d-\\u660e\\u661f\",\n                    18.0\n                ],\n                [\n                    \"\\u674e\\u71d5-\\u6311\\u6218\\u8005\",\n                    59.0\n                ],\n                [\n                    \"\\u90d1\\u56fd\\u8d24-\\u5176\\u4ed6\",\n                    100.0\n                ],\n                [\n                    \"\\u5305\\u840d\\u9759-\\u98ce\\u4e4b\\u5f69\",\n                    20.0\n                ],\n                [\n                    \"\\u5218\\u5f69\\u971e-\\u98ce\\u4e4b\\u5f69\",\n                    26.0\n                ],\n                [\n                    \"\\u5f20\\u5f6c-\\u9ed1\\u9a6c\",\n                    20.0\n                ],\n                [\n                    \"\\u6234\\u51ac\\u6885-\\u98ce\\u4e4b\\u5f69\",\n                    32.0\n                ]\n            ],\n            \"hoverAnimation\": true,\n            \"label\": {\n                \"show\": false,\n                \"position\": \"top\",\n                \"margin\": 8,\n                \"fontSize\": 14,\n                \"formatter\": function (params) {return params.value[1]+'%'}\n            },\n            \"lineStyle\": {\n                \"show\": true,\n                \"width\": 1,\n                \"opacity\": 1,\n                \"curveness\": 0,\n                \"type\": \"solid\"\n            },\n            \"areaStyle\": {\n                \"opacity\": 0\n            },\n            \"markPoint\": {\n                \"label\": {\n                    \"show\": true,\n                    \"position\": \"inside\",\n                    \"color\": \"#fff\",\n                    \"margin\": 8\n                },\n                \"data\": [\n                    {\n                        \"type\": \"max\"\n                    }\n                ]\n            },\n            \"zlevel\": 0,\n            \"z\": 10,\n            \"rippleEffect\": {\n                \"show\": true,\n                \"brushType\": \"stroke\",\n                \"scale\": 2.5,\n                \"period\": 4\n            }\n        }\n    ],\n    \"legend\": [\n        {\n            \"data\": [\n                \"\\u56de\\u6b3e\\u8f83\\u5747\\u503c\\u5dee\\u989d\",\n                \"\\u53d1\\u8d27\\u8f83\\u5747\\u503c\\u5dee\\u989d\",\n                \"\\u56de\\u6b3e\\u91d1\\u989d\",\n                \"\\u53d1\\u8d27\\u91d1\\u989d\"\n            ],\n            \"selected\": {\n                \"\\u56de\\u6b3e\\u8f83\\u5747\\u503c\\u5dee\\u989d\": true,\n                \"\\u53d1\\u8d27\\u8f83\\u5747\\u503c\\u5dee\\u989d\": true\n            },\n            \"show\": true,\n            \"padding\": 5,\n            \"itemGap\": 10,\n            \"itemWidth\": 25,\n            \"itemHeight\": 14\n        }\n    ],\n    \"tooltip\": {\n        \"show\": true,\n        \"trigger\": \"item\",\n        \"triggerOn\": \"mousemove|click\",\n        \"axisPointer\": {\n            \"type\": \"line\"\n        },\n        \"textStyle\": {\n            \"fontSize\": 14\n        },\n        \"borderWidth\": 0\n    },\n    \"xAxis\": [\n        {\n            \"show\": true,\n            \"scale\": false,\n            \"nameLocation\": \"end\",\n            \"nameGap\": 15,\n            \"gridIndex\": 0,\n            \"axisLabel\": {\n                \"show\": true,\n                \"position\": \"top\",\n                \"rotate\": -45,\n                \"margin\": 8,\n                \"fontSize\": 12\n            },\n            \"inverse\": false,\n            \"offset\": 0,\n            \"splitNumber\": 5,\n            \"minInterval\": 0,\n            \"splitLine\": {\n                \"show\": false,\n                \"lineStyle\": {\n                    \"show\": true,\n                    \"width\": 1,\n                    \"opacity\": 1,\n                    \"curveness\": 0,\n                    \"type\": \"solid\"\n                }\n            },\n            \"data\": [\n                \"\\u6bdb\\u6587-\\u9ed1\\u9a6c\",\n                \"\\u9ad8\\u6735\\u6735-\\u805a\\u5fae\",\n                \"\\u5218\\u53cc\\u534e-\\u9ed1\\u9a6c\",\n                \"\\u90ed\\u5b5f\\u6d01-\\u660e\\u661f\",\n                \"\\u738b\\u5a77\\u5a77-\\u98ce\\u4e4b\\u5f69\",\n                \"\\u5218\\u4e9a\\u6b4c-\\u660e\\u661f\",\n                \"\\u4f59\\u5b8f\\u654f-BOSS\",\n                \"\\u8463\\u5168\\u7ea2-\\u660e\\u661f\",\n                \"\\u5f20\\u96ea\\u840d-\\u660e\\u661f\",\n                \"\\u674e\\u71d5-\\u6311\\u6218\\u8005\",\n                \"\\u90d1\\u56fd\\u8d24-\\u5176\\u4ed6\",\n                \"\\u5305\\u840d\\u9759-\\u98ce\\u4e4b\\u5f69\",\n                \"\\u5218\\u5f69\\u971e-\\u98ce\\u4e4b\\u5f69\",\n                \"\\u5f20\\u5f6c-\\u9ed1\\u9a6c\",\n                \"\\u6234\\u51ac\\u6885-\\u98ce\\u4e4b\\u5f69\"\n            ]\n        }\n    ],\n    \"yAxis\": [\n        {\n            \"show\": true,\n            \"scale\": false,\n            \"nameLocation\": \"end\",\n            \"nameGap\": 15,\n            \"gridIndex\": 0,\n            \"axisLine\": {\n                \"show\": false,\n                \"onZero\": true,\n                \"onZeroAxisIndex\": 0\n            },\n            \"axisLabel\": {\n                \"show\": true,\n                \"position\": \"top\",\n                \"margin\": 8,\n                \"fontSize\": 14\n            },\n            \"inverse\": false,\n            \"offset\": 0,\n            \"splitNumber\": 5,\n            \"minInterval\": 0,\n            \"splitLine\": {\n                \"show\": false,\n                \"lineStyle\": {\n                    \"show\": true,\n                    \"width\": 1,\n                    \"opacity\": 1,\n                    \"curveness\": 0,\n                    \"type\": \"solid\"\n                }\n            }\n        },\n        {\n            \"type\": \"value\",\n            \"show\": true,\n            \"scale\": false,\n            \"nameLocation\": \"end\",\n            \"nameGap\": 15,\n            \"gridIndex\": 0,\n            \"axisLine\": {\n                \"show\": false,\n                \"onZero\": true,\n                \"onZeroAxisIndex\": 0\n            },\n            \"axisLabel\": {\n                \"show\": true,\n                \"position\": \"top\",\n                \"margin\": 8,\n                \"fontSize\": 14,\n                \"formatter\": \"{value}\"\n            },\n            \"inverse\": false,\n            \"position\": \"right\",\n            \"offset\": 0,\n            \"splitNumber\": 5,\n            \"minInterval\": 0,\n            \"splitLine\": {\n                \"show\": false,\n                \"lineStyle\": {\n                    \"show\": true,\n                    \"width\": 1,\n                    \"opacity\": 1,\n                    \"curveness\": 0,\n                    \"type\": \"solid\"\n                }\n            }\n        }\n    ],\n    \"title\": [\n        {\n            \"text\": \"3\\u6708\\u4ee3\\u7406\\u56de\\u6b3e\\u53d1\\u8d27\",\n            \"padding\": 5,\n            \"itemGap\": 10\n        }\n    ],\n    \"grid\": [\n        {\n            \"left\": \"5%\",\n            \"right\": \"20%\",\n            \"containLabel\": false\n        }\n    ]\n};\n                chart_36f47beb9a1145a99b5c2656a4e4ca3e.setOption(option_36f47beb9a1145a99b5c2656a4e4ca3e);\n        });\n    </script>\n"
     },
     "metadata": {},
     "execution_count": 59
    }
   ],
   "source": [
    "bar = (\n",
    "    Bar()\n",
    "    .add_xaxis(df['name_Alliance'].tolist())\n",
    "    .extend_axis(yaxis=opts.AxisOpts(\n",
    "        type_=\"value\", position=\"right\",axislabel_opts=opts.LabelOpts(font_size = 14,formatter=\"{value}\"),\n",
    "        axisline_opts = opts.AxisLineOpts(is_show = False)))\n",
    "    .add_yaxis(\"回款较均值差额\", round(df['diff_returned'],0).tolist(),yaxis_index=0)\n",
    "    .add_yaxis(\"发货较均值差额\", round(df['diff_ship'],0).tolist(),yaxis_index=0)\n",
    "    .set_global_opts(\n",
    "        title_opts=opts.TitleOpts(title=\"3月代理回款发货\"),\n",
    "        yaxis_opts = opts.AxisOpts(is_show = True,axislabel_opts=opts.LabelOpts(font_size = 14),axisline_opts = opts.AxisLineOpts(is_show = False)),\n",
    "        xaxis_opts = opts.AxisOpts(axislabel_opts=opts.LabelOpts(font_size = 12,rotate = -45))\n",
    "    )\n",
    "    .set_series_opts(label_opts=opts.LabelOpts(font_size = 14,is_show = False))\n",
    "                    )\n",
    "line = (\n",
    "    Line()\n",
    "    .add_xaxis(df['name_Alliance'].tolist())\n",
    "    .add_yaxis(\"回款金额\",round(df['returned_money'],0).tolist() ,yaxis_index=1,z=10, markline_opts=opts.MarkLineOpts(data=[\n",
    "                opts.MarkLineItem(type_=\"max\", name=\"最大值\"),\n",
    "                opts.MarkLineItem(type_=\"average\", name=\"平均值\")\n",
    "            ]))\n",
    "    .add_yaxis(\"发货金额\",round(df['ship_money'],0).tolist() ,yaxis_index=1,z=10, markpoint_opts=opts.MarkPointOpts(data=[opts.MarkPointItem(type_=\"max\")]))\n",
    "    .set_global_opts(\n",
    "            title_opts =opts.TitleOpts(title = ''),\n",
    "    )\n",
    "    .set_series_opts(\n",
    "            label_opts=opts.LabelOpts(font_size = 14,formatter= JsCode(\"function (params) {return params.value[1]+'%'}\"),is_show= False)\n",
    "    )        \n",
    ")\n",
    "bar.overlap(line)\n",
    "grid = Grid(init_opts = opts.InitOpts(theme=ThemeType.WONDERLAND,width='1200px',height='600px'))\n",
    "grid.add(bar, opts.GridOpts(pos_left=\"5%\", pos_right=\"20%\"), is_control_axis_index=True)\n",
    "grid.render_notebook()"
   ]
  },
  {
   "cell_type": "code",
   "execution_count": 60,
   "metadata": {},
   "outputs": [],
   "source": [
    "def func(s):\n",
    "    if s >= 32:\n",
    "        return '[32,+∞]'\n",
    "    elif s>= 24:\n",
    "        return '[24,32)'\n",
    "    elif s>= 16:\n",
    "        return '[16,24)'\n",
    "    elif s>= 8:\n",
    "        return '[8,16)' \n",
    "    elif s>= 4.25:\n",
    "        return '[4.25,8)' \n",
    "    elif s> 0:\n",
    "        return '(0,4.25)'\n",
    "    else:\n",
    "        return '其他' "
   ]
  },
  {
   "cell_type": "code",
   "execution_count": 61,
   "metadata": {},
   "outputs": [
    {
     "output_type": "execute_result",
     "data": {
      "text/plain": [
       "     name_Alliance AllianceName  returned_money  ship_money  diff_returned  \\\n",
       "0            毛文-黑马           黑马           152.0    153.5642     147.814175   \n",
       "1           高朵朵-聚微           聚微            94.0     11.2066      89.814175   \n",
       "2           刘双华-黑马           黑马            93.0      8.4280      88.814175   \n",
       "3           郭孟洁-明星           明星            88.8     12.1208      84.614175   \n",
       "4          王婷婷-风之彩          风之彩            88.0     32.9332      83.814175   \n",
       "...            ...          ...             ...         ...            ...   \n",
       "2915       宋彩娟-挑战者          挑战者            -4.0      0.0000      -8.185825   \n",
       "2916       张看看-满天星          满天星            -4.0      0.0000      -8.185825   \n",
       "2917       孙丽娜-满天星          满天星            -4.0      0.0000      -8.185825   \n",
       "2918         张丹-黑马           黑马            -5.0      7.6016      -9.185825   \n",
       "2919       曹小妮-满天星          满天星            -8.5      6.8484     -12.685825   \n",
       "\n",
       "      diff_ship return_interval  \n",
       "0     150.05571         [32,+∞]  \n",
       "1       7.69811         [32,+∞]  \n",
       "2       4.91951         [32,+∞]  \n",
       "3       8.61231         [32,+∞]  \n",
       "4      29.42471         [32,+∞]  \n",
       "...         ...             ...  \n",
       "2915   -3.50849              其他  \n",
       "2916   -3.50849              其他  \n",
       "2917   -3.50849              其他  \n",
       "2918    4.09311              其他  \n",
       "2919    3.33991              其他  \n",
       "\n",
       "[2920 rows x 7 columns]"
      ],
      "text/html": "<div>\n<style scoped>\n    .dataframe tbody tr th:only-of-type {\n        vertical-align: middle;\n    }\n\n    .dataframe tbody tr th {\n        vertical-align: top;\n    }\n\n    .dataframe thead th {\n        text-align: right;\n    }\n</style>\n<table border=\"1\" class=\"dataframe\">\n  <thead>\n    <tr style=\"text-align: right;\">\n      <th></th>\n      <th>name_Alliance</th>\n      <th>AllianceName</th>\n      <th>returned_money</th>\n      <th>ship_money</th>\n      <th>diff_returned</th>\n      <th>diff_ship</th>\n      <th>return_interval</th>\n    </tr>\n  </thead>\n  <tbody>\n    <tr>\n      <th>0</th>\n      <td>毛文-黑马</td>\n      <td>黑马</td>\n      <td>152.0</td>\n      <td>153.5642</td>\n      <td>147.814175</td>\n      <td>150.05571</td>\n      <td>[32,+∞]</td>\n    </tr>\n    <tr>\n      <th>1</th>\n      <td>高朵朵-聚微</td>\n      <td>聚微</td>\n      <td>94.0</td>\n      <td>11.2066</td>\n      <td>89.814175</td>\n      <td>7.69811</td>\n      <td>[32,+∞]</td>\n    </tr>\n    <tr>\n      <th>2</th>\n      <td>刘双华-黑马</td>\n      <td>黑马</td>\n      <td>93.0</td>\n      <td>8.4280</td>\n      <td>88.814175</td>\n      <td>4.91951</td>\n      <td>[32,+∞]</td>\n    </tr>\n    <tr>\n      <th>3</th>\n      <td>郭孟洁-明星</td>\n      <td>明星</td>\n      <td>88.8</td>\n      <td>12.1208</td>\n      <td>84.614175</td>\n      <td>8.61231</td>\n      <td>[32,+∞]</td>\n    </tr>\n    <tr>\n      <th>4</th>\n      <td>王婷婷-风之彩</td>\n      <td>风之彩</td>\n      <td>88.0</td>\n      <td>32.9332</td>\n      <td>83.814175</td>\n      <td>29.42471</td>\n      <td>[32,+∞]</td>\n    </tr>\n    <tr>\n      <th>...</th>\n      <td>...</td>\n      <td>...</td>\n      <td>...</td>\n      <td>...</td>\n      <td>...</td>\n      <td>...</td>\n      <td>...</td>\n    </tr>\n    <tr>\n      <th>2915</th>\n      <td>宋彩娟-挑战者</td>\n      <td>挑战者</td>\n      <td>-4.0</td>\n      <td>0.0000</td>\n      <td>-8.185825</td>\n      <td>-3.50849</td>\n      <td>其他</td>\n    </tr>\n    <tr>\n      <th>2916</th>\n      <td>张看看-满天星</td>\n      <td>满天星</td>\n      <td>-4.0</td>\n      <td>0.0000</td>\n      <td>-8.185825</td>\n      <td>-3.50849</td>\n      <td>其他</td>\n    </tr>\n    <tr>\n      <th>2917</th>\n      <td>孙丽娜-满天星</td>\n      <td>满天星</td>\n      <td>-4.0</td>\n      <td>0.0000</td>\n      <td>-8.185825</td>\n      <td>-3.50849</td>\n      <td>其他</td>\n    </tr>\n    <tr>\n      <th>2918</th>\n      <td>张丹-黑马</td>\n      <td>黑马</td>\n      <td>-5.0</td>\n      <td>7.6016</td>\n      <td>-9.185825</td>\n      <td>4.09311</td>\n      <td>其他</td>\n    </tr>\n    <tr>\n      <th>2919</th>\n      <td>曹小妮-满天星</td>\n      <td>满天星</td>\n      <td>-8.5</td>\n      <td>6.8484</td>\n      <td>-12.685825</td>\n      <td>3.33991</td>\n      <td>其他</td>\n    </tr>\n  </tbody>\n</table>\n<p>2920 rows × 7 columns</p>\n</div>"
     },
     "metadata": {},
     "execution_count": 61
    }
   ],
   "source": [
    "df_customer_returned_ship_day['return_interval'] = df_customer_returned_ship_day['returned_money'].apply(func)\n",
    "df_customer_returned_ship_day"
   ]
  },
  {
   "cell_type": "code",
   "execution_count": 62,
   "metadata": {},
   "outputs": [
    {
     "output_type": "execute_result",
     "data": {
      "text/plain": [
       "   AllianceName return_interval  returned_money\n",
       "0          BOSS        (0,4.25)             111\n",
       "1          BOSS         [16,24)               8\n",
       "2          BOSS         [32,+∞]               1\n",
       "3          BOSS        [4.25,8)              61\n",
       "4          BOSS          [8,16)              41\n",
       "..          ...             ...             ...\n",
       "66           黑马         [24,32)               2\n",
       "67           黑马         [32,+∞]               2\n",
       "68           黑马        [4.25,8)              54\n",
       "69           黑马          [8,16)              59\n",
       "70           黑马              其他              85\n",
       "\n",
       "[71 rows x 3 columns]"
      ],
      "text/html": "<div>\n<style scoped>\n    .dataframe tbody tr th:only-of-type {\n        vertical-align: middle;\n    }\n\n    .dataframe tbody tr th {\n        vertical-align: top;\n    }\n\n    .dataframe thead th {\n        text-align: right;\n    }\n</style>\n<table border=\"1\" class=\"dataframe\">\n  <thead>\n    <tr style=\"text-align: right;\">\n      <th></th>\n      <th>AllianceName</th>\n      <th>return_interval</th>\n      <th>returned_money</th>\n    </tr>\n  </thead>\n  <tbody>\n    <tr>\n      <th>0</th>\n      <td>BOSS</td>\n      <td>(0,4.25)</td>\n      <td>111</td>\n    </tr>\n    <tr>\n      <th>1</th>\n      <td>BOSS</td>\n      <td>[16,24)</td>\n      <td>8</td>\n    </tr>\n    <tr>\n      <th>2</th>\n      <td>BOSS</td>\n      <td>[32,+∞]</td>\n      <td>1</td>\n    </tr>\n    <tr>\n      <th>3</th>\n      <td>BOSS</td>\n      <td>[4.25,8)</td>\n      <td>61</td>\n    </tr>\n    <tr>\n      <th>4</th>\n      <td>BOSS</td>\n      <td>[8,16)</td>\n      <td>41</td>\n    </tr>\n    <tr>\n      <th>...</th>\n      <td>...</td>\n      <td>...</td>\n      <td>...</td>\n    </tr>\n    <tr>\n      <th>66</th>\n      <td>黑马</td>\n      <td>[24,32)</td>\n      <td>2</td>\n    </tr>\n    <tr>\n      <th>67</th>\n      <td>黑马</td>\n      <td>[32,+∞]</td>\n      <td>2</td>\n    </tr>\n    <tr>\n      <th>68</th>\n      <td>黑马</td>\n      <td>[4.25,8)</td>\n      <td>54</td>\n    </tr>\n    <tr>\n      <th>69</th>\n      <td>黑马</td>\n      <td>[8,16)</td>\n      <td>59</td>\n    </tr>\n    <tr>\n      <th>70</th>\n      <td>黑马</td>\n      <td>其他</td>\n      <td>85</td>\n    </tr>\n  </tbody>\n</table>\n<p>71 rows × 3 columns</p>\n</div>"
     },
     "metadata": {},
     "execution_count": 62
    }
   ],
   "source": [
    "df = df_customer_returned_ship_day.groupby(['AllianceName','return_interval'],as_index=False)['returned_money'].count()\n",
    "df"
   ]
  },
  {
   "cell_type": "code",
   "execution_count": 63,
   "metadata": {},
   "outputs": [],
   "source": [
    "list_drop = df[df['return_interval'] == '其他'].index.tolist() + df[df['AllianceName'] == '其他'].index.tolist()"
   ]
  },
  {
   "cell_type": "code",
   "execution_count": 64,
   "metadata": {},
   "outputs": [],
   "source": [
    "df.drop(list_drop,axis=0,inplace=True)\n"
   ]
  },
  {
   "cell_type": "code",
   "execution_count": 65,
   "metadata": {},
   "outputs": [],
   "source": [
    "df.set_index('AllianceName',inplace=True)"
   ]
  },
  {
   "cell_type": "code",
   "execution_count": 66,
   "metadata": {},
   "outputs": [
    {
     "output_type": "execute_result",
     "data": {
      "text/plain": [
       "             return_interval  returned_money  rat_interval\n",
       "AllianceName                                              \n",
       "BOSS                (0,4.25)             111      0.500000\n",
       "BOSS                 [16,24)               8      0.036036\n",
       "BOSS                 [32,+∞]               1      0.004505\n",
       "BOSS                [4.25,8)              61      0.274775\n",
       "BOSS                  [8,16)              41      0.184685"
      ],
      "text/html": "<div>\n<style scoped>\n    .dataframe tbody tr th:only-of-type {\n        vertical-align: middle;\n    }\n\n    .dataframe tbody tr th {\n        vertical-align: top;\n    }\n\n    .dataframe thead th {\n        text-align: right;\n    }\n</style>\n<table border=\"1\" class=\"dataframe\">\n  <thead>\n    <tr style=\"text-align: right;\">\n      <th></th>\n      <th>return_interval</th>\n      <th>returned_money</th>\n      <th>rat_interval</th>\n    </tr>\n    <tr>\n      <th>AllianceName</th>\n      <th></th>\n      <th></th>\n      <th></th>\n    </tr>\n  </thead>\n  <tbody>\n    <tr>\n      <th>BOSS</th>\n      <td>(0,4.25)</td>\n      <td>111</td>\n      <td>0.500000</td>\n    </tr>\n    <tr>\n      <th>BOSS</th>\n      <td>[16,24)</td>\n      <td>8</td>\n      <td>0.036036</td>\n    </tr>\n    <tr>\n      <th>BOSS</th>\n      <td>[32,+∞]</td>\n      <td>1</td>\n      <td>0.004505</td>\n    </tr>\n    <tr>\n      <th>BOSS</th>\n      <td>[4.25,8)</td>\n      <td>61</td>\n      <td>0.274775</td>\n    </tr>\n    <tr>\n      <th>BOSS</th>\n      <td>[8,16)</td>\n      <td>41</td>\n      <td>0.184685</td>\n    </tr>\n  </tbody>\n</table>\n</div>"
     },
     "metadata": {},
     "execution_count": 66
    }
   ],
   "source": [
    "df['rat_interval'] = df['returned_money'] /df['returned_money'].sum(level = 'AllianceName')\n",
    "df.head()"
   ]
  },
  {
   "cell_type": "code",
   "execution_count": 67,
   "metadata": {},
   "outputs": [],
   "source": [
    "Alliance_return_interval = df.pivot_table(values='rat_interval',index='AllianceName',columns= 'return_interval').fillna(0)\n",
    "Alliance_return_interval.sort_values('(0,4.25)',inplace = True)"
   ]
  },
  {
   "cell_type": "code",
   "execution_count": 68,
   "metadata": {},
   "outputs": [
    {
     "output_type": "execute_result",
     "data": {
      "text/plain": [
       "return_interval  (0,4.25)  [4.25,8)    [8,16)   [16,24)   [24,32)   [32,+∞]\n",
       "AllianceName                                                               \n",
       "风之彩              0.306667  0.240000  0.293333  0.093333  0.026667  0.040000\n",
       "北极星              0.357143  0.285714  0.321429  0.035714  0.000000  0.000000\n",
       "黑马               0.406250  0.241071  0.263393  0.071429  0.008929  0.008929\n",
       "挑战者              0.432258  0.251613  0.270968  0.035484  0.006452  0.003226\n",
       "聚微               0.476000  0.248000  0.252000  0.020000  0.000000  0.004000\n",
       "BOSS             0.500000  0.274775  0.184685  0.036036  0.000000  0.004505\n",
       "卓彩               0.503030  0.206061  0.242424  0.048485  0.000000  0.000000\n",
       "女王               0.528662  0.222930  0.191083  0.044586  0.012739  0.000000\n",
       "太阳               0.534247  0.260274  0.205479  0.000000  0.000000  0.000000\n",
       "明星               0.552475  0.231683  0.192079  0.015842  0.000000  0.007921\n",
       "王者               0.571429  0.285714  0.130952  0.011905  0.000000  0.000000\n",
       "满天星              0.710145  0.115942  0.101449  0.072464  0.000000  0.000000"
      ],
      "text/html": "<div>\n<style scoped>\n    .dataframe tbody tr th:only-of-type {\n        vertical-align: middle;\n    }\n\n    .dataframe tbody tr th {\n        vertical-align: top;\n    }\n\n    .dataframe thead th {\n        text-align: right;\n    }\n</style>\n<table border=\"1\" class=\"dataframe\">\n  <thead>\n    <tr style=\"text-align: right;\">\n      <th>return_interval</th>\n      <th>(0,4.25)</th>\n      <th>[4.25,8)</th>\n      <th>[8,16)</th>\n      <th>[16,24)</th>\n      <th>[24,32)</th>\n      <th>[32,+∞]</th>\n    </tr>\n    <tr>\n      <th>AllianceName</th>\n      <th></th>\n      <th></th>\n      <th></th>\n      <th></th>\n      <th></th>\n      <th></th>\n    </tr>\n  </thead>\n  <tbody>\n    <tr>\n      <th>风之彩</th>\n      <td>0.306667</td>\n      <td>0.240000</td>\n      <td>0.293333</td>\n      <td>0.093333</td>\n      <td>0.026667</td>\n      <td>0.040000</td>\n    </tr>\n    <tr>\n      <th>北极星</th>\n      <td>0.357143</td>\n      <td>0.285714</td>\n      <td>0.321429</td>\n      <td>0.035714</td>\n      <td>0.000000</td>\n      <td>0.000000</td>\n    </tr>\n    <tr>\n      <th>黑马</th>\n      <td>0.406250</td>\n      <td>0.241071</td>\n      <td>0.263393</td>\n      <td>0.071429</td>\n      <td>0.008929</td>\n      <td>0.008929</td>\n    </tr>\n    <tr>\n      <th>挑战者</th>\n      <td>0.432258</td>\n      <td>0.251613</td>\n      <td>0.270968</td>\n      <td>0.035484</td>\n      <td>0.006452</td>\n      <td>0.003226</td>\n    </tr>\n    <tr>\n      <th>聚微</th>\n      <td>0.476000</td>\n      <td>0.248000</td>\n      <td>0.252000</td>\n      <td>0.020000</td>\n      <td>0.000000</td>\n      <td>0.004000</td>\n    </tr>\n    <tr>\n      <th>BOSS</th>\n      <td>0.500000</td>\n      <td>0.274775</td>\n      <td>0.184685</td>\n      <td>0.036036</td>\n      <td>0.000000</td>\n      <td>0.004505</td>\n    </tr>\n    <tr>\n      <th>卓彩</th>\n      <td>0.503030</td>\n      <td>0.206061</td>\n      <td>0.242424</td>\n      <td>0.048485</td>\n      <td>0.000000</td>\n      <td>0.000000</td>\n    </tr>\n    <tr>\n      <th>女王</th>\n      <td>0.528662</td>\n      <td>0.222930</td>\n      <td>0.191083</td>\n      <td>0.044586</td>\n      <td>0.012739</td>\n      <td>0.000000</td>\n    </tr>\n    <tr>\n      <th>太阳</th>\n      <td>0.534247</td>\n      <td>0.260274</td>\n      <td>0.205479</td>\n      <td>0.000000</td>\n      <td>0.000000</td>\n      <td>0.000000</td>\n    </tr>\n    <tr>\n      <th>明星</th>\n      <td>0.552475</td>\n      <td>0.231683</td>\n      <td>0.192079</td>\n      <td>0.015842</td>\n      <td>0.000000</td>\n      <td>0.007921</td>\n    </tr>\n    <tr>\n      <th>王者</th>\n      <td>0.571429</td>\n      <td>0.285714</td>\n      <td>0.130952</td>\n      <td>0.011905</td>\n      <td>0.000000</td>\n      <td>0.000000</td>\n    </tr>\n    <tr>\n      <th>满天星</th>\n      <td>0.710145</td>\n      <td>0.115942</td>\n      <td>0.101449</td>\n      <td>0.072464</td>\n      <td>0.000000</td>\n      <td>0.000000</td>\n    </tr>\n  </tbody>\n</table>\n</div>"
     },
     "metadata": {},
     "execution_count": 68
    }
   ],
   "source": [
    "Alliance_return_interval = Alliance_return_interval[['(0,4.25)','[4.25,8)','[8,16)','[16,24)','[24,32)','[32,+∞]']]\n",
    "Alliance_return_interval"
   ]
  },
  {
   "cell_type": "code",
   "execution_count": 69,
   "metadata": {},
   "outputs": [
    {
     "output_type": "execute_result",
     "data": {
      "text/plain": [
       "<pyecharts.render.display.HTML at 0x288915c2408>"
      ],
      "text/html": "\n<script>\n    require.config({\n        paths: {\n            'echarts':'https://assets.pyecharts.org/assets/echarts.min', 'westeros':'https://assets.pyecharts.org/assets/themes/westeros'\n        }\n    });\n</script>\n\n        <div id=\"1726887801454a7d87db7fc7563de88e\" style=\"width:1000px; height:450px;\"></div>\n\n<script>\n        require(['echarts', 'westeros'], function(echarts) {\n                var chart_1726887801454a7d87db7fc7563de88e = echarts.init(\n                    document.getElementById('1726887801454a7d87db7fc7563de88e'), 'westeros', {renderer: 'canvas'});\n                var option_1726887801454a7d87db7fc7563de88e = {\n    \"animation\": true,\n    \"animationThreshold\": 2000,\n    \"animationDuration\": 1000,\n    \"animationEasing\": \"cubicOut\",\n    \"animationDelay\": 0,\n    \"animationDurationUpdate\": 300,\n    \"animationEasingUpdate\": \"cubicOut\",\n    \"animationDelayUpdate\": 0,\n    \"series\": [\n        {\n            \"type\": \"bar\",\n            \"name\": \"(0,4.25)\",\n            \"yAxisIndex\": 0,\n            \"data\": [\n                30.67,\n                35.71,\n                40.62,\n                43.23,\n                47.6,\n                50.0,\n                50.3,\n                52.87,\n                53.42,\n                55.25,\n                57.14,\n                71.01\n            ],\n            \"stack\": \"stack1\",\n            \"barCategoryGap\": \"20%\",\n            \"label\": {\n                \"show\": false,\n                \"position\": \"top\",\n                \"margin\": 8,\n                \"fontSize\": 14\n            },\n            \"rippleEffect\": {\n                \"show\": true,\n                \"brushType\": \"stroke\",\n                \"scale\": 2.5,\n                \"period\": 4\n            }\n        },\n        {\n            \"type\": \"bar\",\n            \"name\": \"[4.25,8)\",\n            \"yAxisIndex\": 0,\n            \"data\": [\n                24.0,\n                28.57,\n                24.11,\n                25.16,\n                24.8,\n                27.48,\n                20.61,\n                22.29,\n                26.03,\n                23.17,\n                28.57,\n                11.59\n            ],\n            \"stack\": \"stack1\",\n            \"barCategoryGap\": \"20%\",\n            \"label\": {\n                \"show\": false,\n                \"position\": \"top\",\n                \"margin\": 8,\n                \"fontSize\": 14\n            },\n            \"rippleEffect\": {\n                \"show\": true,\n                \"brushType\": \"stroke\",\n                \"scale\": 2.5,\n                \"period\": 4\n            }\n        },\n        {\n            \"type\": \"bar\",\n            \"name\": \"[8,16)\",\n            \"yAxisIndex\": 0,\n            \"data\": [\n                29.33,\n                32.14,\n                26.34,\n                27.1,\n                25.2,\n                18.47,\n                24.24,\n                19.11,\n                20.55,\n                19.21,\n                13.1,\n                10.14\n            ],\n            \"stack\": \"stack1\",\n            \"barCategoryGap\": \"20%\",\n            \"label\": {\n                \"show\": false,\n                \"position\": \"top\",\n                \"margin\": 8,\n                \"fontSize\": 14\n            },\n            \"rippleEffect\": {\n                \"show\": true,\n                \"brushType\": \"stroke\",\n                \"scale\": 2.5,\n                \"period\": 4\n            }\n        },\n        {\n            \"type\": \"bar\",\n            \"name\": \"[16,24)\",\n            \"yAxisIndex\": 0,\n            \"data\": [\n                9.33,\n                3.57,\n                7.14,\n                3.55,\n                2.0,\n                3.6,\n                4.85,\n                4.46,\n                0.0,\n                1.58,\n                1.19,\n                7.25\n            ],\n            \"stack\": \"stack1\",\n            \"barCategoryGap\": \"20%\",\n            \"label\": {\n                \"show\": false,\n                \"position\": \"top\",\n                \"margin\": 8,\n                \"fontSize\": 14\n            },\n            \"rippleEffect\": {\n                \"show\": true,\n                \"brushType\": \"stroke\",\n                \"scale\": 2.5,\n                \"period\": 4\n            }\n        },\n        {\n            \"type\": \"bar\",\n            \"name\": \"[24,32)\",\n            \"yAxisIndex\": 0,\n            \"data\": [\n                2.67,\n                0.0,\n                0.89,\n                0.65,\n                0.0,\n                0.0,\n                0.0,\n                1.27,\n                0.0,\n                0.0,\n                0.0,\n                0.0\n            ],\n            \"stack\": \"stack1\",\n            \"barCategoryGap\": \"20%\",\n            \"label\": {\n                \"show\": false,\n                \"position\": \"top\",\n                \"margin\": 8,\n                \"fontSize\": 14\n            },\n            \"rippleEffect\": {\n                \"show\": true,\n                \"brushType\": \"stroke\",\n                \"scale\": 2.5,\n                \"period\": 4\n            }\n        },\n        {\n            \"type\": \"bar\",\n            \"name\": \"[32,+\\u221e]\",\n            \"yAxisIndex\": 0,\n            \"data\": [\n                4.0,\n                0.0,\n                0.89,\n                0.32,\n                0.4,\n                0.45,\n                0.0,\n                0.0,\n                0.0,\n                0.79,\n                0.0,\n                0.0\n            ],\n            \"stack\": \"stack1\",\n            \"barCategoryGap\": \"20%\",\n            \"label\": {\n                \"show\": false,\n                \"position\": \"top\",\n                \"margin\": 8,\n                \"fontSize\": 14\n            },\n            \"rippleEffect\": {\n                \"show\": true,\n                \"brushType\": \"stroke\",\n                \"scale\": 2.5,\n                \"period\": 4\n            }\n        }\n    ],\n    \"legend\": [\n        {\n            \"data\": [\n                \"(0,4.25)\",\n                \"[4.25,8)\",\n                \"[8,16)\",\n                \"[16,24)\",\n                \"[24,32)\",\n                \"[32,+\\u221e]\"\n            ],\n            \"selected\": {\n                \"(0,4.25)\": true,\n                \"[4.25,8)\": true,\n                \"[8,16)\": true,\n                \"[16,24)\": true,\n                \"[24,32)\": true,\n                \"[32,+\\u221e]\": true\n            },\n            \"show\": true,\n            \"padding\": 5,\n            \"itemGap\": 10,\n            \"itemWidth\": 25,\n            \"itemHeight\": 14\n        }\n    ],\n    \"tooltip\": {\n        \"show\": true,\n        \"trigger\": \"item\",\n        \"triggerOn\": \"mousemove|click\",\n        \"axisPointer\": {\n            \"type\": \"line\"\n        },\n        \"textStyle\": {\n            \"fontSize\": 14\n        },\n        \"borderWidth\": 0\n    },\n    \"xAxis\": [\n        {\n            \"show\": true,\n            \"scale\": false,\n            \"nameLocation\": \"end\",\n            \"nameGap\": 15,\n            \"gridIndex\": 0,\n            \"axisLine\": {\n                \"show\": false,\n                \"onZero\": true,\n                \"onZeroAxisIndex\": 0\n            },\n            \"axisLabel\": {\n                \"show\": false,\n                \"position\": \"top\",\n                \"rotate\": 0,\n                \"margin\": 8,\n                \"fontSize\": 12\n            },\n            \"inverse\": false,\n            \"offset\": 0,\n            \"splitNumber\": 5,\n            \"minInterval\": 0,\n            \"splitLine\": {\n                \"show\": false,\n                \"lineStyle\": {\n                    \"show\": true,\n                    \"width\": 1,\n                    \"opacity\": 1,\n                    \"curveness\": 0,\n                    \"type\": \"solid\"\n                }\n            }\n        }\n    ],\n    \"yAxis\": [\n        {\n            \"show\": true,\n            \"scale\": false,\n            \"nameLocation\": \"end\",\n            \"nameGap\": 15,\n            \"gridIndex\": 0,\n            \"axisLine\": {\n                \"show\": false,\n                \"onZero\": true,\n                \"onZeroAxisIndex\": 0\n            },\n            \"axisLabel\": {\n                \"show\": true,\n                \"position\": \"top\",\n                \"margin\": 8,\n                \"fontSize\": 14\n            },\n            \"inverse\": false,\n            \"offset\": 0,\n            \"splitNumber\": 5,\n            \"min\": 0,\n            \"minInterval\": 0,\n            \"splitLine\": {\n                \"show\": false,\n                \"lineStyle\": {\n                    \"show\": true,\n                    \"width\": 1,\n                    \"opacity\": 1,\n                    \"curveness\": 0,\n                    \"type\": \"solid\"\n                }\n            },\n            \"data\": [\n                \"\\u98ce\\u4e4b\\u5f69\",\n                \"\\u5317\\u6781\\u661f\",\n                \"\\u9ed1\\u9a6c\",\n                \"\\u6311\\u6218\\u8005\",\n                \"\\u805a\\u5fae\",\n                \"BOSS\",\n                \"\\u5353\\u5f69\",\n                \"\\u5973\\u738b\",\n                \"\\u592a\\u9633\",\n                \"\\u660e\\u661f\",\n                \"\\u738b\\u8005\",\n                \"\\u6ee1\\u5929\\u661f\"\n            ]\n        },\n        {\n            \"type\": \"value\",\n            \"show\": true,\n            \"scale\": false,\n            \"nameLocation\": \"end\",\n            \"nameGap\": 15,\n            \"gridIndex\": 0,\n            \"axisLine\": {\n                \"show\": false,\n                \"onZero\": true,\n                \"onZeroAxisIndex\": 0\n            },\n            \"axisLabel\": {\n                \"show\": true,\n                \"position\": \"top\",\n                \"margin\": 8,\n                \"fontSize\": 14,\n                \"formatter\": \"{value} %\"\n            },\n            \"inverse\": false,\n            \"position\": \"right\",\n            \"offset\": 0,\n            \"splitNumber\": 5,\n            \"minInterval\": 0,\n            \"splitLine\": {\n                \"show\": false,\n                \"lineStyle\": {\n                    \"show\": true,\n                    \"width\": 1,\n                    \"opacity\": 1,\n                    \"curveness\": 0,\n                    \"type\": \"solid\"\n                }\n            }\n        }\n    ],\n    \"title\": [\n        {\n            \"text\": \"\\u8054\\u76df\\u56de\\u6b3e\\u533a\\u95f4\",\n            \"padding\": 5,\n            \"itemGap\": 10\n        }\n    ]\n};\n                chart_1726887801454a7d87db7fc7563de88e.setOption(option_1726887801454a7d87db7fc7563de88e);\n        });\n    </script>\n"
     },
     "metadata": {},
     "execution_count": 69
    }
   ],
   "source": [
    "bar = (\n",
    "    Bar(init_opts = opts.InitOpts(theme=ThemeType.WESTEROS,width='1000px',height='450px'))\n",
    "    .add_xaxis(Alliance_return_interval.index.tolist())\n",
    "    .extend_axis(yaxis=opts.AxisOpts(\n",
    "        type_=\"value\", position=\"right\",axislabel_opts=opts.LabelOpts(font_size = 14,formatter=\"{value} %\"),\n",
    "        axisline_opts = opts.AxisLineOpts(is_show = False)))\n",
    "    .add_yaxis(\"(0,4.25)\", [round(n*100,2) for n in Alliance_return_interval.iloc[:,0].tolist()],yaxis_index=0,stack=\"stack1\")\n",
    "    .add_yaxis(\"[4.25,8)\", [round(n*100,2) for n in Alliance_return_interval.iloc[:,1].tolist()],yaxis_index=0,stack=\"stack1\")\n",
    "    .add_yaxis(\"[8,16)\", [round(n*100,2) for n in Alliance_return_interval.iloc[:,2].tolist()],yaxis_index=0,stack=\"stack1\")\n",
    "    .add_yaxis(\"[16,24)\", [round(n*100,2) for n in Alliance_return_interval.iloc[:,3].tolist()],yaxis_index=0,stack=\"stack1\")\n",
    "    .add_yaxis(\"[24,32)\", [round(n*100,2) for n in Alliance_return_interval.iloc[:,4].tolist()],yaxis_index=0,stack=\"stack1\")\n",
    "    .add_yaxis(\"[32,+∞]\", [round(n*100,2) for n in Alliance_return_interval.iloc[:,5].tolist()],yaxis_index=0,stack=\"stack1\")\n",
    "    .reversal_axis()\n",
    "    .set_global_opts(\n",
    "        title_opts=opts.TitleOpts(title='联盟回款区间'),\n",
    "        yaxis_opts = opts.AxisOpts(min_= 0,axislabel_opts=opts.LabelOpts(font_size = 14),axisline_opts = opts.AxisLineOpts(is_show = False)),\n",
    "        xaxis_opts = opts.AxisOpts(axisline_opts = opts.AxisLineOpts(is_show = False),axislabel_opts=opts.LabelOpts(font_size = 12,rotate = 0,is_show= False)\n",
    "    ))\n",
    "    .set_series_opts(label_opts=opts.LabelOpts(font_size = 14,is_show=False))\n",
    "                    )\n",
    "bar.render_notebook()"
   ]
  },
  {
   "cell_type": "markdown",
   "metadata": {},
   "source": [
    "### 联盟人均回款"
   ]
  },
  {
   "cell_type": "code",
   "execution_count": 70,
   "metadata": {},
   "outputs": [
    {
     "output_type": "execute_result",
     "data": {
      "text/plain": [
       "AllianceName\n",
       "风之彩     6.704005\n",
       "挑战者     5.318392\n",
       "黑马      5.248468\n",
       "北极星     4.328625\n",
       "聚微      4.315237\n",
       "女王      4.162112\n",
       "卓彩      4.078461\n",
       "BOSS    3.823824\n",
       "明星      3.715775\n",
       "太阳      2.848057\n",
       "王者      2.576159\n",
       "满天星     2.035385\n",
       "Name: returned_money, dtype: float64"
      ]
     },
     "metadata": {},
     "execution_count": 70
    }
   ],
   "source": [
    "df_AllianceName_returned = df_customer_returned_ship_day.groupby('AllianceName')['returned_money'].mean()\n",
    "df_AllianceName_returned.sort_values(inplace =True,ascending = False)\n",
    "df_AllianceName_returned.drop('其他',inplace=True)\n",
    "df_AllianceName_returned"
   ]
  },
  {
   "cell_type": "code",
   "execution_count": 71,
   "metadata": {},
   "outputs": [
    {
     "output_type": "execute_result",
     "data": {
      "text/plain": [
       "<pyecharts.render.display.HTML at 0x28892f8a9c8>"
      ],
      "text/html": "\n<script>\n    require.config({\n        paths: {\n            'echarts':'https://assets.pyecharts.org/assets/echarts.min', 'westeros':'https://assets.pyecharts.org/assets/themes/westeros'\n        }\n    });\n</script>\n\n        <div id=\"7f84cbafeda3453881078759d9984bf8\" style=\"width:800px; height:450px;\"></div>\n\n<script>\n        require(['echarts', 'westeros'], function(echarts) {\n                var chart_7f84cbafeda3453881078759d9984bf8 = echarts.init(\n                    document.getElementById('7f84cbafeda3453881078759d9984bf8'), 'westeros', {renderer: 'canvas'});\n                var option_7f84cbafeda3453881078759d9984bf8 = {\n    \"animation\": true,\n    \"animationThreshold\": 2000,\n    \"animationDuration\": 1000,\n    \"animationEasing\": \"cubicOut\",\n    \"animationDelay\": 0,\n    \"animationDurationUpdate\": 300,\n    \"animationEasingUpdate\": \"cubicOut\",\n    \"animationDelayUpdate\": 0,\n    \"series\": [\n        {\n            \"type\": \"bar\",\n            \"name\": \"\\u4eba\\u5747\\u56de\\u6b3e\",\n            \"data\": [\n                6.7,\n                5.32,\n                5.25,\n                4.33,\n                4.32,\n                4.16,\n                4.08,\n                3.82,\n                3.72,\n                2.85,\n                2.58,\n                2.04\n            ],\n            \"barCategoryGap\": \"20%\",\n            \"label\": {\n                \"show\": true,\n                \"position\": \"top\",\n                \"margin\": 8,\n                \"fontSize\": 14\n            },\n            \"markLine\": {\n                \"silent\": false,\n                \"precision\": 2,\n                \"label\": {\n                    \"show\": true,\n                    \"position\": \"top\",\n                    \"margin\": 8\n                },\n                \"lineStyle\": {\n                    \"show\": true,\n                    \"width\": 1,\n                    \"opacity\": 1,\n                    \"curveness\": 0,\n                    \"type\": \"solid\",\n                    \"color\": \"green\"\n                },\n                \"data\": [\n                    {\n                        \"name\": \"\\u5e73\\u5747\\u503c\",\n                        \"type\": \"average\"\n                    }\n                ]\n            },\n            \"rippleEffect\": {\n                \"show\": true,\n                \"brushType\": \"stroke\",\n                \"scale\": 2.5,\n                \"period\": 4\n            }\n        }\n    ],\n    \"legend\": [\n        {\n            \"data\": [\n                \"\\u4eba\\u5747\\u56de\\u6b3e\"\n            ],\n            \"selected\": {\n                \"\\u4eba\\u5747\\u56de\\u6b3e\": true\n            },\n            \"show\": true,\n            \"padding\": 5,\n            \"itemGap\": 10,\n            \"itemWidth\": 25,\n            \"itemHeight\": 14\n        }\n    ],\n    \"tooltip\": {\n        \"show\": true,\n        \"trigger\": \"item\",\n        \"triggerOn\": \"mousemove|click\",\n        \"axisPointer\": {\n            \"type\": \"line\"\n        },\n        \"textStyle\": {\n            \"fontSize\": 14\n        },\n        \"borderWidth\": 0\n    },\n    \"xAxis\": [\n        {\n            \"show\": true,\n            \"scale\": false,\n            \"nameLocation\": \"end\",\n            \"nameGap\": 15,\n            \"gridIndex\": 0,\n            \"inverse\": false,\n            \"offset\": 0,\n            \"splitNumber\": 5,\n            \"minInterval\": 0,\n            \"splitLine\": {\n                \"show\": false,\n                \"lineStyle\": {\n                    \"show\": true,\n                    \"width\": 1,\n                    \"opacity\": 1,\n                    \"curveness\": 0,\n                    \"type\": \"solid\"\n                }\n            },\n            \"data\": [\n                \"\\u98ce\\u4e4b\\u5f69\",\n                \"\\u6311\\u6218\\u8005\",\n                \"\\u9ed1\\u9a6c\",\n                \"\\u5317\\u6781\\u661f\",\n                \"\\u805a\\u5fae\",\n                \"\\u5973\\u738b\",\n                \"\\u5353\\u5f69\",\n                \"BOSS\",\n                \"\\u660e\\u661f\",\n                \"\\u592a\\u9633\",\n                \"\\u738b\\u8005\",\n                \"\\u6ee1\\u5929\\u661f\"\n            ]\n        }\n    ],\n    \"yAxis\": [\n        {\n            \"show\": false,\n            \"scale\": false,\n            \"nameLocation\": \"end\",\n            \"nameGap\": 15,\n            \"gridIndex\": 0,\n            \"inverse\": false,\n            \"offset\": 0,\n            \"splitNumber\": 5,\n            \"minInterval\": 0,\n            \"splitLine\": {\n                \"show\": false,\n                \"lineStyle\": {\n                    \"show\": true,\n                    \"width\": 1,\n                    \"opacity\": 1,\n                    \"curveness\": 0,\n                    \"type\": \"solid\"\n                }\n            }\n        }\n    ],\n    \"title\": [\n        {\n            \"text\": \"3\\u6708\\u8054\\u76df\\u4eba\\u5747\\u56de\\u6b3e\",\n            \"padding\": 5,\n            \"itemGap\": 10\n        }\n    ]\n};\n                chart_7f84cbafeda3453881078759d9984bf8.setOption(option_7f84cbafeda3453881078759d9984bf8);\n        });\n    </script>\n"
     },
     "metadata": {},
     "execution_count": 71
    }
   ],
   "source": [
    "bar = (\n",
    "    Bar(init_opts = opts.InitOpts(theme=ThemeType.WESTEROS,width='800px',height='450px'))\n",
    "    .add_xaxis(df_AllianceName_returned.index.tolist())\n",
    "    .add_yaxis(\"人均回款\", round(df_AllianceName_returned,2).tolist())\n",
    "    .set_global_opts(title_opts=opts.TitleOpts(title=\"3月联盟人均回款\", subtitle=\"\"),yaxis_opts = opts.AxisOpts(is_show= False))\n",
    "    .set_series_opts(label_opts=opts.LabelOpts(font_size = 14),\n",
    "                     markline_opts=opts.MarkLineOpts(data=[\n",
    "                        opts.MarkLineItem(type_=\"average\", name=\"平均值\")],linestyle_opts  = opts.LineStyleOpts(color = 'green'))\n",
    "    )\n",
    ")\n",
    "bar.render_notebook()"
   ]
  },
  {
   "cell_type": "code",
   "execution_count": null,
   "metadata": {},
   "outputs": [],
   "source": []
  },
  {
   "cell_type": "markdown",
   "metadata": {},
   "source": [
    "#### 客户回款区间"
   ]
  },
  {
   "cell_type": "code",
   "execution_count": 72,
   "metadata": {},
   "outputs": [
    {
     "output_type": "execute_result",
     "data": {
      "text/plain": [
       "[1069, 757, 518, 478, 77, 13, 8]"
      ]
     },
     "metadata": {},
     "execution_count": 72
    }
   ],
   "source": [
    "df_return_interval = df_customer_returned_ship_day.return_interval.value_counts()\n",
    "df_return_interval.tolist()"
   ]
  },
  {
   "cell_type": "code",
   "execution_count": 73,
   "metadata": {},
   "outputs": [
    {
     "output_type": "execute_result",
     "data": {
      "text/plain": [
       "['(0,4.25)', '其他', '[4.25,8)', '[8,16)', '[16,24)', '[32,+∞]', '[24,32)']"
      ]
     },
     "metadata": {},
     "execution_count": 73
    }
   ],
   "source": [
    "df_return_interval.index.tolist()"
   ]
  },
  {
   "cell_type": "code",
   "execution_count": 74,
   "metadata": {},
   "outputs": [
    {
     "output_type": "execute_result",
     "data": {
      "text/plain": [
       "[74, 137, 84, 22, 78, 54, 106]"
      ]
     },
     "metadata": {},
     "execution_count": 74
    }
   ],
   "source": [
    "Faker.values()"
   ]
  },
  {
   "cell_type": "code",
   "execution_count": 75,
   "metadata": {},
   "outputs": [
    {
     "output_type": "execute_result",
     "data": {
      "text/plain": [
       "<pyecharts.render.display.HTML at 0x28893290388>"
      ],
      "text/html": "\n<script>\n    require.config({\n        paths: {\n            'echarts':'https://assets.pyecharts.org/assets/echarts.min', 'wonderland':'https://assets.pyecharts.org/assets/themes/wonderland'\n        }\n    });\n</script>\n\n        <div id=\"f755e54c3ea34c619e9fee9954406709\" style=\"width:900px; height:500px;\"></div>\n\n<script>\n        require(['echarts', 'wonderland'], function(echarts) {\n                var chart_f755e54c3ea34c619e9fee9954406709 = echarts.init(\n                    document.getElementById('f755e54c3ea34c619e9fee9954406709'), 'wonderland', {renderer: 'canvas'});\n                var option_f755e54c3ea34c619e9fee9954406709 = {\n    \"animation\": true,\n    \"animationThreshold\": 2000,\n    \"animationDuration\": 1000,\n    \"animationEasing\": \"cubicOut\",\n    \"animationDelay\": 0,\n    \"animationDurationUpdate\": 300,\n    \"animationEasingUpdate\": \"cubicOut\",\n    \"animationDelayUpdate\": 0,\n    \"series\": [\n        {\n            \"type\": \"funnel\",\n            \"name\": \"\\u56de\\u6b3e\\u533a\\u95f4\",\n            \"data\": [\n                {\n                    \"name\": \"(0,4.25)\",\n                    \"value\": 1069\n                },\n                {\n                    \"name\": \"\\u5176\\u4ed6\",\n                    \"value\": 757\n                },\n                {\n                    \"name\": \"[4.25,8)\",\n                    \"value\": 518\n                },\n                {\n                    \"name\": \"[8,16)\",\n                    \"value\": 478\n                },\n                {\n                    \"name\": \"[16,24)\",\n                    \"value\": 77\n                },\n                {\n                    \"name\": \"[32,+\\u221e]\",\n                    \"value\": 13\n                },\n                {\n                    \"name\": \"[24,32)\",\n                    \"value\": 8\n                }\n            ],\n            \"sort\": \"descending\",\n            \"gap\": 0,\n            \"label\": {\n                \"show\": true,\n                \"position\": \"out\",\n                \"margin\": 8,\n                \"formatter\": \"{b}:{d}%\"\n            },\n            \"tooltip\": {\n                \"show\": true,\n                \"trigger\": \"item\",\n                \"triggerOn\": \"mousemove|click\",\n                \"axisPointer\": {\n                    \"type\": \"line\"\n                },\n                \"formatter\": \"{a} <br/>{b} : {c}\",\n                \"textStyle\": {\n                    \"fontSize\": 14\n                },\n                \"borderWidth\": 0\n            },\n            \"itemStyle\": {\n                \"borderColor\": \"#fff\",\n                \"borderWidth\": 1\n            }\n        }\n    ],\n    \"legend\": [\n        {\n            \"data\": [\n                \"[16,24)\",\n                \"\\u5176\\u4ed6\",\n                \"(0,4.25)\",\n                \"[4.25,8)\",\n                \"[8,16)\",\n                \"[24,32)\",\n                \"[32,+\\u221e]\"\n            ],\n            \"selected\": {\n                \"(0,4.25)\": true,\n                \"\\u5176\\u4ed6\": true,\n                \"[4.25,8)\": true,\n                \"[8,16)\": true,\n                \"[16,24)\": true,\n                \"[32,+\\u221e]\": true,\n                \"[24,32)\": true\n            },\n            \"show\": true,\n            \"padding\": 5,\n            \"itemGap\": 10,\n            \"itemWidth\": 25,\n            \"itemHeight\": 14\n        }\n    ],\n    \"tooltip\": {\n        \"show\": true,\n        \"trigger\": \"item\",\n        \"triggerOn\": \"mousemove|click\",\n        \"axisPointer\": {\n            \"type\": \"line\"\n        },\n        \"textStyle\": {\n            \"fontSize\": 14\n        },\n        \"borderWidth\": 0\n    },\n    \"title\": [\n        {\n            \"text\": \"3\\u6708\\u56de\\u6b3e\\u533a\\u95f4\",\n            \"padding\": 5,\n            \"itemGap\": 10\n        }\n    ]\n};\n                chart_f755e54c3ea34c619e9fee9954406709.setOption(option_f755e54c3ea34c619e9fee9954406709);\n        });\n    </script>\n"
     },
     "metadata": {},
     "execution_count": 75
    }
   ],
   "source": [
    "c = (\n",
    "    Funnel(init_opts=opts.InitOpts(theme = ThemeType.WONDERLAND))\n",
    "    .add(\"回款区间\", [list(z) for z in zip(df_return_interval.index.tolist(), df_return_interval.tolist())],\n",
    "        tooltip_opts=opts.TooltipOpts(trigger=\"item\", formatter=\"{a} <br/>{b} : {c}\"),\n",
    "        label_opts=opts.LabelOpts(is_show=True, position=\"out\",formatter = \"{b}:{d}%\"),\n",
    "        itemstyle_opts=opts.ItemStyleOpts(border_color=\"#fff\", border_width=1)\n",
    "        \n",
    "        )\n",
    "    .set_global_opts(title_opts=opts.TitleOpts(title=\"3月回款区间\"))\n",
    ")\n",
    "c.render_notebook()"
   ]
  },
  {
   "cell_type": "markdown",
   "metadata": {},
   "source": [
    "### 官方维度当月回款发货"
   ]
  },
  {
   "cell_type": "code",
   "execution_count": 76,
   "metadata": {},
   "outputs": [
    {
     "output_type": "execute_result",
     "data": {
      "text/plain": [
       "   TopUserName  returned_money  ship_money  diff_returned  diff_ship\n",
       "0          严小雅        131.5540    132.3668       1.872466  24.386789\n",
       "1          付文姬         15.2600     25.1973    -114.421534 -82.782711\n",
       "2          任娟娟         74.9335     61.6365     -54.748034 -46.343511\n",
       "3           余丽        179.5067    146.9167      49.825166  38.936689\n",
       "4          余宏敏        165.0495    103.6639      35.367966  -4.316111\n",
       "..         ...             ...         ...            ...        ...\n",
       "89          颜叻        265.6706    205.6738     135.989066  97.693789\n",
       "90         高倩倩         87.2198     73.8604     -42.461734 -34.119611\n",
       "91         高朵朵        167.4986     56.4271      37.817066 -51.552911\n",
       "92          魏娜         46.6100     42.3382     -83.071534 -65.641811\n",
       "93         黄春艳         11.5174     20.0450    -118.164134 -87.935011\n",
       "\n",
       "[94 rows x 5 columns]"
      ],
      "text/html": "<div>\n<style scoped>\n    .dataframe tbody tr th:only-of-type {\n        vertical-align: middle;\n    }\n\n    .dataframe tbody tr th {\n        vertical-align: top;\n    }\n\n    .dataframe thead th {\n        text-align: right;\n    }\n</style>\n<table border=\"1\" class=\"dataframe\">\n  <thead>\n    <tr style=\"text-align: right;\">\n      <th></th>\n      <th>TopUserName</th>\n      <th>returned_money</th>\n      <th>ship_money</th>\n      <th>diff_returned</th>\n      <th>diff_ship</th>\n    </tr>\n  </thead>\n  <tbody>\n    <tr>\n      <th>0</th>\n      <td>严小雅</td>\n      <td>131.5540</td>\n      <td>132.3668</td>\n      <td>1.872466</td>\n      <td>24.386789</td>\n    </tr>\n    <tr>\n      <th>1</th>\n      <td>付文姬</td>\n      <td>15.2600</td>\n      <td>25.1973</td>\n      <td>-114.421534</td>\n      <td>-82.782711</td>\n    </tr>\n    <tr>\n      <th>2</th>\n      <td>任娟娟</td>\n      <td>74.9335</td>\n      <td>61.6365</td>\n      <td>-54.748034</td>\n      <td>-46.343511</td>\n    </tr>\n    <tr>\n      <th>3</th>\n      <td>余丽</td>\n      <td>179.5067</td>\n      <td>146.9167</td>\n      <td>49.825166</td>\n      <td>38.936689</td>\n    </tr>\n    <tr>\n      <th>4</th>\n      <td>余宏敏</td>\n      <td>165.0495</td>\n      <td>103.6639</td>\n      <td>35.367966</td>\n      <td>-4.316111</td>\n    </tr>\n    <tr>\n      <th>...</th>\n      <td>...</td>\n      <td>...</td>\n      <td>...</td>\n      <td>...</td>\n      <td>...</td>\n    </tr>\n    <tr>\n      <th>89</th>\n      <td>颜叻</td>\n      <td>265.6706</td>\n      <td>205.6738</td>\n      <td>135.989066</td>\n      <td>97.693789</td>\n    </tr>\n    <tr>\n      <th>90</th>\n      <td>高倩倩</td>\n      <td>87.2198</td>\n      <td>73.8604</td>\n      <td>-42.461734</td>\n      <td>-34.119611</td>\n    </tr>\n    <tr>\n      <th>91</th>\n      <td>高朵朵</td>\n      <td>167.4986</td>\n      <td>56.4271</td>\n      <td>37.817066</td>\n      <td>-51.552911</td>\n    </tr>\n    <tr>\n      <th>92</th>\n      <td>魏娜</td>\n      <td>46.6100</td>\n      <td>42.3382</td>\n      <td>-83.071534</td>\n      <td>-65.641811</td>\n    </tr>\n    <tr>\n      <th>93</th>\n      <td>黄春艳</td>\n      <td>11.5174</td>\n      <td>20.0450</td>\n      <td>-118.164134</td>\n      <td>-87.935011</td>\n    </tr>\n  </tbody>\n</table>\n<p>94 rows × 5 columns</p>\n</div>"
     },
     "metadata": {},
     "execution_count": 76
    }
   ],
   "source": [
    "df_TopUserName_returned_ship_day = df_returned_ship_03.groupby('TopUserName')[['returned_money','ship_money']].sum()\n",
    "df_TopUserName_returned_ship_day.reset_index(inplace = True)\n",
    "df = diff(df_TopUserName_returned_ship_day)\n",
    "df"
   ]
  },
  {
   "cell_type": "markdown",
   "metadata": {},
   "source": [
    "# 发货产品信息"
   ]
  },
  {
   "cell_type": "code",
   "execution_count": 77,
   "metadata": {},
   "outputs": [],
   "source": [
    "sql_goods = f\"\"\"\n",
    "\"\"\""
   ]
  },
  {
   "cell_type": "code",
   "execution_count": 78,
   "metadata": {},
   "outputs": [
    {
     "output_type": "error",
     "ename": "ResourceClosedError",
     "evalue": "This result object does not return rows. It has been closed automatically.",
     "traceback": [
      "\u001b[1;31m---------------------------------------------------------------------------\u001b[0m",
      "\u001b[1;31mAttributeError\u001b[0m                            Traceback (most recent call last)",
      "\u001b[1;32mF:\\ProgramData\\Anaconda3\\lib\\site-packages\\sqlalchemy\\engine\\result.py\u001b[0m in \u001b[0;36m_fetchall_impl\u001b[1;34m(self)\u001b[0m\n\u001b[0;32m   1160\u001b[0m         \u001b[1;32mtry\u001b[0m\u001b[1;33m:\u001b[0m\u001b[1;33m\u001b[0m\u001b[1;33m\u001b[0m\u001b[0m\n\u001b[1;32m-> 1161\u001b[1;33m             \u001b[1;32mreturn\u001b[0m \u001b[0mself\u001b[0m\u001b[1;33m.\u001b[0m\u001b[0mcursor\u001b[0m\u001b[1;33m.\u001b[0m\u001b[0mfetchall\u001b[0m\u001b[1;33m(\u001b[0m\u001b[1;33m)\u001b[0m\u001b[1;33m\u001b[0m\u001b[1;33m\u001b[0m\u001b[0m\n\u001b[0m\u001b[0;32m   1162\u001b[0m         \u001b[1;32mexcept\u001b[0m \u001b[0mAttributeError\u001b[0m\u001b[1;33m:\u001b[0m\u001b[1;33m\u001b[0m\u001b[1;33m\u001b[0m\u001b[0m\n",
      "\u001b[1;31mAttributeError\u001b[0m: 'NoneType' object has no attribute 'fetchall'",
      "\nDuring handling of the above exception, another exception occurred:\n",
      "\u001b[1;31mResourceClosedError\u001b[0m                       Traceback (most recent call last)",
      "\u001b[1;32m<ipython-input-78-5a30a228cb1e>\u001b[0m in \u001b[0;36m<module>\u001b[1;34m\u001b[0m\n\u001b[1;32m----> 1\u001b[1;33m \u001b[0mdf_goods_info_03\u001b[0m \u001b[1;33m=\u001b[0m \u001b[0mpd\u001b[0m\u001b[1;33m.\u001b[0m\u001b[0mread_sql\u001b[0m\u001b[1;33m(\u001b[0m\u001b[0msql_goods\u001b[0m\u001b[1;33m,\u001b[0m\u001b[0mconn_bi\u001b[0m\u001b[1;33m)\u001b[0m\u001b[1;33m\u001b[0m\u001b[1;33m\u001b[0m\u001b[0m\n\u001b[0m\u001b[0;32m      2\u001b[0m \u001b[0mdf_goods_info_03\u001b[0m\u001b[1;33m.\u001b[0m\u001b[0mhead\u001b[0m\u001b[1;33m(\u001b[0m\u001b[1;33m)\u001b[0m\u001b[1;33m\u001b[0m\u001b[1;33m\u001b[0m\u001b[0m\n",
      "\u001b[1;32mF:\\ProgramData\\Anaconda3\\lib\\site-packages\\pandas\\io\\sql.py\u001b[0m in \u001b[0;36mread_sql\u001b[1;34m(sql, con, index_col, coerce_float, params, parse_dates, columns, chunksize)\u001b[0m\n\u001b[0;32m    436\u001b[0m             \u001b[0mcoerce_float\u001b[0m\u001b[1;33m=\u001b[0m\u001b[0mcoerce_float\u001b[0m\u001b[1;33m,\u001b[0m\u001b[1;33m\u001b[0m\u001b[1;33m\u001b[0m\u001b[0m\n\u001b[0;32m    437\u001b[0m             \u001b[0mparse_dates\u001b[0m\u001b[1;33m=\u001b[0m\u001b[0mparse_dates\u001b[0m\u001b[1;33m,\u001b[0m\u001b[1;33m\u001b[0m\u001b[1;33m\u001b[0m\u001b[0m\n\u001b[1;32m--> 438\u001b[1;33m             \u001b[0mchunksize\u001b[0m\u001b[1;33m=\u001b[0m\u001b[0mchunksize\u001b[0m\u001b[1;33m,\u001b[0m\u001b[1;33m\u001b[0m\u001b[1;33m\u001b[0m\u001b[0m\n\u001b[0m\u001b[0;32m    439\u001b[0m         )\n\u001b[0;32m    440\u001b[0m \u001b[1;33m\u001b[0m\u001b[0m\n",
      "\u001b[1;32mF:\\ProgramData\\Anaconda3\\lib\\site-packages\\pandas\\io\\sql.py\u001b[0m in \u001b[0;36mread_query\u001b[1;34m(self, sql, index_col, coerce_float, parse_dates, params, chunksize)\u001b[0m\n\u001b[0;32m   1229\u001b[0m             )\n\u001b[0;32m   1230\u001b[0m         \u001b[1;32melse\u001b[0m\u001b[1;33m:\u001b[0m\u001b[1;33m\u001b[0m\u001b[1;33m\u001b[0m\u001b[0m\n\u001b[1;32m-> 1231\u001b[1;33m             \u001b[0mdata\u001b[0m \u001b[1;33m=\u001b[0m \u001b[0mresult\u001b[0m\u001b[1;33m.\u001b[0m\u001b[0mfetchall\u001b[0m\u001b[1;33m(\u001b[0m\u001b[1;33m)\u001b[0m\u001b[1;33m\u001b[0m\u001b[1;33m\u001b[0m\u001b[0m\n\u001b[0m\u001b[0;32m   1232\u001b[0m             frame = _wrap_result(\n\u001b[0;32m   1233\u001b[0m                 \u001b[0mdata\u001b[0m\u001b[1;33m,\u001b[0m\u001b[1;33m\u001b[0m\u001b[1;33m\u001b[0m\u001b[0m\n",
      "\u001b[1;32mF:\\ProgramData\\Anaconda3\\lib\\site-packages\\sqlalchemy\\engine\\result.py\u001b[0m in \u001b[0;36mfetchall\u001b[1;34m(self)\u001b[0m\n\u001b[0;32m   1214\u001b[0m         \u001b[1;32mexcept\u001b[0m \u001b[0mBaseException\u001b[0m \u001b[1;32mas\u001b[0m \u001b[0me\u001b[0m\u001b[1;33m:\u001b[0m\u001b[1;33m\u001b[0m\u001b[1;33m\u001b[0m\u001b[0m\n\u001b[0;32m   1215\u001b[0m             self.connection._handle_dbapi_exception(\n\u001b[1;32m-> 1216\u001b[1;33m                 \u001b[0me\u001b[0m\u001b[1;33m,\u001b[0m \u001b[1;32mNone\u001b[0m\u001b[1;33m,\u001b[0m \u001b[1;32mNone\u001b[0m\u001b[1;33m,\u001b[0m \u001b[0mself\u001b[0m\u001b[1;33m.\u001b[0m\u001b[0mcursor\u001b[0m\u001b[1;33m,\u001b[0m \u001b[0mself\u001b[0m\u001b[1;33m.\u001b[0m\u001b[0mcontext\u001b[0m\u001b[1;33m\u001b[0m\u001b[1;33m\u001b[0m\u001b[0m\n\u001b[0m\u001b[0;32m   1217\u001b[0m             )\n\u001b[0;32m   1218\u001b[0m \u001b[1;33m\u001b[0m\u001b[0m\n",
      "\u001b[1;32mF:\\ProgramData\\Anaconda3\\lib\\site-packages\\sqlalchemy\\engine\\base.py\u001b[0m in \u001b[0;36m_handle_dbapi_exception\u001b[1;34m(self, e, statement, parameters, cursor, context)\u001b[0m\n\u001b[0;32m   1476\u001b[0m                 \u001b[0mutil\u001b[0m\u001b[1;33m.\u001b[0m\u001b[0mraise_from_cause\u001b[0m\u001b[1;33m(\u001b[0m\u001b[0msqlalchemy_exception\u001b[0m\u001b[1;33m,\u001b[0m \u001b[0mexc_info\u001b[0m\u001b[1;33m)\u001b[0m\u001b[1;33m\u001b[0m\u001b[1;33m\u001b[0m\u001b[0m\n\u001b[0;32m   1477\u001b[0m             \u001b[1;32melse\u001b[0m\u001b[1;33m:\u001b[0m\u001b[1;33m\u001b[0m\u001b[1;33m\u001b[0m\u001b[0m\n\u001b[1;32m-> 1478\u001b[1;33m                 \u001b[0mutil\u001b[0m\u001b[1;33m.\u001b[0m\u001b[0mreraise\u001b[0m\u001b[1;33m(\u001b[0m\u001b[1;33m*\u001b[0m\u001b[0mexc_info\u001b[0m\u001b[1;33m)\u001b[0m\u001b[1;33m\u001b[0m\u001b[1;33m\u001b[0m\u001b[0m\n\u001b[0m\u001b[0;32m   1479\u001b[0m \u001b[1;33m\u001b[0m\u001b[0m\n\u001b[0;32m   1480\u001b[0m         \u001b[1;32mfinally\u001b[0m\u001b[1;33m:\u001b[0m\u001b[1;33m\u001b[0m\u001b[1;33m\u001b[0m\u001b[0m\n",
      "\u001b[1;32mF:\\ProgramData\\Anaconda3\\lib\\site-packages\\sqlalchemy\\util\\compat.py\u001b[0m in \u001b[0;36mreraise\u001b[1;34m(tp, value, tb, cause)\u001b[0m\n\u001b[0;32m    151\u001b[0m         \u001b[1;32mif\u001b[0m \u001b[0mvalue\u001b[0m\u001b[1;33m.\u001b[0m\u001b[0m__traceback__\u001b[0m \u001b[1;32mis\u001b[0m \u001b[1;32mnot\u001b[0m \u001b[0mtb\u001b[0m\u001b[1;33m:\u001b[0m\u001b[1;33m\u001b[0m\u001b[1;33m\u001b[0m\u001b[0m\n\u001b[0;32m    152\u001b[0m             \u001b[1;32mraise\u001b[0m \u001b[0mvalue\u001b[0m\u001b[1;33m.\u001b[0m\u001b[0mwith_traceback\u001b[0m\u001b[1;33m(\u001b[0m\u001b[0mtb\u001b[0m\u001b[1;33m)\u001b[0m\u001b[1;33m\u001b[0m\u001b[1;33m\u001b[0m\u001b[0m\n\u001b[1;32m--> 153\u001b[1;33m         \u001b[1;32mraise\u001b[0m \u001b[0mvalue\u001b[0m\u001b[1;33m\u001b[0m\u001b[1;33m\u001b[0m\u001b[0m\n\u001b[0m\u001b[0;32m    154\u001b[0m \u001b[1;33m\u001b[0m\u001b[0m\n\u001b[0;32m    155\u001b[0m     \u001b[1;32mdef\u001b[0m \u001b[0mu\u001b[0m\u001b[1;33m(\u001b[0m\u001b[0ms\u001b[0m\u001b[1;33m)\u001b[0m\u001b[1;33m:\u001b[0m\u001b[1;33m\u001b[0m\u001b[1;33m\u001b[0m\u001b[0m\n",
      "\u001b[1;32mF:\\ProgramData\\Anaconda3\\lib\\site-packages\\sqlalchemy\\engine\\result.py\u001b[0m in \u001b[0;36mfetchall\u001b[1;34m(self)\u001b[0m\n\u001b[0;32m   1209\u001b[0m \u001b[1;33m\u001b[0m\u001b[0m\n\u001b[0;32m   1210\u001b[0m         \u001b[1;32mtry\u001b[0m\u001b[1;33m:\u001b[0m\u001b[1;33m\u001b[0m\u001b[1;33m\u001b[0m\u001b[0m\n\u001b[1;32m-> 1211\u001b[1;33m             \u001b[0ml\u001b[0m \u001b[1;33m=\u001b[0m \u001b[0mself\u001b[0m\u001b[1;33m.\u001b[0m\u001b[0mprocess_rows\u001b[0m\u001b[1;33m(\u001b[0m\u001b[0mself\u001b[0m\u001b[1;33m.\u001b[0m\u001b[0m_fetchall_impl\u001b[0m\u001b[1;33m(\u001b[0m\u001b[1;33m)\u001b[0m\u001b[1;33m)\u001b[0m\u001b[1;33m\u001b[0m\u001b[1;33m\u001b[0m\u001b[0m\n\u001b[0m\u001b[0;32m   1212\u001b[0m             \u001b[0mself\u001b[0m\u001b[1;33m.\u001b[0m\u001b[0m_soft_close\u001b[0m\u001b[1;33m(\u001b[0m\u001b[1;33m)\u001b[0m\u001b[1;33m\u001b[0m\u001b[1;33m\u001b[0m\u001b[0m\n\u001b[0;32m   1213\u001b[0m             \u001b[1;32mreturn\u001b[0m \u001b[0ml\u001b[0m\u001b[1;33m\u001b[0m\u001b[1;33m\u001b[0m\u001b[0m\n",
      "\u001b[1;32mF:\\ProgramData\\Anaconda3\\lib\\site-packages\\sqlalchemy\\engine\\result.py\u001b[0m in \u001b[0;36m_fetchall_impl\u001b[1;34m(self)\u001b[0m\n\u001b[0;32m   1161\u001b[0m             \u001b[1;32mreturn\u001b[0m \u001b[0mself\u001b[0m\u001b[1;33m.\u001b[0m\u001b[0mcursor\u001b[0m\u001b[1;33m.\u001b[0m\u001b[0mfetchall\u001b[0m\u001b[1;33m(\u001b[0m\u001b[1;33m)\u001b[0m\u001b[1;33m\u001b[0m\u001b[1;33m\u001b[0m\u001b[0m\n\u001b[0;32m   1162\u001b[0m         \u001b[1;32mexcept\u001b[0m \u001b[0mAttributeError\u001b[0m\u001b[1;33m:\u001b[0m\u001b[1;33m\u001b[0m\u001b[1;33m\u001b[0m\u001b[0m\n\u001b[1;32m-> 1163\u001b[1;33m             \u001b[1;32mreturn\u001b[0m \u001b[0mself\u001b[0m\u001b[1;33m.\u001b[0m\u001b[0m_non_result\u001b[0m\u001b[1;33m(\u001b[0m\u001b[1;33m[\u001b[0m\u001b[1;33m]\u001b[0m\u001b[1;33m)\u001b[0m\u001b[1;33m\u001b[0m\u001b[1;33m\u001b[0m\u001b[0m\n\u001b[0m\u001b[0;32m   1164\u001b[0m \u001b[1;33m\u001b[0m\u001b[0m\n\u001b[0;32m   1165\u001b[0m     \u001b[1;32mdef\u001b[0m \u001b[0m_non_result\u001b[0m\u001b[1;33m(\u001b[0m\u001b[0mself\u001b[0m\u001b[1;33m,\u001b[0m \u001b[0mdefault\u001b[0m\u001b[1;33m)\u001b[0m\u001b[1;33m:\u001b[0m\u001b[1;33m\u001b[0m\u001b[1;33m\u001b[0m\u001b[0m\n",
      "\u001b[1;32mF:\\ProgramData\\Anaconda3\\lib\\site-packages\\sqlalchemy\\engine\\result.py\u001b[0m in \u001b[0;36m_non_result\u001b[1;34m(self, default)\u001b[0m\n\u001b[0;32m   1166\u001b[0m         \u001b[1;32mif\u001b[0m \u001b[0mself\u001b[0m\u001b[1;33m.\u001b[0m\u001b[0m_metadata\u001b[0m \u001b[1;32mis\u001b[0m \u001b[1;32mNone\u001b[0m\u001b[1;33m:\u001b[0m\u001b[1;33m\u001b[0m\u001b[1;33m\u001b[0m\u001b[0m\n\u001b[0;32m   1167\u001b[0m             raise exc.ResourceClosedError(\n\u001b[1;32m-> 1168\u001b[1;33m                 \u001b[1;34m\"This result object does not return rows. \"\u001b[0m\u001b[1;33m\u001b[0m\u001b[1;33m\u001b[0m\u001b[0m\n\u001b[0m\u001b[0;32m   1169\u001b[0m                 \u001b[1;34m\"It has been closed automatically.\"\u001b[0m\u001b[1;33m\u001b[0m\u001b[1;33m\u001b[0m\u001b[0m\n\u001b[0;32m   1170\u001b[0m             )\n",
      "\u001b[1;31mResourceClosedError\u001b[0m: This result object does not return rows. It has been closed automatically."
     ]
    }
   ],
   "source": [
    "df_goods_info_03 = pd.read_sql(sql_goods,conn_bi)\n",
    "df_goods_info_03.head()"
   ]
  },
  {
   "cell_type": "code",
   "execution_count": 165,
   "metadata": {},
   "outputs": [
    {
     "data": {
      "text/html": [
       "<div>\n",
       "<style scoped>\n",
       "    .dataframe tbody tr th:only-of-type {\n",
       "        vertical-align: middle;\n",
       "    }\n",
       "\n",
       "    .dataframe tbody tr th {\n",
       "        vertical-align: top;\n",
       "    }\n",
       "\n",
       "    .dataframe thead th {\n",
       "        text-align: right;\n",
       "    }\n",
       "</style>\n",
       "<table border=\"1\" class=\"dataframe\">\n",
       "  <thead>\n",
       "    <tr style=\"text-align: right;\">\n",
       "      <th></th>\n",
       "      <th>spu</th>\n",
       "      <th>money</th>\n",
       "      <th>totalCount</th>\n",
       "    </tr>\n",
       "  </thead>\n",
       "  <tbody>\n",
       "    <tr>\n",
       "      <th>0</th>\n",
       "      <td>BB霜</td>\n",
       "      <td>60.5492</td>\n",
       "      <td>10006</td>\n",
       "    </tr>\n",
       "    <tr>\n",
       "      <th>1</th>\n",
       "      <td>PS霜</td>\n",
       "      <td>49.2440</td>\n",
       "      <td>9758</td>\n",
       "    </tr>\n",
       "    <tr>\n",
       "      <th>2</th>\n",
       "      <td>七天面膜</td>\n",
       "      <td>3.6668</td>\n",
       "      <td>412</td>\n",
       "    </tr>\n",
       "    <tr>\n",
       "      <th>3</th>\n",
       "      <td>健康水</td>\n",
       "      <td>195.2319</td>\n",
       "      <td>20127</td>\n",
       "    </tr>\n",
       "    <tr>\n",
       "      <th>4</th>\n",
       "      <td>养护牙膏</td>\n",
       "      <td>12.0890</td>\n",
       "      <td>15861</td>\n",
       "    </tr>\n",
       "  </tbody>\n",
       "</table>\n",
       "</div>"
      ],
      "text/plain": [
       "    spu     money  totalCount\n",
       "0   BB霜   60.5492       10006\n",
       "1   PS霜   49.2440        9758\n",
       "2  七天面膜    3.6668         412\n",
       "3   健康水  195.2319       20127\n",
       "4  养护牙膏   12.0890       15861"
      ]
     },
     "execution_count": 165,
     "metadata": {},
     "output_type": "execute_result"
    }
   ],
   "source": [
    "df_spu_gy = df_goods_info_03.groupby('spu',as_index=False)[['money','totalCount']].sum()\n",
    "df_spu_gy.head()"
   ]
  },
  {
   "cell_type": "code",
   "execution_count": 166,
   "metadata": {},
   "outputs": [],
   "source": [
    "df_spu_gy.sort_values(by='money',inplace=True,ascending=False)"
   ]
  },
  {
   "cell_type": "code",
   "execution_count": 167,
   "metadata": {},
   "outputs": [],
   "source": [
    "df_spu_gy['sum_m'] = df_spu_gy.money.sum()\n",
    "df_spu_gy['sum_c'] = df_spu_gy.totalCount.sum()"
   ]
  },
  {
   "cell_type": "code",
   "execution_count": 168,
   "metadata": {},
   "outputs": [],
   "source": [
    "df_spu_gy['cunsum_m'] = df_spu_gy.money.cumsum()\n",
    "df_spu_gy['cunsum_c'] = df_spu_gy.totalCount.cumsum()"
   ]
  },
  {
   "cell_type": "code",
   "execution_count": 169,
   "metadata": {},
   "outputs": [],
   "source": [
    "df_spu_gy['rat_m'] = df_spu_gy['cunsum_m'] / df_spu_gy['sum_m']\n",
    "df_spu_gy['rat_c'] = df_spu_gy['cunsum_c'] / df_spu_gy['sum_c']"
   ]
  },
  {
   "cell_type": "code",
   "execution_count": 375,
   "metadata": {},
   "outputs": [
    {
     "data": {
      "text/html": [
       "<div>\n",
       "<style scoped>\n",
       "    .dataframe tbody tr th:only-of-type {\n",
       "        vertical-align: middle;\n",
       "    }\n",
       "\n",
       "    .dataframe tbody tr th {\n",
       "        vertical-align: top;\n",
       "    }\n",
       "\n",
       "    .dataframe thead th {\n",
       "        text-align: right;\n",
       "    }\n",
       "</style>\n",
       "<table border=\"1\" class=\"dataframe\">\n",
       "  <thead>\n",
       "    <tr style=\"text-align: right;\">\n",
       "      <th></th>\n",
       "      <th>spu</th>\n",
       "      <th>money</th>\n",
       "      <th>totalCount</th>\n",
       "      <th>sum_m</th>\n",
       "      <th>sum_c</th>\n",
       "      <th>cunsum_m</th>\n",
       "      <th>cunsum_c</th>\n",
       "      <th>rat_m</th>\n",
       "      <th>rat_c</th>\n",
       "    </tr>\n",
       "  </thead>\n",
       "  <tbody>\n",
       "    <tr>\n",
       "      <th>0</th>\n",
       "      <td>春水套盒</td>\n",
       "      <td>2966.5416</td>\n",
       "      <td>224743</td>\n",
       "      <td>9657.6809</td>\n",
       "      <td>1073841</td>\n",
       "      <td>2966.5416</td>\n",
       "      <td>224743</td>\n",
       "      <td>0.307169</td>\n",
       "      <td>0.209289</td>\n",
       "    </tr>\n",
       "    <tr>\n",
       "      <th>1</th>\n",
       "      <td>秋水套盒</td>\n",
       "      <td>1674.1560</td>\n",
       "      <td>126830</td>\n",
       "      <td>9657.6809</td>\n",
       "      <td>1073841</td>\n",
       "      <td>4640.6976</td>\n",
       "      <td>351573</td>\n",
       "      <td>0.480519</td>\n",
       "      <td>0.327398</td>\n",
       "    </tr>\n",
       "    <tr>\n",
       "      <th>2</th>\n",
       "      <td>高机能精华霜</td>\n",
       "      <td>868.7616</td>\n",
       "      <td>69504</td>\n",
       "      <td>9657.6809</td>\n",
       "      <td>1073841</td>\n",
       "      <td>5509.4592</td>\n",
       "      <td>421077</td>\n",
       "      <td>0.570474</td>\n",
       "      <td>0.392122</td>\n",
       "    </tr>\n",
       "    <tr>\n",
       "      <th>3</th>\n",
       "      <td>流光雪妍精萃水</td>\n",
       "      <td>538.3428</td>\n",
       "      <td>66857</td>\n",
       "      <td>9657.6809</td>\n",
       "      <td>1073841</td>\n",
       "      <td>6047.8020</td>\n",
       "      <td>487934</td>\n",
       "      <td>0.626217</td>\n",
       "      <td>0.454382</td>\n",
       "    </tr>\n",
       "    <tr>\n",
       "      <th>4</th>\n",
       "      <td>美白套盒</td>\n",
       "      <td>457.6176</td>\n",
       "      <td>34668</td>\n",
       "      <td>9657.6809</td>\n",
       "      <td>1073841</td>\n",
       "      <td>6505.4196</td>\n",
       "      <td>522602</td>\n",
       "      <td>0.673601</td>\n",
       "      <td>0.486666</td>\n",
       "    </tr>\n",
       "  </tbody>\n",
       "</table>\n",
       "</div>"
      ],
      "text/plain": [
       "       spu      money  totalCount      sum_m    sum_c   cunsum_m  cunsum_c  \\\n",
       "0     春水套盒  2966.5416      224743  9657.6809  1073841  2966.5416    224743   \n",
       "1     秋水套盒  1674.1560      126830  9657.6809  1073841  4640.6976    351573   \n",
       "2   高机能精华霜   868.7616       69504  9657.6809  1073841  5509.4592    421077   \n",
       "3  流光雪妍精萃水   538.3428       66857  9657.6809  1073841  6047.8020    487934   \n",
       "4     美白套盒   457.6176       34668  9657.6809  1073841  6505.4196    522602   \n",
       "\n",
       "      rat_m     rat_c  \n",
       "0  0.307169  0.209289  \n",
       "1  0.480519  0.327398  \n",
       "2  0.570474  0.392122  \n",
       "3  0.626217  0.454382  \n",
       "4  0.673601  0.486666  "
      ]
     },
     "execution_count": 375,
     "metadata": {},
     "output_type": "execute_result"
    }
   ],
   "source": [
    "df_spu_gy.reset_index(drop=True,inplace=True)\n",
    "df_spu_gy.head()"
   ]
  },
  {
   "cell_type": "code",
   "execution_count": 194,
   "metadata": {},
   "outputs": [
    {
     "data": {
      "text/html": [
       "\n",
       "<script>\n",
       "    require.config({\n",
       "        paths: {\n",
       "            'echarts':'https://assets.pyecharts.org/assets/echarts.min', 'wonderland':'https://assets.pyecharts.org/assets/themes/wonderland'\n",
       "        }\n",
       "    });\n",
       "</script>\n",
       "\n",
       "        <div id=\"112782711b1a4e64937b9a96053a4d62\" style=\"width:1200px; height:400px;\"></div>\n",
       "\n",
       "<script>\n",
       "        require(['echarts', 'wonderland'], function(echarts) {\n",
       "                var chart_112782711b1a4e64937b9a96053a4d62 = echarts.init(\n",
       "                    document.getElementById('112782711b1a4e64937b9a96053a4d62'), 'wonderland', {renderer: 'canvas'});\n",
       "                var option_112782711b1a4e64937b9a96053a4d62 = {\n",
       "    \"animation\": true,\n",
       "    \"animationThreshold\": 2000,\n",
       "    \"animationDuration\": 1000,\n",
       "    \"animationEasing\": \"cubicOut\",\n",
       "    \"animationDelay\": 0,\n",
       "    \"animationDurationUpdate\": 300,\n",
       "    \"animationEasingUpdate\": \"cubicOut\",\n",
       "    \"animationDelayUpdate\": 0,\n",
       "    \"color\": [],\n",
       "    \"series\": [\n",
       "        {\n",
       "            \"type\": \"bar\",\n",
       "            \"name\": \"\\u53d1\\u8d27\\u989d\",\n",
       "            \"yAxisIndex\": 0,\n",
       "            \"data\": [\n",
       "                2967.0,\n",
       "                1674.0,\n",
       "                869.0,\n",
       "                538.0,\n",
       "                458.0,\n",
       "                362.0,\n",
       "                338.0,\n",
       "                306.0,\n",
       "                251.0,\n",
       "                195.0,\n",
       "                136.0,\n",
       "                121.0,\n",
       "                104.0,\n",
       "                100.0,\n",
       "                84.0,\n",
       "                82.0,\n",
       "                81.0,\n",
       "                78.0,\n",
       "                66.0,\n",
       "                62.0,\n",
       "                62.0,\n",
       "                61.0,\n",
       "                61.0,\n",
       "                60.0,\n",
       "                54.0,\n",
       "                53.0,\n",
       "                53.0,\n",
       "                49.0,\n",
       "                46.0,\n",
       "                41.0,\n",
       "                39.0,\n",
       "                35.0,\n",
       "                25.0,\n",
       "                23.0,\n",
       "                23.0,\n",
       "                17.0,\n",
       "                12.0,\n",
       "                12.0,\n",
       "                9.0,\n",
       "                8.0,\n",
       "                8.0,\n",
       "                7.0,\n",
       "                4.0,\n",
       "                4.0,\n",
       "                4.0,\n",
       "                3.0,\n",
       "                3.0,\n",
       "                3.0,\n",
       "                2.0,\n",
       "                1.0,\n",
       "                1.0,\n",
       "                1.0,\n",
       "                1.0,\n",
       "                1.0,\n",
       "                0.0,\n",
       "                0.0,\n",
       "                0.0\n",
       "            ],\n",
       "            \"barCategoryGap\": \"20%\",\n",
       "            \"label\": {\n",
       "                \"show\": false,\n",
       "                \"position\": \"top\",\n",
       "                \"margin\": 8,\n",
       "                \"fontSize\": 14\n",
       "            },\n",
       "            \"rippleEffect\": {\n",
       "                \"show\": true,\n",
       "                \"brushType\": \"stroke\",\n",
       "                \"scale\": 2.5,\n",
       "                \"period\": 4\n",
       "            }\n",
       "        },\n",
       "        {\n",
       "            \"type\": \"line\",\n",
       "            \"name\": \"\\u53d1\\u8d27\\u989d\\u5360\\u6bd4\",\n",
       "            \"connectNulls\": false,\n",
       "            \"yAxisIndex\": 1,\n",
       "            \"symbolSize\": 4,\n",
       "            \"showSymbol\": true,\n",
       "            \"smooth\": false,\n",
       "            \"step\": false,\n",
       "            \"data\": [\n",
       "                [\n",
       "                    \"\\u6625\\u6c34\\u5957\\u76d2\",\n",
       "                    30.72\n",
       "                ],\n",
       "                [\n",
       "                    \"\\u79cb\\u6c34\\u5957\\u76d2\",\n",
       "                    48.05\n",
       "                ],\n",
       "                [\n",
       "                    \"\\u9ad8\\u673a\\u80fd\\u7cbe\\u534e\\u971c\",\n",
       "                    57.05\n",
       "                ],\n",
       "                [\n",
       "                    \"\\u6d41\\u5149\\u96ea\\u598d\\u7cbe\\u8403\\u6c34\",\n",
       "                    62.62\n",
       "                ],\n",
       "                [\n",
       "                    \"\\u7f8e\\u767d\\u5957\\u76d2\",\n",
       "                    67.36\n",
       "                ],\n",
       "                [\n",
       "                    \"\\u767e\\u5408\\u6d01\\u9762\",\n",
       "                    71.1\n",
       "                ],\n",
       "                [\n",
       "                    \"\\u9632\\u6652\\u5957\",\n",
       "                    74.61\n",
       "                ],\n",
       "                [\n",
       "                    \"\\u5c0f\\u767d\\u9488\",\n",
       "                    77.77\n",
       "                ],\n",
       "                [\n",
       "                    \"\\u9632\\u6652\\u55b7\\u96fe\",\n",
       "                    80.37\n",
       "                ],\n",
       "                [\n",
       "                    \"\\u5065\\u5eb7\\u6c34\",\n",
       "                    82.39\n",
       "                ],\n",
       "                [\n",
       "                    \"\\u9ad8\\u673a\\u80fd\\u7cbe\\u534e\\u6c34\",\n",
       "                    83.8\n",
       "                ],\n",
       "                [\n",
       "                    \"\\u8212\\u5b89\\u971c\",\n",
       "                    85.05\n",
       "                ],\n",
       "                [\n",
       "                    \"\\u5c0f\\u6da6\\u9762\\u819c\",\n",
       "                    86.13\n",
       "                ],\n",
       "                [\n",
       "                    \"\\u517b\\u9762\\u819c\",\n",
       "                    87.16\n",
       "                ],\n",
       "                [\n",
       "                    \"\\u6728\\u68a8\\u82b1\\u6d01\\u9762\\u4e73\",\n",
       "                    88.03\n",
       "                ],\n",
       "                [\n",
       "                    \"\\u795b\\u6591\\u5957\",\n",
       "                    88.88\n",
       "                ],\n",
       "                [\n",
       "                    \"\\u690d\\u8403\\u5378\\u5986\\u6c34\",\n",
       "                    89.72\n",
       "                ],\n",
       "                [\n",
       "                    \"\\u80f6\\u539f\\u86cb\\u767d\",\n",
       "                    90.53\n",
       "                ],\n",
       "                [\n",
       "                    \"\\u6728\\u68a8\\u82b1\\u6309\\u6469\\u971c\",\n",
       "                    91.21\n",
       "                ],\n",
       "                [\n",
       "                    \"\\u6728\\u68a8\\u82b1\\u9762\\u819c\",\n",
       "                    91.86\n",
       "                ],\n",
       "                [\n",
       "                    \"\\u71ac\\u591c\\u7cbe\\u534e\",\n",
       "                    92.5\n",
       "                ],\n",
       "                [\n",
       "                    \"\\u84dd\\u5149\\u7c89\\u5e95\\u6db2\",\n",
       "                    93.14\n",
       "                ],\n",
       "                [\n",
       "                    \"BB\\u971c\",\n",
       "                    93.76\n",
       "                ],\n",
       "                [\n",
       "                    \"\\u6297\\u8870\\u5957\\u76d2\",\n",
       "                    94.38\n",
       "                ],\n",
       "                [\n",
       "                    \"\\u55b7\\u96fe\",\n",
       "                    94.94\n",
       "                ],\n",
       "                [\n",
       "                    \"\\u8212\\u5b89\\u4e73\",\n",
       "                    95.49\n",
       "                ],\n",
       "                [\n",
       "                    \"\\u53cc\\u6548\\u7761\\u7720\\u9762\\u819c\",\n",
       "                    96.04\n",
       "                ],\n",
       "                [\n",
       "                    \"PS\\u971c\",\n",
       "                    96.55\n",
       "                ],\n",
       "                [\n",
       "                    \"\\u6d17\\u53d1\\u6c34\",\n",
       "                    97.03\n",
       "                ],\n",
       "                [\n",
       "                    \"\\u6728\\u68a8\\u82b1\\u7cbe\\u534e\\u6c34\",\n",
       "                    97.45\n",
       "                ],\n",
       "                [\n",
       "                    \"\\u5907\\u957f\\u70ad\\u9762\\u819c\",\n",
       "                    97.86\n",
       "                ],\n",
       "                [\n",
       "                    \"\\u5976\\u6cb9\\u6c14\\u57ab\\u971c\",\n",
       "                    98.22\n",
       "                ],\n",
       "                [\n",
       "                    \"\\u82b1\\u6c34\\u9762\\u819c\",\n",
       "                    98.48\n",
       "                ],\n",
       "                [\n",
       "                    \"\\u6d17\\u53d1\\u9732\",\n",
       "                    98.72\n",
       "                ],\n",
       "                [\n",
       "                    \"\\u6d17\\u53d1\\u6c34500g\",\n",
       "                    98.95\n",
       "                ],\n",
       "                [\n",
       "                    \"\\u6c90\\u6d74\\u9732\",\n",
       "                    99.13\n",
       "                ],\n",
       "                [\n",
       "                    \"\\u8eab\\u4f53\\u4e73\",\n",
       "                    99.26\n",
       "                ],\n",
       "                [\n",
       "                    \"\\u517b\\u62a4\\u7259\\u818f\",\n",
       "                    99.38\n",
       "                ],\n",
       "                [\n",
       "                    \"\\u8c37\\u7269\\u68d2\",\n",
       "                    99.48\n",
       "                ],\n",
       "                [\n",
       "                    \"\\u773c\\u7ebf\\u6db2\",\n",
       "                    99.56\n",
       "                ],\n",
       "                [\n",
       "                    \"\\u5c0f\\u767d\\u9762\\u819c\",\n",
       "                    99.64\n",
       "                ],\n",
       "                [\n",
       "                    \"\\u6c34\\u6f3e\\u53d8\\u8272\\u5507\\u818f\",\n",
       "                    99.72\n",
       "                ],\n",
       "                [\n",
       "                    \"\\u6e10\\u5c42\\u7709\\u7b14\",\n",
       "                    99.76\n",
       "                ],\n",
       "                [\n",
       "                    \"\\u767d\\u7ba1\\u4e1d\\u7ed2\\u5507\\u818f\",\n",
       "                    99.8\n",
       "                ],\n",
       "                [\n",
       "                    \"\\u4e03\\u5929\\u9762\\u819c\",\n",
       "                    99.84\n",
       "                ],\n",
       "                [\n",
       "                    \"\\u661f\\u7738\\u56db\\u8272\\u773c\\u5f71\",\n",
       "                    99.88\n",
       "                ],\n",
       "                [\n",
       "                    \"\\u6052\\u989c\\u7c89\\u997c01\",\n",
       "                    99.91\n",
       "                ],\n",
       "                [\n",
       "                    \"\\u5fae\\u73e0\\u7cbe\\u534e\",\n",
       "                    99.93\n",
       "                ],\n",
       "                [\n",
       "                    \"\\u70d9\\u8272\\u816e\\u7ea2PK01\",\n",
       "                    99.95\n",
       "                ],\n",
       "                [\n",
       "                    \"\\u70d9\\u8272\\u816e\\u7ea2RD02\",\n",
       "                    99.97\n",
       "                ],\n",
       "                [\n",
       "                    \"\\u81f4\\u81fb\\u6db2\\u4f53\\u5507\\u91c9\",\n",
       "                    99.98\n",
       "                ],\n",
       "                [\n",
       "                    \"\\u54d1\\u5149\\u5507\\u91c9\",\n",
       "                    99.99\n",
       "                ],\n",
       "                [\n",
       "                    \"\\u5355\\u652f\\u62a4\\u624b\\u971c\",\n",
       "                    99.99\n",
       "                ],\n",
       "                [\n",
       "                    \"\\u767d\\u7ba1\\u661f\\u94bb\\u5507\\u818f\",\n",
       "                    100.0\n",
       "                ],\n",
       "                [\n",
       "                    \"\\u8ff7\\u96fe\\u5b9a\\u5986\\u871c\\u7c89\",\n",
       "                    100.0\n",
       "                ],\n",
       "                [\n",
       "                    \"\\u81f4\\u81fb\\u54d1\\u5149\\u5507\\u91c9\",\n",
       "                    100.0\n",
       "                ],\n",
       "                [\n",
       "                    \"\\u6da6\\u5507\\u818f\",\n",
       "                    100.0\n",
       "                ]\n",
       "            ],\n",
       "            \"hoverAnimation\": true,\n",
       "            \"label\": {\n",
       "                \"show\": false,\n",
       "                \"position\": \"top\",\n",
       "                \"margin\": 8,\n",
       "                \"fontSize\": 14,\n",
       "                \"formatter\": function (params) {return params.value[1]+'%'}\n",
       "            },\n",
       "            \"lineStyle\": {\n",
       "                \"show\": true,\n",
       "                \"width\": 1,\n",
       "                \"opacity\": 1,\n",
       "                \"curveness\": 0,\n",
       "                \"type\": \"solid\"\n",
       "            },\n",
       "            \"areaStyle\": {\n",
       "                \"opacity\": 0\n",
       "            },\n",
       "            \"zlevel\": 0,\n",
       "            \"z\": 10,\n",
       "            \"rippleEffect\": {\n",
       "                \"show\": true,\n",
       "                \"brushType\": \"stroke\",\n",
       "                \"scale\": 2.5,\n",
       "                \"period\": 4\n",
       "            }\n",
       "        },\n",
       "        {\n",
       "            \"type\": \"line\",\n",
       "            \"name\": \"\\u53d1\\u8d27\\u6570\\u5360\\u6bd4\",\n",
       "            \"connectNulls\": false,\n",
       "            \"yAxisIndex\": 1,\n",
       "            \"symbolSize\": 4,\n",
       "            \"showSymbol\": true,\n",
       "            \"smooth\": false,\n",
       "            \"step\": false,\n",
       "            \"data\": [\n",
       "                [\n",
       "                    \"\\u6625\\u6c34\\u5957\\u76d2\",\n",
       "                    20.93\n",
       "                ],\n",
       "                [\n",
       "                    \"\\u79cb\\u6c34\\u5957\\u76d2\",\n",
       "                    32.74\n",
       "                ],\n",
       "                [\n",
       "                    \"\\u9ad8\\u673a\\u80fd\\u7cbe\\u534e\\u971c\",\n",
       "                    39.21\n",
       "                ],\n",
       "                [\n",
       "                    \"\\u6d41\\u5149\\u96ea\\u598d\\u7cbe\\u8403\\u6c34\",\n",
       "                    45.44\n",
       "                ],\n",
       "                [\n",
       "                    \"\\u7f8e\\u767d\\u5957\\u76d2\",\n",
       "                    48.67\n",
       "                ],\n",
       "                [\n",
       "                    \"\\u767e\\u5408\\u6d01\\u9762\",\n",
       "                    54.78\n",
       "                ],\n",
       "                [\n",
       "                    \"\\u9632\\u6652\\u5957\",\n",
       "                    59.61\n",
       "                ],\n",
       "                [\n",
       "                    \"\\u5c0f\\u767d\\u9488\",\n",
       "                    61.06\n",
       "                ],\n",
       "                [\n",
       "                    \"\\u9632\\u6652\\u55b7\\u96fe\",\n",
       "                    64.78\n",
       "                ],\n",
       "                [\n",
       "                    \"\\u5065\\u5eb7\\u6c34\",\n",
       "                    66.65\n",
       "                ],\n",
       "                [\n",
       "                    \"\\u9ad8\\u673a\\u80fd\\u7cbe\\u534e\\u6c34\",\n",
       "                    68.47\n",
       "                ],\n",
       "                [\n",
       "                    \"\\u8212\\u5b89\\u971c\",\n",
       "                    70.12\n",
       "                ],\n",
       "                [\n",
       "                    \"\\u5c0f\\u6da6\\u9762\\u819c\",\n",
       "                    71.38\n",
       "                ],\n",
       "                [\n",
       "                    \"\\u517b\\u9762\\u819c\",\n",
       "                    78.46\n",
       "                ],\n",
       "                [\n",
       "                    \"\\u6728\\u68a8\\u82b1\\u6d01\\u9762\\u4e73\",\n",
       "                    80.07\n",
       "                ],\n",
       "                [\n",
       "                    \"\\u795b\\u6591\\u5957\",\n",
       "                    80.76\n",
       "                ],\n",
       "                [\n",
       "                    \"\\u690d\\u8403\\u5378\\u5986\\u6c34\",\n",
       "                    82.35\n",
       "                ],\n",
       "                [\n",
       "                    \"\\u80f6\\u539f\\u86cb\\u767d\",\n",
       "                    83.04\n",
       "                ],\n",
       "                [\n",
       "                    \"\\u6728\\u68a8\\u82b1\\u6309\\u6469\\u971c\",\n",
       "                    84.12\n",
       "                ],\n",
       "                [\n",
       "                    \"\\u6728\\u68a8\\u82b1\\u9762\\u819c\",\n",
       "                    85.15\n",
       "                ],\n",
       "                [\n",
       "                    \"\\u71ac\\u591c\\u7cbe\\u534e\",\n",
       "                    87.22\n",
       "                ],\n",
       "                [\n",
       "                    \"\\u84dd\\u5149\\u7c89\\u5e95\\u6db2\",\n",
       "                    87.82\n",
       "                ],\n",
       "                [\n",
       "                    \"BB\\u971c\",\n",
       "                    88.75\n",
       "                ],\n",
       "                [\n",
       "                    \"\\u6297\\u8870\\u5957\\u76d2\",\n",
       "                    88.97\n",
       "                ],\n",
       "                [\n",
       "                    \"\\u55b7\\u96fe\",\n",
       "                    90.31\n",
       "                ],\n",
       "                [\n",
       "                    \"\\u8212\\u5b89\\u4e73\",\n",
       "                    91.04\n",
       "                ],\n",
       "                [\n",
       "                    \"\\u53cc\\u6548\\u7761\\u7720\\u9762\\u819c\",\n",
       "                    91.74\n",
       "                ],\n",
       "                [\n",
       "                    \"PS\\u971c\",\n",
       "                    92.65\n",
       "                ],\n",
       "                [\n",
       "                    \"\\u6d17\\u53d1\\u6c34\",\n",
       "                    93.47\n",
       "                ],\n",
       "                [\n",
       "                    \"\\u6728\\u68a8\\u82b1\\u7cbe\\u534e\\u6c34\",\n",
       "                    94.17\n",
       "                ],\n",
       "                [\n",
       "                    \"\\u5907\\u957f\\u70ad\\u9762\\u819c\",\n",
       "                    94.65\n",
       "                ],\n",
       "                [\n",
       "                    \"\\u5976\\u6cb9\\u6c14\\u57ab\\u971c\",\n",
       "                    95.12\n",
       "                ],\n",
       "                [\n",
       "                    \"\\u82b1\\u6c34\\u9762\\u819c\",\n",
       "                    95.78\n",
       "                ],\n",
       "                [\n",
       "                    \"\\u6d17\\u53d1\\u9732\",\n",
       "                    96.29\n",
       "                ],\n",
       "                [\n",
       "                    \"\\u6d17\\u53d1\\u6c34500g\",\n",
       "                    96.69\n",
       "                ],\n",
       "                [\n",
       "                    \"\\u6c90\\u6d74\\u9732\",\n",
       "                    97.11\n",
       "                ],\n",
       "                [\n",
       "                    \"\\u8eab\\u4f53\\u4e73\",\n",
       "                    97.43\n",
       "                ],\n",
       "                [\n",
       "                    \"\\u517b\\u62a4\\u7259\\u818f\",\n",
       "                    98.9\n",
       "                ],\n",
       "                [\n",
       "                    \"\\u8c37\\u7269\\u68d2\",\n",
       "                    98.95\n",
       "                ],\n",
       "                [\n",
       "                    \"\\u773c\\u7ebf\\u6db2\",\n",
       "                    99.12\n",
       "                ],\n",
       "                [\n",
       "                    \"\\u5c0f\\u767d\\u9762\\u819c\",\n",
       "                    99.21\n",
       "                ],\n",
       "                [\n",
       "                    \"\\u6c34\\u6f3e\\u53d8\\u8272\\u5507\\u818f\",\n",
       "                    99.41\n",
       "                ],\n",
       "                [\n",
       "                    \"\\u6e10\\u5c42\\u7709\\u7b14\",\n",
       "                    99.56\n",
       "                ],\n",
       "                [\n",
       "                    \"\\u767d\\u7ba1\\u4e1d\\u7ed2\\u5507\\u818f\",\n",
       "                    99.65\n",
       "                ],\n",
       "                [\n",
       "                    \"\\u4e03\\u5929\\u9762\\u819c\",\n",
       "                    99.68\n",
       "                ],\n",
       "                [\n",
       "                    \"\\u661f\\u7738\\u56db\\u8272\\u773c\\u5f71\",\n",
       "                    99.76\n",
       "                ],\n",
       "                [\n",
       "                    \"\\u6052\\u989c\\u7c89\\u997c01\",\n",
       "                    99.8\n",
       "                ],\n",
       "                [\n",
       "                    \"\\u5fae\\u73e0\\u7cbe\\u534e\",\n",
       "                    99.83\n",
       "                ],\n",
       "                [\n",
       "                    \"\\u70d9\\u8272\\u816e\\u7ea2PK01\",\n",
       "                    99.86\n",
       "                ],\n",
       "                [\n",
       "                    \"\\u70d9\\u8272\\u816e\\u7ea2RD02\",\n",
       "                    99.88\n",
       "                ],\n",
       "                [\n",
       "                    \"\\u81f4\\u81fb\\u6db2\\u4f53\\u5507\\u91c9\",\n",
       "                    99.92\n",
       "                ],\n",
       "                [\n",
       "                    \"\\u54d1\\u5149\\u5507\\u91c9\",\n",
       "                    99.94\n",
       "                ],\n",
       "                [\n",
       "                    \"\\u5355\\u652f\\u62a4\\u624b\\u971c\",\n",
       "                    99.98\n",
       "                ],\n",
       "                [\n",
       "                    \"\\u767d\\u7ba1\\u661f\\u94bb\\u5507\\u818f\",\n",
       "                    99.99\n",
       "                ],\n",
       "                [\n",
       "                    \"\\u8ff7\\u96fe\\u5b9a\\u5986\\u871c\\u7c89\",\n",
       "                    99.99\n",
       "                ],\n",
       "                [\n",
       "                    \"\\u81f4\\u81fb\\u54d1\\u5149\\u5507\\u91c9\",\n",
       "                    100.0\n",
       "                ],\n",
       "                [\n",
       "                    \"\\u6da6\\u5507\\u818f\",\n",
       "                    100.0\n",
       "                ]\n",
       "            ],\n",
       "            \"hoverAnimation\": true,\n",
       "            \"label\": {\n",
       "                \"show\": false,\n",
       "                \"position\": \"top\",\n",
       "                \"margin\": 8,\n",
       "                \"fontSize\": 14,\n",
       "                \"formatter\": function (params) {return params.value[1]+'%'}\n",
       "            },\n",
       "            \"lineStyle\": {\n",
       "                \"show\": true,\n",
       "                \"width\": 1,\n",
       "                \"opacity\": 1,\n",
       "                \"curveness\": 0,\n",
       "                \"type\": \"solid\"\n",
       "            },\n",
       "            \"areaStyle\": {\n",
       "                \"opacity\": 0\n",
       "            },\n",
       "            \"zlevel\": 0,\n",
       "            \"z\": 10,\n",
       "            \"rippleEffect\": {\n",
       "                \"show\": true,\n",
       "                \"brushType\": \"stroke\",\n",
       "                \"scale\": 2.5,\n",
       "                \"period\": 4\n",
       "            }\n",
       "        }\n",
       "    ],\n",
       "    \"legend\": [\n",
       "        {\n",
       "            \"data\": [\n",
       "                \"\\u53d1\\u8d27\\u989d\",\n",
       "                \"\\u53d1\\u8d27\\u989d\\u5360\\u6bd4\",\n",
       "                \"\\u53d1\\u8d27\\u6570\\u5360\\u6bd4\"\n",
       "            ],\n",
       "            \"selected\": {\n",
       "                \"\\u53d1\\u8d27\\u989d\": true\n",
       "            },\n",
       "            \"show\": true,\n",
       "            \"padding\": 5,\n",
       "            \"itemGap\": 10,\n",
       "            \"itemWidth\": 25,\n",
       "            \"itemHeight\": 14\n",
       "        }\n",
       "    ],\n",
       "    \"tooltip\": {\n",
       "        \"show\": true,\n",
       "        \"trigger\": \"item\",\n",
       "        \"triggerOn\": \"mousemove|click\",\n",
       "        \"axisPointer\": {\n",
       "            \"type\": \"line\"\n",
       "        },\n",
       "        \"textStyle\": {\n",
       "            \"fontSize\": 14\n",
       "        },\n",
       "        \"borderWidth\": 0\n",
       "    },\n",
       "    \"xAxis\": [\n",
       "        {\n",
       "            \"show\": true,\n",
       "            \"scale\": false,\n",
       "            \"nameLocation\": \"end\",\n",
       "            \"nameGap\": 15,\n",
       "            \"gridIndex\": 0,\n",
       "            \"axisLabel\": {\n",
       "                \"show\": true,\n",
       "                \"position\": \"top\",\n",
       "                \"rotate\": -90,\n",
       "                \"margin\": 8,\n",
       "                \"fontSize\": 14\n",
       "            },\n",
       "            \"inverse\": false,\n",
       "            \"offset\": 0,\n",
       "            \"splitNumber\": 5,\n",
       "            \"minInterval\": 0,\n",
       "            \"splitLine\": {\n",
       "                \"show\": false,\n",
       "                \"lineStyle\": {\n",
       "                    \"show\": true,\n",
       "                    \"width\": 1,\n",
       "                    \"opacity\": 1,\n",
       "                    \"curveness\": 0,\n",
       "                    \"type\": \"solid\"\n",
       "                }\n",
       "            },\n",
       "            \"data\": [\n",
       "                \"\\u6625\\u6c34\\u5957\\u76d2\",\n",
       "                \"\\u79cb\\u6c34\\u5957\\u76d2\",\n",
       "                \"\\u9ad8\\u673a\\u80fd\\u7cbe\\u534e\\u971c\",\n",
       "                \"\\u6d41\\u5149\\u96ea\\u598d\\u7cbe\\u8403\\u6c34\",\n",
       "                \"\\u7f8e\\u767d\\u5957\\u76d2\",\n",
       "                \"\\u767e\\u5408\\u6d01\\u9762\",\n",
       "                \"\\u9632\\u6652\\u5957\",\n",
       "                \"\\u5c0f\\u767d\\u9488\",\n",
       "                \"\\u9632\\u6652\\u55b7\\u96fe\",\n",
       "                \"\\u5065\\u5eb7\\u6c34\",\n",
       "                \"\\u9ad8\\u673a\\u80fd\\u7cbe\\u534e\\u6c34\",\n",
       "                \"\\u8212\\u5b89\\u971c\",\n",
       "                \"\\u5c0f\\u6da6\\u9762\\u819c\",\n",
       "                \"\\u517b\\u9762\\u819c\",\n",
       "                \"\\u6728\\u68a8\\u82b1\\u6d01\\u9762\\u4e73\",\n",
       "                \"\\u795b\\u6591\\u5957\",\n",
       "                \"\\u690d\\u8403\\u5378\\u5986\\u6c34\",\n",
       "                \"\\u80f6\\u539f\\u86cb\\u767d\",\n",
       "                \"\\u6728\\u68a8\\u82b1\\u6309\\u6469\\u971c\",\n",
       "                \"\\u6728\\u68a8\\u82b1\\u9762\\u819c\",\n",
       "                \"\\u71ac\\u591c\\u7cbe\\u534e\",\n",
       "                \"\\u84dd\\u5149\\u7c89\\u5e95\\u6db2\",\n",
       "                \"BB\\u971c\",\n",
       "                \"\\u6297\\u8870\\u5957\\u76d2\",\n",
       "                \"\\u55b7\\u96fe\",\n",
       "                \"\\u8212\\u5b89\\u4e73\",\n",
       "                \"\\u53cc\\u6548\\u7761\\u7720\\u9762\\u819c\",\n",
       "                \"PS\\u971c\",\n",
       "                \"\\u6d17\\u53d1\\u6c34\",\n",
       "                \"\\u6728\\u68a8\\u82b1\\u7cbe\\u534e\\u6c34\",\n",
       "                \"\\u5907\\u957f\\u70ad\\u9762\\u819c\",\n",
       "                \"\\u5976\\u6cb9\\u6c14\\u57ab\\u971c\",\n",
       "                \"\\u82b1\\u6c34\\u9762\\u819c\",\n",
       "                \"\\u6d17\\u53d1\\u9732\",\n",
       "                \"\\u6d17\\u53d1\\u6c34500g\",\n",
       "                \"\\u6c90\\u6d74\\u9732\",\n",
       "                \"\\u8eab\\u4f53\\u4e73\",\n",
       "                \"\\u517b\\u62a4\\u7259\\u818f\",\n",
       "                \"\\u8c37\\u7269\\u68d2\",\n",
       "                \"\\u773c\\u7ebf\\u6db2\",\n",
       "                \"\\u5c0f\\u767d\\u9762\\u819c\",\n",
       "                \"\\u6c34\\u6f3e\\u53d8\\u8272\\u5507\\u818f\",\n",
       "                \"\\u6e10\\u5c42\\u7709\\u7b14\",\n",
       "                \"\\u767d\\u7ba1\\u4e1d\\u7ed2\\u5507\\u818f\",\n",
       "                \"\\u4e03\\u5929\\u9762\\u819c\",\n",
       "                \"\\u661f\\u7738\\u56db\\u8272\\u773c\\u5f71\",\n",
       "                \"\\u6052\\u989c\\u7c89\\u997c01\",\n",
       "                \"\\u5fae\\u73e0\\u7cbe\\u534e\",\n",
       "                \"\\u70d9\\u8272\\u816e\\u7ea2PK01\",\n",
       "                \"\\u70d9\\u8272\\u816e\\u7ea2RD02\",\n",
       "                \"\\u81f4\\u81fb\\u6db2\\u4f53\\u5507\\u91c9\",\n",
       "                \"\\u54d1\\u5149\\u5507\\u91c9\",\n",
       "                \"\\u5355\\u652f\\u62a4\\u624b\\u971c\",\n",
       "                \"\\u767d\\u7ba1\\u661f\\u94bb\\u5507\\u818f\",\n",
       "                \"\\u8ff7\\u96fe\\u5b9a\\u5986\\u871c\\u7c89\",\n",
       "                \"\\u81f4\\u81fb\\u54d1\\u5149\\u5507\\u91c9\",\n",
       "                \"\\u6da6\\u5507\\u818f\"\n",
       "            ]\n",
       "        }\n",
       "    ],\n",
       "    \"yAxis\": [\n",
       "        {\n",
       "            \"show\": true,\n",
       "            \"scale\": false,\n",
       "            \"nameLocation\": \"end\",\n",
       "            \"nameGap\": 15,\n",
       "            \"gridIndex\": 0,\n",
       "            \"axisLine\": {\n",
       "                \"show\": false,\n",
       "                \"onZero\": true,\n",
       "                \"onZeroAxisIndex\": 0\n",
       "            },\n",
       "            \"axisLabel\": {\n",
       "                \"show\": true,\n",
       "                \"position\": \"top\",\n",
       "                \"margin\": 8,\n",
       "                \"fontSize\": 14\n",
       "            },\n",
       "            \"inverse\": false,\n",
       "            \"offset\": 0,\n",
       "            \"splitNumber\": 5,\n",
       "            \"minInterval\": 0,\n",
       "            \"splitLine\": {\n",
       "                \"show\": false,\n",
       "                \"lineStyle\": {\n",
       "                    \"show\": true,\n",
       "                    \"width\": 1,\n",
       "                    \"opacity\": 1,\n",
       "                    \"curveness\": 0,\n",
       "                    \"type\": \"solid\"\n",
       "                }\n",
       "            }\n",
       "        },\n",
       "        {\n",
       "            \"type\": \"value\",\n",
       "            \"show\": true,\n",
       "            \"scale\": false,\n",
       "            \"nameLocation\": \"end\",\n",
       "            \"nameGap\": 15,\n",
       "            \"gridIndex\": 0,\n",
       "            \"axisLine\": {\n",
       "                \"show\": false,\n",
       "                \"onZero\": true,\n",
       "                \"onZeroAxisIndex\": 0\n",
       "            },\n",
       "            \"axisLabel\": {\n",
       "                \"show\": true,\n",
       "                \"position\": \"top\",\n",
       "                \"margin\": 8,\n",
       "                \"fontSize\": 14,\n",
       "                \"formatter\": \"{value}%\"\n",
       "            },\n",
       "            \"inverse\": false,\n",
       "            \"position\": \"right\",\n",
       "            \"offset\": 0,\n",
       "            \"splitNumber\": 5,\n",
       "            \"max\": 100,\n",
       "            \"minInterval\": 0,\n",
       "            \"splitLine\": {\n",
       "                \"show\": false,\n",
       "                \"lineStyle\": {\n",
       "                    \"show\": true,\n",
       "                    \"width\": 1,\n",
       "                    \"opacity\": 1,\n",
       "                    \"curveness\": 0,\n",
       "                    \"type\": \"solid\"\n",
       "                }\n",
       "            }\n",
       "        }\n",
       "    ],\n",
       "    \"title\": [\n",
       "        {\n",
       "            \"text\": \"3\\u6708\\u4ea7\\u54c1\\u53d1\\u8d27\",\n",
       "            \"padding\": 5,\n",
       "            \"itemGap\": 10\n",
       "        }\n",
       "    ],\n",
       "    \"grid\": [\n",
       "        {\n",
       "            \"left\": \"5%\",\n",
       "            \"right\": \"20%\",\n",
       "            \"containLabel\": false\n",
       "        }\n",
       "    ]\n",
       "};\n",
       "                chart_112782711b1a4e64937b9a96053a4d62.setOption(option_112782711b1a4e64937b9a96053a4d62);\n",
       "        });\n",
       "    </script>\n"
      ],
      "text/plain": [
       "<pyecharts.render.display.HTML at 0x1a4a26c9a88>"
      ]
     },
     "execution_count": 194,
     "metadata": {},
     "output_type": "execute_result"
    }
   ],
   "source": [
    "bar = (\n",
    "    Bar()\n",
    "    .add_xaxis(df_spu_gy['spu'].tolist())\n",
    "    .extend_axis(yaxis=opts.AxisOpts(\n",
    "        max_=100,type_=\"value\", position=\"right\",axislabel_opts=opts.LabelOpts(font_size = 14,formatter=\"{value}%\"),\n",
    "        axisline_opts = opts.AxisLineOpts(is_show = False)))\n",
    "    .add_yaxis(\"发货额\", round(df_spu_gy['money'],0).tolist(),yaxis_index=0)\n",
    "    .set_global_opts(\n",
    "        title_opts=opts.TitleOpts(title=\"3月产品发货\"),\n",
    "        yaxis_opts = opts.AxisOpts(is_show = True,axislabel_opts=opts.LabelOpts(font_size = 14),axisline_opts = opts.AxisLineOpts(is_show = False)),\n",
    "        xaxis_opts = opts.AxisOpts(axislabel_opts=opts.LabelOpts(font_size = 14,rotate = -90))\n",
    "    )\n",
    "    .set_series_opts(label_opts=opts.LabelOpts(font_size = 14,is_show = False))\n",
    "                    )\n",
    "line = (\n",
    "    Line()\n",
    "    .add_xaxis(df_spu_gy['spu'].tolist())\n",
    "    .add_yaxis(\"发货额占比\",[round(n*100,2) for n in df_spu_gy['rat_m'].tolist()],yaxis_index=1,z=10)\n",
    "    .add_yaxis(\"发货数占比\",[round(n*100,2) for n in df_spu_gy['rat_c'].tolist()],yaxis_index=1,z=10)\n",
    "    .set_global_opts(\n",
    "            title_opts =opts.TitleOpts(title = ''),\n",
    "    )\n",
    "    .set_series_opts(\n",
    "            label_opts=opts.LabelOpts(font_size = 14,formatter= JsCode(\"function (params) {return params.value[1]+'%'}\"),is_show= False)\n",
    "    )        \n",
    ")\n",
    "overlap_1  = bar.overlap(line)\n",
    "grid = (Grid(init_opts = opts.InitOpts(theme=ThemeType.WONDERLAND,width='1200px',height='400px'))\n",
    "        .add(overlap_1, opts.GridOpts(pos_left=\"5%\", pos_right=\"20%\"), is_control_axis_index=True))\n",
    "grid.render_notebook()"
   ]
  },
  {
   "cell_type": "code",
   "execution_count": null,
   "metadata": {},
   "outputs": [],
   "source": []
  },
  {
   "cell_type": "markdown",
   "metadata": {},
   "source": [
    "# "
   ]
  },
  {
   "cell_type": "code",
   "execution_count": null,
   "metadata": {},
   "outputs": [],
   "source": []
  }
 ],
 "metadata": {
  "kernelspec": {
   "name": "python376jvsc74a57bd03b4baaa99ce496dc40cdfd89f552355611f9aa76aabfeef54db50a2e6c14fedd",
   "display_name": "Python 3.7.6 64-bit ('base': conda)"
  },
  "language_info": {
   "codemirror_mode": {
    "name": "ipython",
    "version": 3
   },
   "file_extension": ".py",
   "mimetype": "text/x-python",
   "name": "python",
   "nbconvert_exporter": "python",
   "pygments_lexer": "ipython3",
   "version": "3.7.6"
  }
 },
 "nbformat": 4,
 "nbformat_minor": 4
}